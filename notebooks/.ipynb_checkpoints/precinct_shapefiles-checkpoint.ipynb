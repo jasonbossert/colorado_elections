{
 "cells": [
  {
   "cell_type": "markdown",
   "metadata": {},
   "source": [
    "# Counties in Colorado"
   ]
  },
  {
   "cell_type": "code",
   "execution_count": 54,
   "metadata": {
    "ExecuteTime": {
     "end_time": "2020-03-10T15:55:33.415426Z",
     "start_time": "2020-03-10T15:55:28.953687Z"
    }
   },
   "outputs": [],
   "source": [
    "import requests\n",
    "from bs4 import BeautifulSoup\n",
    "import pandas as pd"
   ]
  },
  {
   "cell_type": "code",
   "execution_count": 8,
   "metadata": {
    "ExecuteTime": {
     "end_time": "2020-03-10T15:26:07.971134Z",
     "start_time": "2020-03-10T15:26:07.177241Z"
    }
   },
   "outputs": [
    {
     "name": "stdout",
     "output_type": "stream",
     "text": [
      "200\n"
     ]
    }
   ],
   "source": [
    "response = requests.get(\"https://en.wikipedia.org/wiki/List_of_counties_in_Colorado\")\n",
    "print(response.status_code)"
   ]
  },
  {
   "cell_type": "code",
   "execution_count": 14,
   "metadata": {
    "ExecuteTime": {
     "end_time": "2020-03-10T15:35:05.140861Z",
     "start_time": "2020-03-10T15:35:04.829662Z"
    }
   },
   "outputs": [],
   "source": [
    "soup = BeautifulSoup(response.text, 'html.parser')"
   ]
  },
  {
   "cell_type": "code",
   "execution_count": 53,
   "metadata": {
    "ExecuteTime": {
     "end_time": "2020-03-10T15:53:38.453099Z",
     "start_time": "2020-03-10T15:53:38.426383Z"
    }
   },
   "outputs": [
    {
     "name": "stdout",
     "output_type": "stream",
     "text": [
      "['001', 'Brighton', '1902-11-15', 'Split from Arapahoe County.', 'Named in honor of Alva Adams, the 5th, 10th, and 14th Governor of the State of Colorado.', '441,603', '1,182.29\\xa0sq\\xa0mi(3,062\\xa0km2)', '']\n"
     ]
    }
   ],
   "source": [
    "table = soup.find('table', {'class': \"wikitable sortable\"})\n",
    "body = table.select('tr')\n",
    "header = body[0]\n",
    "values = body[1:]\n",
    "\n",
    "col_names = [th.text.strip().split('[')[0] for th in header.select('th')]\n",
    "\n",
    "def parse_table_entry(data):\n",
    "    vals = [d.text.strip() for d in data.select('td')]\n",
    "    \n",
    "print(parse_table_entry(values[0]))"
   ]
  },
  {
   "cell_type": "markdown",
   "metadata": {},
   "source": [
    "# Shapefiles"
   ]
  },
  {
   "cell_type": "code",
   "execution_count": 50,
   "metadata": {
    "ExecuteTime": {
     "end_time": "2020-03-10T15:53:03.043418Z",
     "start_time": "2020-03-10T15:53:03.039627Z"
    }
   },
   "outputs": [
    {
     "data": {
      "text/plain": [
       "['County',\n",
       " 'FIPS code',\n",
       " 'County seat',\n",
       " 'Est.',\n",
       " 'Formed from',\n",
       " 'Etymology',\n",
       " 'Population',\n",
       " 'Area',\n",
       " 'Map']"
      ]
     },
     "execution_count": 50,
     "metadata": {},
     "output_type": "execute_result"
    }
   ],
   "source": [
    "col_names"
   ]
  },
  {
   "cell_type": "code",
   "execution_count": null,
   "metadata": {},
   "outputs": [],
   "source": []
  }
 ],
 "metadata": {
  "kernelspec": {
   "display_name": "Python 3",
   "language": "python",
   "name": "python3"
  },
  "language_info": {
   "codemirror_mode": {
    "name": "ipython",
    "version": 3
   },
   "file_extension": ".py",
   "mimetype": "text/x-python",
   "name": "python",
   "nbconvert_exporter": "python",
   "pygments_lexer": "ipython3",
   "version": "3.7.6"
  },
  "toc": {
   "base_numbering": 1,
   "nav_menu": {},
   "number_sections": true,
   "sideBar": true,
   "skip_h1_title": false,
   "title_cell": "Table of Contents",
   "title_sidebar": "Contents",
   "toc_cell": false,
   "toc_position": {},
   "toc_section_display": true,
   "toc_window_display": false
  }
 },
 "nbformat": 4,
 "nbformat_minor": 4
}
