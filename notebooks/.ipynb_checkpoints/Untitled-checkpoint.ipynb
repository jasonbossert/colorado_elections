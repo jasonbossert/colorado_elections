{
 "cells": [
  {
   "cell_type": "markdown",
   "metadata": {},
   "source": [
    "# Colorado Elections - Statewide Senator 2020\n"
   ]
  },
  {
   "cell_type": "markdown",
   "metadata": {},
   "source": [
    "# Data Sources"
   ]
  },
  {
   "cell_type": "markdown",
   "metadata": {},
   "source": [
    "Shapefiles:\n",
    "\n",
    "  * https://opendata.fcgov.com/High-Performing-Government/District-Precincts-Map/kjv4-74f4\n",
    "  * https://www.coloradoview.org/colorado-gis/\n",
    "\n",
    "Election Results:\n",
    "\n",
    "  * https://www.sos.state.co.us/pubs/elections/Results/Archives.html\n",
    "\n",
    "Registered Voters:\n",
    "\n",
    "  * http://coloradovoters.info/download.html\n",
    "\n",
    "General Data:\n",
    "\n",
    "  * https://demography.dola.colorado.gov/data/\n",
    "  * https://demography.dola.colorado.gov\n",
    "  * https://www.cde.state.co.us/stateinfo/qggovtstatistics\n"
   ]
  },
  {
   "cell_type": "code",
   "execution_count": null,
   "metadata": {},
   "outputs": [],
   "source": []
  }
 ],
 "metadata": {
  "kernelspec": {
   "display_name": "Python 3",
   "language": "python",
   "name": "python3"
  },
  "language_info": {
   "codemirror_mode": {
    "name": "ipython",
    "version": 3
   },
   "file_extension": ".py",
   "mimetype": "text/x-python",
   "name": "python",
   "nbconvert_exporter": "python",
   "pygments_lexer": "ipython3",
   "version": "3.7.6"
  },
  "toc": {
   "base_numbering": 1,
   "nav_menu": {},
   "number_sections": true,
   "sideBar": true,
   "skip_h1_title": false,
   "title_cell": "Table of Contents",
   "title_sidebar": "Contents",
   "toc_cell": false,
   "toc_position": {},
   "toc_section_display": true,
   "toc_window_display": false
  }
 },
 "nbformat": 4,
 "nbformat_minor": 4
}
