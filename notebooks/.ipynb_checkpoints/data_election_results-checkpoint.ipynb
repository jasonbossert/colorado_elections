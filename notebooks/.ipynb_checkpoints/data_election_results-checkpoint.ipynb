{
 "cells": [
  {
   "cell_type": "code",
   "execution_count": 2,
   "metadata": {
    "ExecuteTime": {
     "end_time": "2020-03-13T16:43:49.710626Z",
     "start_time": "2020-03-13T16:43:49.247798Z"
    }
   },
   "outputs": [],
   "source": [
    "import pandas as pd\n",
    "import geopandas as gpd\n",
    "import numpy as np"
   ]
  },
  {
   "cell_type": "markdown",
   "metadata": {},
   "source": [
    "# Load Raw Data"
   ]
  },
  {
   "cell_type": "code",
   "execution_count": 3,
   "metadata": {
    "ExecuteTime": {
     "end_time": "2020-03-13T16:43:50.310042Z",
     "start_time": "2020-03-13T16:43:50.307275Z"
    }
   },
   "outputs": [],
   "source": [
    "data_dir = \"../data/raw/results/\""
   ]
  },
  {
   "cell_type": "code",
   "execution_count": 4,
   "metadata": {
    "ExecuteTime": {
     "end_time": "2020-03-13T16:44:46.500801Z",
     "start_time": "2020-03-13T16:43:51.487233Z"
    }
   },
   "outputs": [],
   "source": [
    "years = [2014, 2016, 2018]\n",
    "results_2014, results_2016, results_2018 = [\n",
    "    pd.read_excel(data_dir + str(year) + \"GeneralPrecinctResults.xlsx\")\n",
    "    for year in years\n",
    "]\n",
    "\n",
    "results = [results_2014, results_2016, results_2018]"
   ]
  },
  {
   "cell_type": "code",
   "execution_count": 6,
   "metadata": {
    "ExecuteTime": {
     "end_time": "2020-03-13T16:44:46.548090Z",
     "start_time": "2020-03-13T16:44:46.503763Z"
    }
   },
   "outputs": [
    {
     "name": "stdout",
     "output_type": "stream",
     "text": [
      "<class 'pandas.core.frame.DataFrame'>\n",
      "RangeIndex: 170145 entries, 0 to 170144\n",
      "Data columns (total 11 columns):\n",
      " #   Column                  Non-Null Count   Dtype \n",
      "---  ------                  --------------   ----- \n",
      " 0   State                   170145 non-null  object\n",
      " 1   Year                    170145 non-null  int64 \n",
      " 2   Election Type           170145 non-null  object\n",
      " 3   County                  170145 non-null  object\n",
      " 4   Precinct                170145 non-null  int64 \n",
      " 5   Office/Issue/Judgeship  170145 non-null  object\n",
      " 6   Candidate               129377 non-null  object\n",
      " 7   Party                   86795 non-null   object\n",
      " 8   Candidate Votes         170145 non-null  int64 \n",
      " 9   Yes Votes               170145 non-null  int64 \n",
      " 10  No Votes                170145 non-null  int64 \n",
      "dtypes: int64(5), object(6)\n",
      "memory usage: 14.3+ MB\n"
     ]
    }
   ],
   "source": [
    "results_2018.info()"
   ]
  },
  {
   "cell_type": "code",
   "execution_count": 9,
   "metadata": {},
   "outputs": [
    {
     "name": "stdout",
     "output_type": "stream",
     "text": [
      "<class 'pandas.core.frame.DataFrame'>\n",
      "RangeIndex: 226031 entries, 0 to 226030\n",
      "Data columns (total 11 columns):\n",
      " #   Column                  Non-Null Count   Dtype  \n",
      "---  ------                  --------------   -----  \n",
      " 0   State                   226031 non-null  object \n",
      " 1   Year                    226031 non-null  int64  \n",
      " 2   Election Type           226031 non-null  object \n",
      " 3   County                  226031 non-null  object \n",
      " 4   Precinct                226031 non-null  object \n",
      " 5   Office/Issue/Judgeship  226031 non-null  object \n",
      " 6   Candidate               197259 non-null  object \n",
      " 7   Party                   142762 non-null  object \n",
      " 8   Candidate Votes         226031 non-null  int64  \n",
      " 9   Yes Votes               226021 non-null  float64\n",
      " 10  No Votes                226021 non-null  float64\n",
      "dtypes: float64(2), int64(2), object(7)\n",
      "memory usage: 19.0+ MB\n"
     ]
    }
   ],
   "source": [
    "results_2016.info()"
   ]
  },
  {
   "cell_type": "code",
   "execution_count": 10,
   "metadata": {},
   "outputs": [
    {
     "name": "stdout",
     "output_type": "stream",
     "text": [
      "<class 'pandas.core.frame.DataFrame'>\n",
      "RangeIndex: 148480 entries, 0 to 148479\n",
      "Data columns (total 11 columns):\n",
      " #   Column                  Non-Null Count   Dtype \n",
      "---  ------                  --------------   ----- \n",
      " 0   State                   148480 non-null  object\n",
      " 1   Year                    148480 non-null  int64 \n",
      " 2   Election Type           148480 non-null  object\n",
      " 3   County                  148480 non-null  object\n",
      " 4   Precinct                148480 non-null  object\n",
      " 5   Office/Issue/Judgeship  148480 non-null  object\n",
      " 6   Candidate               136820 non-null  object\n",
      " 7   Party                   97432 non-null   object\n",
      " 8   Candidate Votes         148480 non-null  int64 \n",
      " 9   Yes Votes               148480 non-null  int64 \n",
      " 10  No Votes                148480 non-null  int64 \n",
      "dtypes: int64(4), object(7)\n",
      "memory usage: 12.5+ MB\n"
     ]
    }
   ],
   "source": [
    "results_2014.info()"
   ]
  },
  {
   "cell_type": "markdown",
   "metadata": {},
   "source": [
    "# Clean Data"
   ]
  },
  {
   "cell_type": "code",
   "execution_count": null,
   "metadata": {},
   "outputs": [],
   "source": []
  },
  {
   "cell_type": "code",
   "execution_count": null,
   "metadata": {},
   "outputs": [],
   "source": []
  },
  {
   "cell_type": "markdown",
   "metadata": {},
   "source": [
    "# Extract Meaningful Variables"
   ]
  },
  {
   "cell_type": "markdown",
   "metadata": {},
   "source": [
    "I want\n",
    "\n",
    "\"State Representative\"\n",
    "\"State Senate\"\n",
    "\"United States Representative\"\n",
    "\"United States Senator\"\n",
    "\"President/Vice President\""
   ]
  },
  {
   "cell_type": "code",
   "execution_count": 144,
   "metadata": {},
   "outputs": [],
   "source": [
    "races = {\"State Representative\": \"state_rep\",\n",
    "         \"State Senate\": \"state_senate\",\n",
    "         \"United States Representative\": \"us_rep\",\n",
    "         \"United States Senator\": \"us_senate\",\n",
    "         \"President/Vice President\": \"pres\"}"
   ]
  },
  {
   "cell_type": "code",
   "execution_count": 147,
   "metadata": {},
   "outputs": [],
   "source": [
    "def trim_to_relevant_races(df, races):\n",
    "    drop_idxs = (df.loc[df[\"Office/Issue/Judgeship\"]\n",
    "                   .apply(lambda x: x.split('-')[0].strip())\n",
    "                   .apply(lambda x: x not in races)].index)\n",
    "    results_target = (df.drop(drop_idxs)\n",
    "                        .drop(columns=[\"Yes Votes\", \"No Votes\", \"State\", \"Year\", \"Election Type\", \"County\"])\n",
    "                        .rename(columns={\"Office/Issue/Judgeship\": \"Office\"})\n",
    "                        .assign(Office = lambda x: x.Office.apply(lambda x: races[x.split('-')[0].strip()])))\n",
    "    return results_target"
   ]
  },
  {
   "cell_type": "code",
   "execution_count": 148,
   "metadata": {},
   "outputs": [],
   "source": [
    "res_race_2014 = trim_to_relevant_races(results_2014, races)\n",
    "res_race_2016 = trim_to_relevant_races(results_2016, races)\n",
    "res_race_2018 = trim_to_relevant_races(results_2018, races)"
   ]
  },
  {
   "cell_type": "markdown",
   "metadata": {},
   "source": [
    "# Find Significant Parties"
   ]
  },
  {
   "cell_type": "code",
   "execution_count": 128,
   "metadata": {},
   "outputs": [],
   "source": [
    "def find_relevant_parties(df, office, threshold):\n",
    "    party_vals = (df[df.Office == office]\n",
    "                      .groupby(\"Party\")\n",
    "                      .sum()\n",
    "                      .sort_values(by=\"Candidate Votes\", ascending=False))\n",
    "    party_vals[\"Candidate Votes\"] = party_vals[\"Candidate Votes\"]/party_vals[\"Candidate Votes\"].sum()\n",
    "    return party_vals[party_vals[\"Candidate Votes\"] > threshold]"
   ]
  },
  {
   "cell_type": "code",
   "execution_count": 129,
   "metadata": {},
   "outputs": [
    {
     "name": "stdout",
     "output_type": "stream",
     "text": [
      "State Representative\n",
      "                   Candidate Votes\n",
      "Party                             \n",
      "Republican Party          0.492664\n",
      "Democratic Party          0.478258\n",
      "Libertarian Party         0.020334\n",
      "Unaffiliated              0.008027\n",
      "\n",
      "\n",
      "State Senate\n",
      "                   Candidate Votes\n",
      "Party                             \n",
      "Democratic Party          0.534378\n",
      "Republican Party          0.445282\n",
      "Libertarian Party         0.020339\n",
      "\n",
      "\n",
      "United States Representative\n",
      "                   Candidate Votes\n",
      "Party                             \n",
      "Republican Party          0.476991\n",
      "Democratic Party          0.467800\n",
      "Libertarian Party         0.053076\n",
      "Green Party               0.002088\n",
      "\n",
      "\n",
      "United States Senator\n",
      "                         Candidate Votes\n",
      "Party                                   \n",
      "Democratic Party                0.499707\n",
      "Republican Party                0.443057\n",
      "Libertarian Party               0.036192\n",
      "Green Party                     0.013418\n",
      "Unaffiliated                    0.004223\n",
      "Unity Party of Colorado         0.003404\n",
      "\n",
      "\n",
      "President/Vice President\n",
      "                             Candidate Votes\n",
      "Party                                       \n",
      "Democratic Party                    0.481565\n",
      "Republican Party                    0.432514\n",
      "Libertarian Party                   0.051837\n",
      "Green Party                         0.013825\n",
      "Unaffiliated                        0.011327\n",
      "American Constitution Party         0.004208\n",
      "Veterans Party of America           0.001808\n",
      "\n",
      "\n"
     ]
    }
   ],
   "source": [
    "for target in target_vars:\n",
    "    print(target)\n",
    "    print(find_relevant_parties(res_target_2016, target, 0.001))\n",
    "    print(\"\\n\")"
   ]
  },
  {
   "cell_type": "markdown",
   "metadata": {},
   "source": [
    "Okay, the parties I am interested in are those that have more than about a percent of the vote."
   ]
  },
  {
   "cell_type": "code",
   "execution_count": 150,
   "metadata": {},
   "outputs": [],
   "source": [
    "parties = {\n",
    "    \"Democratic Party\": 'dem',\n",
    "    \"Republican Party\": 'rep',\n",
    "    \"Libertarian Party\": 'lib',\n",
    "    \"Green Party\": 'grn',\n",
    "    \"Unaffiliated\": 'unf'\n",
    "}"
   ]
  },
  {
   "cell_type": "code",
   "execution_count": 155,
   "metadata": {},
   "outputs": [],
   "source": [
    "def trim_to_relevant_parties(df, parties):\n",
    "    drop_idx = df.loc[df[\"Party\"].apply(lambda x: x not in parties)].index\n",
    "    new_df = (df.drop(drop_idx, axis=0)\n",
    "                .assign(Party = lambda x: x.Party.apply(lambda x: parties[x])))\n",
    "    return new_df"
   ]
  },
  {
   "cell_type": "code",
   "execution_count": 156,
   "metadata": {},
   "outputs": [],
   "source": [
    "res_race_party_2014 = trim_to_relevant_parties(res_race_2014, parties)\n",
    "res_race_party_2016 = trim_to_relevant_parties(res_race_2016, parties)\n",
    "res_race_party_2018 = trim_to_relevant_parties(res_race_2018, parties)"
   ]
  },
  {
   "cell_type": "markdown",
   "metadata": {},
   "source": [
    "# Format Data by Precinct"
   ]
  },
  {
   "cell_type": "code",
   "execution_count": 176,
   "metadata": {},
   "outputs": [],
   "source": [
    "def reshape_to_precinct_vals(df):\n",
    "    final = (df.groupby([\"Precinct\", \"Office\", \"Party\"])\n",
    "               .sum()\n",
    "               .unstack(level=[\"Office\",\"Party\",])\n",
    "               .fillna(0)\n",
    "               .astype(int))\n",
    "    final.columns = [race+\" \"+party for (cv, race, party) in final.columns]\n",
    "    return final"
   ]
  },
  {
   "cell_type": "code",
   "execution_count": 177,
   "metadata": {},
   "outputs": [],
   "source": [
    "res_final_2014 = reshape_to_precinct_vals(res_race_party_2014)\n",
    "res_final_2016 = reshape_to_precinct_vals(res_race_party_2016)\n",
    "res_final_2018 = reshape_to_precinct_vals(res_race_party_2018)"
   ]
  },
  {
   "cell_type": "code",
   "execution_count": 178,
   "metadata": {},
   "outputs": [
    {
     "data": {
      "text/html": [
       "<div>\n",
       "<style scoped>\n",
       "    .dataframe tbody tr th:only-of-type {\n",
       "        vertical-align: middle;\n",
       "    }\n",
       "\n",
       "    .dataframe tbody tr th {\n",
       "        vertical-align: top;\n",
       "    }\n",
       "\n",
       "    .dataframe thead th {\n",
       "        text-align: right;\n",
       "    }\n",
       "</style>\n",
       "<table border=\"1\" class=\"dataframe\">\n",
       "  <thead>\n",
       "    <tr style=\"text-align: right;\">\n",
       "      <th></th>\n",
       "      <th>state_rep dem</th>\n",
       "      <th>state_rep lib</th>\n",
       "      <th>state_rep rep</th>\n",
       "      <th>state_senate dem</th>\n",
       "      <th>state_senate lib</th>\n",
       "      <th>state_senate rep</th>\n",
       "      <th>us_rep dem</th>\n",
       "      <th>us_rep lib</th>\n",
       "      <th>us_rep rep</th>\n",
       "      <th>us_rep grn</th>\n",
       "      <th>state_rep unf</th>\n",
       "      <th>us_rep unf</th>\n",
       "      <th>state_senate unf</th>\n",
       "    </tr>\n",
       "    <tr>\n",
       "      <th>Precinct</th>\n",
       "      <th></th>\n",
       "      <th></th>\n",
       "      <th></th>\n",
       "      <th></th>\n",
       "      <th></th>\n",
       "      <th></th>\n",
       "      <th></th>\n",
       "      <th></th>\n",
       "      <th></th>\n",
       "      <th></th>\n",
       "      <th></th>\n",
       "      <th></th>\n",
       "      <th></th>\n",
       "    </tr>\n",
       "  </thead>\n",
       "  <tbody>\n",
       "    <tr>\n",
       "      <th>1160116112</th>\n",
       "      <td>489</td>\n",
       "      <td>35</td>\n",
       "      <td>259</td>\n",
       "      <td>506</td>\n",
       "      <td>20</td>\n",
       "      <td>263</td>\n",
       "      <td>498</td>\n",
       "      <td>37</td>\n",
       "      <td>266</td>\n",
       "      <td>0</td>\n",
       "      <td>0</td>\n",
       "      <td>0</td>\n",
       "      <td>0</td>\n",
       "    </tr>\n",
       "    <tr>\n",
       "      <th>1160116113</th>\n",
       "      <td>499</td>\n",
       "      <td>20</td>\n",
       "      <td>251</td>\n",
       "      <td>511</td>\n",
       "      <td>23</td>\n",
       "      <td>249</td>\n",
       "      <td>511</td>\n",
       "      <td>24</td>\n",
       "      <td>241</td>\n",
       "      <td>0</td>\n",
       "      <td>0</td>\n",
       "      <td>0</td>\n",
       "      <td>0</td>\n",
       "    </tr>\n",
       "    <tr>\n",
       "      <th>1160116114</th>\n",
       "      <td>557</td>\n",
       "      <td>33</td>\n",
       "      <td>284</td>\n",
       "      <td>566</td>\n",
       "      <td>28</td>\n",
       "      <td>288</td>\n",
       "      <td>581</td>\n",
       "      <td>30</td>\n",
       "      <td>276</td>\n",
       "      <td>0</td>\n",
       "      <td>0</td>\n",
       "      <td>0</td>\n",
       "      <td>0</td>\n",
       "    </tr>\n",
       "    <tr>\n",
       "      <th>1160116120</th>\n",
       "      <td>611</td>\n",
       "      <td>41</td>\n",
       "      <td>277</td>\n",
       "      <td>641</td>\n",
       "      <td>30</td>\n",
       "      <td>272</td>\n",
       "      <td>632</td>\n",
       "      <td>38</td>\n",
       "      <td>273</td>\n",
       "      <td>0</td>\n",
       "      <td>0</td>\n",
       "      <td>0</td>\n",
       "      <td>0</td>\n",
       "    </tr>\n",
       "    <tr>\n",
       "      <th>1160116122</th>\n",
       "      <td>506</td>\n",
       "      <td>35</td>\n",
       "      <td>373</td>\n",
       "      <td>524</td>\n",
       "      <td>19</td>\n",
       "      <td>380</td>\n",
       "      <td>528</td>\n",
       "      <td>22</td>\n",
       "      <td>370</td>\n",
       "      <td>0</td>\n",
       "      <td>0</td>\n",
       "      <td>0</td>\n",
       "      <td>0</td>\n",
       "    </tr>\n",
       "  </tbody>\n",
       "</table>\n",
       "</div>"
      ],
      "text/plain": [
       "            state_rep dem  state_rep lib  state_rep rep  state_senate dem  \\\n",
       "Precinct                                                                    \n",
       "1160116112            489             35            259               506   \n",
       "1160116113            499             20            251               511   \n",
       "1160116114            557             33            284               566   \n",
       "1160116120            611             41            277               641   \n",
       "1160116122            506             35            373               524   \n",
       "\n",
       "            state_senate lib  state_senate rep  us_rep dem  us_rep lib  \\\n",
       "Precinct                                                                 \n",
       "1160116112                20               263         498          37   \n",
       "1160116113                23               249         511          24   \n",
       "1160116114                28               288         581          30   \n",
       "1160116120                30               272         632          38   \n",
       "1160116122                19               380         528          22   \n",
       "\n",
       "            us_rep rep  us_rep grn  state_rep unf  us_rep unf  \\\n",
       "Precinct                                                        \n",
       "1160116112         266           0              0           0   \n",
       "1160116113         241           0              0           0   \n",
       "1160116114         276           0              0           0   \n",
       "1160116120         273           0              0           0   \n",
       "1160116122         370           0              0           0   \n",
       "\n",
       "            state_senate unf  \n",
       "Precinct                      \n",
       "1160116112                 0  \n",
       "1160116113                 0  \n",
       "1160116114                 0  \n",
       "1160116120                 0  \n",
       "1160116122                 0  "
      ]
     },
     "execution_count": 178,
     "metadata": {},
     "output_type": "execute_result"
    }
   ],
   "source": [
    "res_final_2018.head()"
   ]
  },
  {
   "cell_type": "markdown",
   "metadata": {},
   "source": [
    "# Save"
   ]
  },
  {
   "cell_type": "code",
   "execution_count": 179,
   "metadata": {},
   "outputs": [],
   "source": [
    "res_final_2014.to_csv(\"../data/processed/results/results_2014.csv\")\n",
    "res_final_2016.to_csv(\"../data/processed/results/results_2016.csv\")\n",
    "res_final_2018.to_csv(\"../data/processed/results/results_2018.csv\")"
   ]
  },
  {
   "cell_type": "code",
   "execution_count": null,
   "metadata": {},
   "outputs": [],
   "source": []
  }
 ],
 "metadata": {
  "kernelspec": {
   "display_name": "Python 3",
   "language": "python",
   "name": "python3"
  },
  "language_info": {
   "codemirror_mode": {
    "name": "ipython",
    "version": 3
   },
   "file_extension": ".py",
   "mimetype": "text/x-python",
   "name": "python",
   "nbconvert_exporter": "python",
   "pygments_lexer": "ipython3",
   "version": "3.7.6"
  },
  "toc": {
   "base_numbering": 1,
   "nav_menu": {},
   "number_sections": true,
   "sideBar": true,
   "skip_h1_title": false,
   "title_cell": "Table of Contents",
   "title_sidebar": "Contents",
   "toc_cell": false,
   "toc_position": {},
   "toc_section_display": true,
   "toc_window_display": false
  }
 },
 "nbformat": 4,
 "nbformat_minor": 4
}
