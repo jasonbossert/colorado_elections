{
 "cells": [
  {
   "cell_type": "markdown",
   "metadata": {},
   "source": [
    "2010 block data scaled by 5yr ACM block group data assuming that the demographic distribution between blocks within a block group does not change."
   ]
  },
  {
   "cell_type": "markdown",
   "metadata": {},
   "source": [
    "Get Block from lat/long: https://www.fcc.gov/general/census-block-conversions-api-v100\n",
    "\n"
   ]
  },
  {
   "cell_type": "markdown",
   "metadata": {},
   "source": [
    "What variables do we want to track?\n",
    "\n",
    "https://www.jstor.org/stable/586227?seq=1: https://deepblue.lib.umich.edu/bitstream/handle/2027.42/45484/11109_2004_Article_BF00991978.pdf;sequence=1\n",
    "\n",
    "https://msaag.aag.org/wp-content/uploads/2013/04/3_Klos.pdf\n",
    "\n",
    "\n",
    "Variabels:\n",
    "https://api.census.gov/data/2010/dec/sf1/variables.html\n",
    "\n",
    "Considerations: \n",
    "  * Variables are present for both the decennial and the ACM 5.\n",
    "  \n",
    "  \n",
    "From: https://www.icpsr.umich.edu/icpsrweb/instructors/setups2012/voting.jsp  \n",
    "  * Race and ethnicity. Minority groups, especially Blacks, are more Democratic in their voting than are Whites.\n",
    "  * Social class or socio-economic status. Those who are better off in income or socio-economic status are more Republican than are those who are worse off.\n",
    "  * Religion. Those who are more religious are more Republican than those who are less religious. In the past, White Catholics and Protestants differed considerably in their voting, but that distinction has declined in significance.\n",
    "  * Region. Voters in the South, Great Plains, and Rocky Mountains regions are more Republican, while those in the Northeast and on the Pacific Coast are more Democratic.\n",
    "  * Gender. Women are more Democratic than are men.\n",
    "  * Marital status. Married individuals are more Republican than are single individuals.\n",
    "  * Age. Younger voters are more Democratic than are older voters."
   ]
  },
  {
   "cell_type": "markdown",
   "metadata": {},
   "source": [
    "|SF1|ACS5|Reason|Description|\n",
    "|-----|-----|-----|-----|\n",
    "|H001001|B25001_001E|Housing Units: Total|\n",
    "|H002002|None|Housing Units: Urban|\n",
    "|H002005|None|Housing Units: Rural|\n",
    "|H003002|B25002_002E|Occupancy: Occupied|\n",
    "|H003003|B25002_003E|Occupancy: Vacant|\n",
    "|H004002|B25003_002E|Owned with mortgage or loan|\n",
    "|H004003|B25003_002E|Owned outright|\n",
    "|H004004|B25003_003E|Renter occupied|\n",
    "|H006002-8|B25006_008E|Race of Householder|\n",
    "|H007010||Householder identifies as hispanic or latino origin|\n",
    "|H012002||Average tenure, owner|\n",
    "|H012003||Average tenure, renter|\n",
    "|H013002-8||Household size|\n",
    "|P001001|B01003_001E|Total population|\n",
    "|P002002||Total urban|\n",
    "|P002005||total rural|\n",
    "|P003002-8|B02001_002-8E|Races|\n",
    "|P004003|B03003_003E|Total Hispanic|\n",
    "|P012002-49|B01001_02-49E|sex by age|\n",
    "|P018002-9|B11001_002-9E|Household type|\n",
    "|P038002|B11003_002E|Husband-wife family|\n",
    "|P03803|B11003_003E|Husband-wife, own kids under 18|"
   ]
  },
  {
   "cell_type": "code",
   "execution_count": 1,
   "metadata": {
    "ExecuteTime": {
     "end_time": "2020-03-19T15:48:44.613177Z",
     "start_time": "2020-03-19T15:48:44.603964Z"
    }
   },
   "outputs": [],
   "source": [
    "variables = {\n",
    "    \"H001001\": (\"\", \"\"),\n",
    "    \"H002002\": (\"\", \"\"),\n",
    "    \"\": (\"\", \"\"),\n",
    "    \"\": (\"\", \"\"),\n",
    "    \"\": (\"\", \"\"),\n",
    "    \"\": (\"\", \"\"),\n",
    "    \"\": (\"\", \"\"),\n",
    "    \"\": (\"\", \"\"),\n",
    "    \"\": (\"\", \"\"),\n",
    "    \"\": (\"\", \"\"),\n",
    "    \"\": (\"\", \"\"),\n",
    "    \"\": (\"\", \"\"),\n",
    "    \"\": (\"\", \"\"),\n",
    "    \"\": (\"\", \"\"),\n",
    "    \"\": (\"\", \"\"),\n",
    "    \"\": (\"\", \"\"),\n",
    "    \"\": (\"\", \"\"),\n",
    "    \"\": (\"\", \"\"),\n",
    "    \"\": (\"\", \"\"),\n",
    "    \"\": (\"\", \"\"),\n",
    "    \"\": (\"\", \"\"),\n",
    "    \"\": (\"\", \"\"),\n",
    "    \"\": (\"\", \"\"),\n",
    "    \"\": (\"\", \"\"),\n",
    "    \"\": (\"\", \"\"),\n",
    "    \"\": (\"\", \"\"),\n",
    "    \"\": (\"\", \"\"),\n",
    "    \"\": (\"\", \"\"),\n",
    "    \"\": (\"\", \"\"),\n",
    "    \"\": (\"\", \"\"),\n",
    "    \"\": (\"\", \"\"),\n",
    "    \"\": (\"\", \"\"),\n",
    "    \"\": (\"\", \"\"),\n",
    "    \"\": (\"\", \"\"),\n",
    "    \"\": (\"\", \"\"),\n",
    "    \"\": (\"\", \"\"),\n",
    "    \"\": (\"\", \"\"),\n",
    "    \"\": (\"\", \"\"),\n",
    "    \"\": (\"\", \"\"),\n",
    "    \"\": (\"\", \"\"),\n",
    "    \"\": (\"\", \"\"),\n",
    "    \"\": (\"\", \"\"),\n",
    "    \"\": (\"\", \"\"),\n",
    "    \"\": (\"\", \"\"),\n",
    "    \"\": (\"\", \"\"),\n",
    "}"
   ]
  },
  {
   "cell_type": "code",
   "execution_count": 2,
   "metadata": {
    "ExecuteTime": {
     "end_time": "2020-03-19T15:48:46.441156Z",
     "start_time": "2020-03-19T15:48:45.302129Z"
    }
   },
   "outputs": [],
   "source": [
    "import time\n",
    "\n",
    "import requests\n",
    "import numpy as np\n",
    "import pandas as pd\n",
    "import geopandas as gpd"
   ]
  },
  {
   "cell_type": "markdown",
   "metadata": {},
   "source": [
    "# Figure out the API"
   ]
  },
  {
   "cell_type": "code",
   "execution_count": 3,
   "metadata": {
    "ExecuteTime": {
     "end_time": "2020-03-19T15:48:49.085514Z",
     "start_time": "2020-03-19T15:48:49.079496Z"
    }
   },
   "outputs": [],
   "source": [
    "api_root = \"https://api.census.gov/data/2010/dec/sf1?\"\n",
    "variables = [\"P001001\", \"H001001\", \"NAME\"]\n",
    "for_block = {\"block\": \"*\"}\n",
    "in_block = {\"state\": \"08\",\n",
    "            \"county\": \"013\"}\n",
    "api_key = \"b19b387a819c219d7e4f0569c1ef8c5e3b237ace\"\n",
    "\n",
    "def block_substring(block):\n",
    "    return \"%20\".join([key+\":\"+block[key] for key in block])\n",
    "\n",
    "def compose_request_str(api_root, variables, for_block, in_block, key):\n",
    "    request = (api_root + \n",
    "               \"get=\" + \",\".join(variables) + \n",
    "               \"&for=\" + block_substring(for_block) + \n",
    "               \"&in=\" + block_substring(in_block) + \n",
    "               \"&key=\" + key )\n",
    "    return request"
   ]
  },
  {
   "cell_type": "code",
   "execution_count": 4,
   "metadata": {
    "ExecuteTime": {
     "end_time": "2020-03-19T15:49:43.972457Z",
     "start_time": "2020-03-19T15:48:50.167450Z"
    }
   },
   "outputs": [
    {
     "data": {
      "text/plain": [
       "200"
      ]
     },
     "execution_count": 4,
     "metadata": {},
     "output_type": "execute_result"
    }
   ],
   "source": [
    "response = requests.get(\n",
    "    compose_request_str(api_root, variables, for_block, in_block, api_key)\n",
    ")\n",
    "response.status_code"
   ]
  },
  {
   "cell_type": "code",
   "execution_count": 5,
   "metadata": {
    "ExecuteTime": {
     "end_time": "2020-03-19T15:49:43.998593Z",
     "start_time": "2020-03-19T15:49:43.974578Z"
    }
   },
   "outputs": [],
   "source": [
    "df = pd.DataFrame(data=response.json()[1:], columns=response.json()[0])"
   ]
  },
  {
   "cell_type": "code",
   "execution_count": 6,
   "metadata": {
    "ExecuteTime": {
     "end_time": "2020-03-19T15:49:44.016738Z",
     "start_time": "2020-03-19T15:49:44.001219Z"
    }
   },
   "outputs": [
    {
     "name": "stdout",
     "output_type": "stream",
     "text": [
      "<class 'pandas.core.frame.DataFrame'>\n",
      "RangeIndex: 7368 entries, 0 to 7367\n",
      "Data columns (total 7 columns):\n",
      " #   Column   Non-Null Count  Dtype \n",
      "---  ------   --------------  ----- \n",
      " 0   P001001  7368 non-null   object\n",
      " 1   H001001  7368 non-null   object\n",
      " 2   NAME     7368 non-null   object\n",
      " 3   state    7368 non-null   object\n",
      " 4   county   7368 non-null   object\n",
      " 5   tract    7368 non-null   object\n",
      " 6   block    7368 non-null   object\n",
      "dtypes: object(7)\n",
      "memory usage: 403.1+ KB\n"
     ]
    }
   ],
   "source": [
    "df.info()"
   ]
  },
  {
   "cell_type": "markdown",
   "metadata": {},
   "source": [
    "# Get State Data"
   ]
  },
  {
   "cell_type": "markdown",
   "metadata": {},
   "source": [
    "## Get list of counties"
   ]
  },
  {
   "cell_type": "code",
   "execution_count": 7,
   "metadata": {
    "ExecuteTime": {
     "end_time": "2020-03-19T15:49:58.873091Z",
     "start_time": "2020-03-19T15:49:53.537696Z"
    }
   },
   "outputs": [],
   "source": [
    "precincts = gpd.read_file(\"../data/processed/precincts/precincts_2018.geojson\")"
   ]
  },
  {
   "cell_type": "code",
   "execution_count": 8,
   "metadata": {
    "ExecuteTime": {
     "end_time": "2020-03-19T15:49:59.566918Z",
     "start_time": "2020-03-19T15:49:59.563482Z"
    }
   },
   "outputs": [],
   "source": [
    "county_fips = sorted(list(set(precincts.COUNTYFP.values)))"
   ]
  },
  {
   "cell_type": "code",
   "execution_count": 9,
   "metadata": {
    "ExecuteTime": {
     "end_time": "2020-03-19T15:50:02.042312Z",
     "start_time": "2020-03-19T15:50:02.036792Z"
    }
   },
   "outputs": [],
   "source": [
    "def scan_county():\n",
    "    data = pd.DataFrame()\n",
    "    for i, county in enumerate(county_fips):\n",
    "        in_block[\"county\"] = county\n",
    "        t1 = time.time()\n",
    "        response = requests.get(\n",
    "            compose_request_str(api_root, variables, for_block, in_block, api_key)\n",
    "            )\n",
    "        t2 = time.time()\n",
    "        print(f\"{i}/{len(county_fips)}: {county}, {response.status_code}, \"\n",
    "              f\"{len(response.json())}, dt = {t2-t1:.3F}\")\n",
    "        df = pd.DataFrame(data=response.json()[1:], columns=response.json()[0])\n",
    "        data = data.append(df)\n",
    "    return data"
   ]
  },
  {
   "cell_type": "markdown",
   "metadata": {},
   "source": [
    "## Get All Blocks in CO"
   ]
  },
  {
   "cell_type": "code",
   "execution_count": 10,
   "metadata": {
    "ExecuteTime": {
     "end_time": "2020-03-19T16:05:34.754887Z",
     "start_time": "2020-03-19T15:50:15.851365Z"
    }
   },
   "outputs": [
    {
     "name": "stdout",
     "output_type": "stream",
     "text": [
      "0/64: 001, 200, 10352, dt = 86.228\n",
      "1/64: 003, 200, 1126, dt = 2.807\n",
      "2/64: 005, 200, 9119, dt = 5.108\n",
      "3/64: 007, 200, 1184, dt = 2.845\n",
      "4/64: 009, 200, 1189, dt = 10.006\n",
      "5/64: 011, 200, 1139, dt = 10.955\n",
      "6/64: 013, 200, 7369, dt = 3.945\n",
      "7/64: 014, 200, 1420, dt = 2.938\n",
      "8/64: 015, 200, 1899, dt = 16.081\n",
      "9/64: 017, 200, 613, dt = 6.936\n",
      "10/64: 019, 200, 1484, dt = 3.037\n",
      "11/64: 021, 200, 1151, dt = 2.976\n",
      "12/64: 023, 200, 2834, dt = 22.985\n",
      "13/64: 025, 200, 538, dt = 7.008\n",
      "14/64: 027, 200, 1207, dt = 3.949\n",
      "15/64: 029, 200, 1990, dt = 3.938\n",
      "16/64: 031, 200, 11040, dt = 65.938\n",
      "17/64: 033, 200, 674, dt = 7.999\n",
      "18/64: 035, 200, 5569, dt = 3.733\n",
      "19/64: 037, 200, 3687, dt = 24.222\n",
      "20/64: 039, 200, 1119, dt = 10.950\n",
      "21/64: 041, 200, 18691, dt = 137.939\n",
      "22/64: 043, 200, 3286, dt = 3.991\n",
      "23/64: 045, 200, 4330, dt = 3.860\n",
      "24/64: 047, 200, 836, dt = 9.001\n",
      "25/64: 049, 200, 2750, dt = 21.959\n",
      "26/64: 051, 200, 3629, dt = 3.978\n",
      "27/64: 053, 200, 510, dt = 2.971\n",
      "28/64: 055, 200, 2025, dt = 18.048\n",
      "29/64: 057, 200, 1081, dt = 10.925\n",
      "30/64: 059, 200, 10140, dt = 6.017\n",
      "31/64: 061, 200, 674, dt = 7.905\n",
      "32/64: 063, 200, 1383, dt = 12.875\n",
      "33/64: 065, 200, 947, dt = 2.943\n",
      "34/64: 067, 200, 2929, dt = 21.031\n",
      "35/64: 069, 200, 10977, dt = 77.999\n",
      "36/64: 071, 200, 2765, dt = 3.941\n",
      "37/64: 073, 200, 1459, dt = 3.953\n",
      "38/64: 075, 200, 2524, dt = 21.054\n",
      "39/64: 077, 200, 5553, dt = 36.821\n",
      "40/64: 079, 200, 430, dt = 2.931\n",
      "41/64: 081, 200, 2276, dt = 13.971\n",
      "42/64: 083, 200, 2650, dt = 3.945\n",
      "43/64: 085, 200, 3078, dt = 6.005\n",
      "44/64: 087, 200, 2300, dt = 19.132\n",
      "45/64: 089, 200, 3171, dt = 2.797\n",
      "46/64: 091, 200, 741, dt = 2.851\n",
      "47/64: 093, 200, 2760, dt = 20.011\n",
      "48/64: 095, 200, 1004, dt = 8.969\n",
      "49/64: 097, 200, 1165, dt = 6.906\n",
      "50/64: 099, 200, 2058, dt = 3.961\n",
      "51/64: 101, 200, 7857, dt = 7.042\n",
      "52/64: 103, 200, 2268, dt = 18.980\n",
      "53/64: 105, 200, 1489, dt = 12.961\n",
      "54/64: 107, 200, 2611, dt = 3.952\n",
      "55/64: 109, 200, 1672, dt = 2.854\n",
      "56/64: 111, 200, 286, dt = 5.045\n",
      "57/64: 113, 200, 1192, dt = 10.859\n",
      "58/64: 115, 200, 737, dt = 7.122\n",
      "59/64: 117, 200, 2160, dt = 3.823\n",
      "60/64: 119, 200, 1836, dt = 3.925\n",
      "61/64: 121, 200, 1394, dt = 10.176\n",
      "62/64: 123, 200, 9902, dt = 6.840\n",
      "63/64: 125, 200, 2897, dt = 19.897\n"
     ]
    }
   ],
   "source": [
    "for_block = {\"block\": \"*\"}\n",
    "blocks = scan_county()"
   ]
  },
  {
   "cell_type": "code",
   "execution_count": 11,
   "metadata": {
    "ExecuteTime": {
     "end_time": "2020-03-19T16:05:34.853211Z",
     "start_time": "2020-03-19T16:05:34.757489Z"
    }
   },
   "outputs": [
    {
     "name": "stdout",
     "output_type": "stream",
     "text": [
      "<class 'pandas.core.frame.DataFrame'>\n",
      "Int64Index: 201062 entries, 0 to 2895\n",
      "Data columns (total 7 columns):\n",
      " #   Column   Non-Null Count   Dtype \n",
      "---  ------   --------------   ----- \n",
      " 0   P001001  201062 non-null  object\n",
      " 1   H001001  201062 non-null  object\n",
      " 2   NAME     201062 non-null  object\n",
      " 3   state    201062 non-null  object\n",
      " 4   county   201062 non-null  object\n",
      " 5   tract    201062 non-null  object\n",
      " 6   block    201062 non-null  object\n",
      "dtypes: object(7)\n",
      "memory usage: 12.3+ MB\n"
     ]
    }
   ],
   "source": [
    "blocks.info()"
   ]
  },
  {
   "cell_type": "code",
   "execution_count": 14,
   "metadata": {
    "ExecuteTime": {
     "end_time": "2020-03-19T16:12:48.243973Z",
     "start_time": "2020-03-19T16:12:47.470353Z"
    }
   },
   "outputs": [],
   "source": [
    "raw_path = \"../data/raw/census_data/\"\n",
    "blocks.to_csv(raw_path + \"basic_blocks.csv\")"
   ]
  },
  {
   "cell_type": "markdown",
   "metadata": {},
   "source": [
    "## Get All Block-Groups in CO"
   ]
  },
  {
   "cell_type": "code",
   "execution_count": 12,
   "metadata": {
    "ExecuteTime": {
     "end_time": "2020-03-19T16:08:59.265305Z",
     "start_time": "2020-03-19T16:05:34.856205Z"
    }
   },
   "outputs": [
    {
     "name": "stdout",
     "output_type": "stream",
     "text": [
      "0/64: 001, 200, 261, dt = 2.820\n",
      "1/64: 003, 200, 16, dt = 2.969\n",
      "2/64: 005, 200, 409, dt = 5.089\n",
      "3/64: 007, 200, 11, dt = 2.988\n",
      "4/64: 009, 200, 5, dt = 4.910\n",
      "5/64: 011, 200, 6, dt = 3.070\n",
      "6/64: 013, 200, 201, dt = 4.003\n",
      "7/64: 014, 200, 47, dt = 2.952\n",
      "8/64: 015, 200, 16, dt = 2.965\n",
      "9/64: 017, 200, 4, dt = 3.013\n",
      "10/64: 019, 200, 7, dt = 3.023\n",
      "11/64: 021, 200, 7, dt = 2.983\n",
      "12/64: 023, 200, 5, dt = 2.947\n",
      "13/64: 025, 200, 5, dt = 3.068\n",
      "14/64: 027, 200, 5, dt = 2.966\n",
      "15/64: 029, 200, 25, dt = 2.991\n",
      "16/64: 031, 200, 482, dt = 6.115\n",
      "17/64: 033, 200, 3, dt = 2.864\n",
      "18/64: 035, 200, 156, dt = 3.169\n",
      "19/64: 037, 200, 30, dt = 2.864\n",
      "20/64: 039, 200, 16, dt = 3.070\n",
      "21/64: 041, 200, 366, dt = 3.900\n",
      "22/64: 043, 200, 37, dt = 2.951\n",
      "23/64: 045, 200, 37, dt = 3.066\n",
      "24/64: 047, 200, 5, dt = 2.965\n",
      "25/64: 049, 200, 10, dt = 2.966\n",
      "26/64: 051, 200, 21, dt = 3.068\n",
      "27/64: 053, 200, 2, dt = 2.956\n",
      "28/64: 055, 200, 8, dt = 2.980\n",
      "29/64: 057, 200, 3, dt = 3.082\n",
      "30/64: 059, 200, 411, dt = 5.970\n",
      "31/64: 061, 200, 3, dt = 3.051\n",
      "32/64: 063, 200, 9, dt = 2.933\n",
      "33/64: 065, 200, 9, dt = 3.069\n",
      "34/64: 067, 200, 34, dt = 2.890\n",
      "35/64: 069, 200, 193, dt = 3.964\n",
      "36/64: 071, 200, 18, dt = 3.068\n",
      "37/64: 073, 200, 6, dt = 2.965\n",
      "38/64: 075, 200, 17, dt = 2.939\n",
      "39/64: 077, 200, 89, dt = 3.094\n",
      "40/64: 079, 200, 2, dt = 2.967\n",
      "41/64: 081, 200, 16, dt = 3.070\n",
      "42/64: 083, 200, 23, dt = 2.964\n",
      "43/64: 085, 200, 34, dt = 2.966\n",
      "44/64: 087, 200, 26, dt = 3.070\n",
      "45/64: 089, 200, 21, dt = 2.964\n",
      "46/64: 091, 200, 5, dt = 2.966\n",
      "47/64: 093, 200, 13, dt = 2.966\n",
      "48/64: 095, 200, 7, dt = 2.965\n",
      "49/64: 097, 200, 14, dt = 3.070\n",
      "50/64: 099, 200, 15, dt = 2.964\n",
      "51/64: 101, 200, 135, dt = 2.984\n",
      "52/64: 103, 200, 8, dt = 3.050\n",
      "53/64: 105, 200, 11, dt = 2.937\n",
      "54/64: 107, 200, 20, dt = 2.995\n",
      "55/64: 109, 200, 7, dt = 3.070\n",
      "56/64: 111, 200, 2, dt = 2.967\n",
      "57/64: 113, 200, 7, dt = 2.970\n",
      "58/64: 115, 200, 4, dt = 3.066\n",
      "59/64: 117, 200, 23, dt = 2.968\n",
      "60/64: 119, 200, 16, dt = 2.969\n",
      "61/64: 121, 200, 6, dt = 3.014\n",
      "62/64: 123, 200, 176, dt = 3.226\n",
      "63/64: 125, 200, 10, dt = 2.371\n"
     ]
    }
   ],
   "source": [
    "for_block = {\"block%20group\": \"*\"}\n",
    "block_groups = scan_county()"
   ]
  },
  {
   "cell_type": "code",
   "execution_count": 13,
   "metadata": {
    "ExecuteTime": {
     "end_time": "2020-03-19T16:10:17.561567Z",
     "start_time": "2020-03-19T16:10:17.552371Z"
    }
   },
   "outputs": [
    {
     "name": "stdout",
     "output_type": "stream",
     "text": [
      "<class 'pandas.core.frame.DataFrame'>\n",
      "Int64Index: 3532 entries, 0 to 8\n",
      "Data columns (total 7 columns):\n",
      " #   Column       Non-Null Count  Dtype \n",
      "---  ------       --------------  ----- \n",
      " 0   P001001      3532 non-null   object\n",
      " 1   H001001      3532 non-null   object\n",
      " 2   NAME         3532 non-null   object\n",
      " 3   state        3532 non-null   object\n",
      " 4   county       3532 non-null   object\n",
      " 5   tract        3532 non-null   object\n",
      " 6   block group  3532 non-null   object\n",
      "dtypes: object(7)\n",
      "memory usage: 220.8+ KB\n"
     ]
    }
   ],
   "source": [
    "block_groups.info()"
   ]
  },
  {
   "cell_type": "code",
   "execution_count": 15,
   "metadata": {
    "ExecuteTime": {
     "end_time": "2020-03-19T16:13:09.030364Z",
     "start_time": "2020-03-19T16:13:09.011946Z"
    }
   },
   "outputs": [],
   "source": [
    "block_groups.to_csv(raw_path + \"basic_block_groups.csv\")"
   ]
  },
  {
   "cell_type": "markdown",
   "metadata": {},
   "source": [
    "# Clean Block Data"
   ]
  },
  {
   "cell_type": "markdown",
   "metadata": {},
   "source": [
    "## Get Block Shapefiles"
   ]
  },
  {
   "cell_type": "code",
   "execution_count": 18,
   "metadata": {
    "ExecuteTime": {
     "end_time": "2020-03-19T16:13:58.198645Z",
     "start_time": "2020-03-19T16:13:46.338409Z"
    }
   },
   "outputs": [],
   "source": [
    "block_shapes = gpd.read_file(\"../data/raw/census_shape/tl_2010_08_tabblock10/\")"
   ]
  },
  {
   "cell_type": "code",
   "execution_count": 85,
   "metadata": {
    "ExecuteTime": {
     "end_time": "2020-03-19T18:05:45.309551Z",
     "start_time": "2020-03-19T18:05:45.305681Z"
    }
   },
   "outputs": [
    {
     "data": {
      "text/plain": [
       "{'init': 'epsg:4269'}"
      ]
     },
     "execution_count": 85,
     "metadata": {},
     "output_type": "execute_result"
    }
   ],
   "source": [
    "block_shapes.crs"
   ]
  },
  {
   "cell_type": "code",
   "execution_count": 19,
   "metadata": {
    "ExecuteTime": {
     "end_time": "2020-03-19T16:13:58.219696Z",
     "start_time": "2020-03-19T16:13:58.200727Z"
    }
   },
   "outputs": [
    {
     "data": {
      "text/html": [
       "<div>\n",
       "<style scoped>\n",
       "    .dataframe tbody tr th:only-of-type {\n",
       "        vertical-align: middle;\n",
       "    }\n",
       "\n",
       "    .dataframe tbody tr th {\n",
       "        vertical-align: top;\n",
       "    }\n",
       "\n",
       "    .dataframe thead th {\n",
       "        text-align: right;\n",
       "    }\n",
       "</style>\n",
       "<table border=\"1\" class=\"dataframe\">\n",
       "  <thead>\n",
       "    <tr style=\"text-align: right;\">\n",
       "      <th></th>\n",
       "      <th>STATEFP10</th>\n",
       "      <th>COUNTYFP10</th>\n",
       "      <th>TRACTCE10</th>\n",
       "      <th>BLOCKCE10</th>\n",
       "      <th>GEOID10</th>\n",
       "      <th>NAME10</th>\n",
       "      <th>MTFCC10</th>\n",
       "      <th>UR10</th>\n",
       "      <th>UACE10</th>\n",
       "      <th>UATYP10</th>\n",
       "      <th>FUNCSTAT10</th>\n",
       "      <th>ALAND10</th>\n",
       "      <th>AWATER10</th>\n",
       "      <th>INTPTLAT10</th>\n",
       "      <th>INTPTLON10</th>\n",
       "      <th>geometry</th>\n",
       "    </tr>\n",
       "  </thead>\n",
       "  <tbody>\n",
       "    <tr>\n",
       "      <th>0</th>\n",
       "      <td>08</td>\n",
       "      <td>001</td>\n",
       "      <td>008535</td>\n",
       "      <td>1020</td>\n",
       "      <td>080010085351020</td>\n",
       "      <td>Block 1020</td>\n",
       "      <td>G5040</td>\n",
       "      <td>U</td>\n",
       "      <td>23527</td>\n",
       "      <td>U</td>\n",
       "      <td>S</td>\n",
       "      <td>1312</td>\n",
       "      <td>0</td>\n",
       "      <td>+39.9143691</td>\n",
       "      <td>-104.8699465</td>\n",
       "      <td>POLYGON ((-104.87058 39.91431, -104.87049 39.9...</td>\n",
       "    </tr>\n",
       "    <tr>\n",
       "      <th>1</th>\n",
       "      <td>08</td>\n",
       "      <td>001</td>\n",
       "      <td>008535</td>\n",
       "      <td>1021</td>\n",
       "      <td>080010085351021</td>\n",
       "      <td>Block 1021</td>\n",
       "      <td>G5040</td>\n",
       "      <td>U</td>\n",
       "      <td>23527</td>\n",
       "      <td>U</td>\n",
       "      <td>S</td>\n",
       "      <td>11846</td>\n",
       "      <td>0</td>\n",
       "      <td>+39.9174508</td>\n",
       "      <td>-104.8601251</td>\n",
       "      <td>POLYGON ((-104.85744 39.92146, -104.85722 39.9...</td>\n",
       "    </tr>\n",
       "    <tr>\n",
       "      <th>2</th>\n",
       "      <td>08</td>\n",
       "      <td>001</td>\n",
       "      <td>008537</td>\n",
       "      <td>1068</td>\n",
       "      <td>080010085371068</td>\n",
       "      <td>Block 1068</td>\n",
       "      <td>G5040</td>\n",
       "      <td>U</td>\n",
       "      <td>23527</td>\n",
       "      <td>U</td>\n",
       "      <td>S</td>\n",
       "      <td>94928</td>\n",
       "      <td>0</td>\n",
       "      <td>+39.9012635</td>\n",
       "      <td>-104.8476875</td>\n",
       "      <td>POLYGON ((-104.84661 39.90358, -104.84674 39.9...</td>\n",
       "    </tr>\n",
       "    <tr>\n",
       "      <th>3</th>\n",
       "      <td>08</td>\n",
       "      <td>001</td>\n",
       "      <td>008543</td>\n",
       "      <td>3003</td>\n",
       "      <td>080010085433003</td>\n",
       "      <td>Block 3003</td>\n",
       "      <td>G5040</td>\n",
       "      <td>U</td>\n",
       "      <td>23527</td>\n",
       "      <td>U</td>\n",
       "      <td>S</td>\n",
       "      <td>6841</td>\n",
       "      <td>0</td>\n",
       "      <td>+39.9839459</td>\n",
       "      <td>-104.7917056</td>\n",
       "      <td>POLYGON ((-104.79228 39.98428, -104.79209 39.9...</td>\n",
       "    </tr>\n",
       "    <tr>\n",
       "      <th>4</th>\n",
       "      <td>08</td>\n",
       "      <td>001</td>\n",
       "      <td>060000</td>\n",
       "      <td>1054</td>\n",
       "      <td>080010600001054</td>\n",
       "      <td>Block 1054</td>\n",
       "      <td>G5040</td>\n",
       "      <td>R</td>\n",
       "      <td>None</td>\n",
       "      <td>None</td>\n",
       "      <td>S</td>\n",
       "      <td>42382</td>\n",
       "      <td>0</td>\n",
       "      <td>+39.9729774</td>\n",
       "      <td>-104.9912392</td>\n",
       "      <td>POLYGON ((-104.99040 39.97199, -104.99244 39.9...</td>\n",
       "    </tr>\n",
       "  </tbody>\n",
       "</table>\n",
       "</div>"
      ],
      "text/plain": [
       "  STATEFP10 COUNTYFP10 TRACTCE10 BLOCKCE10          GEOID10      NAME10  \\\n",
       "0        08        001    008535      1020  080010085351020  Block 1020   \n",
       "1        08        001    008535      1021  080010085351021  Block 1021   \n",
       "2        08        001    008537      1068  080010085371068  Block 1068   \n",
       "3        08        001    008543      3003  080010085433003  Block 3003   \n",
       "4        08        001    060000      1054  080010600001054  Block 1054   \n",
       "\n",
       "  MTFCC10 UR10 UACE10 UATYP10 FUNCSTAT10  ALAND10  AWATER10   INTPTLAT10  \\\n",
       "0   G5040    U  23527       U          S     1312         0  +39.9143691   \n",
       "1   G5040    U  23527       U          S    11846         0  +39.9174508   \n",
       "2   G5040    U  23527       U          S    94928         0  +39.9012635   \n",
       "3   G5040    U  23527       U          S     6841         0  +39.9839459   \n",
       "4   G5040    R   None    None          S    42382         0  +39.9729774   \n",
       "\n",
       "     INTPTLON10                                           geometry  \n",
       "0  -104.8699465  POLYGON ((-104.87058 39.91431, -104.87049 39.9...  \n",
       "1  -104.8601251  POLYGON ((-104.85744 39.92146, -104.85722 39.9...  \n",
       "2  -104.8476875  POLYGON ((-104.84661 39.90358, -104.84674 39.9...  \n",
       "3  -104.7917056  POLYGON ((-104.79228 39.98428, -104.79209 39.9...  \n",
       "4  -104.9912392  POLYGON ((-104.99040 39.97199, -104.99244 39.9...  "
      ]
     },
     "execution_count": 19,
     "metadata": {},
     "output_type": "execute_result"
    }
   ],
   "source": [
    "block_shapes.head()"
   ]
  },
  {
   "cell_type": "code",
   "execution_count": 20,
   "metadata": {
    "ExecuteTime": {
     "end_time": "2020-03-19T16:13:58.533518Z",
     "start_time": "2020-03-19T16:13:58.222269Z"
    }
   },
   "outputs": [
    {
     "name": "stdout",
     "output_type": "stream",
     "text": [
      "<class 'geopandas.geodataframe.GeoDataFrame'>\n",
      "RangeIndex: 201062 entries, 0 to 201061\n",
      "Data columns (total 16 columns):\n",
      " #   Column      Non-Null Count   Dtype   \n",
      "---  ------      --------------   -----   \n",
      " 0   STATEFP10   201062 non-null  object  \n",
      " 1   COUNTYFP10  201062 non-null  object  \n",
      " 2   TRACTCE10   201062 non-null  object  \n",
      " 3   BLOCKCE10   201062 non-null  object  \n",
      " 4   GEOID10     201062 non-null  object  \n",
      " 5   NAME10      201062 non-null  object  \n",
      " 6   MTFCC10     201062 non-null  object  \n",
      " 7   UR10        201062 non-null  object  \n",
      " 8   UACE10      94167 non-null   object  \n",
      " 9   UATYP10     94167 non-null   object  \n",
      " 10  FUNCSTAT10  201062 non-null  object  \n",
      " 11  ALAND10     201062 non-null  int64   \n",
      " 12  AWATER10    201062 non-null  int64   \n",
      " 13  INTPTLAT10  201062 non-null  object  \n",
      " 14  INTPTLON10  201062 non-null  object  \n",
      " 15  geometry    201062 non-null  geometry\n",
      "dtypes: geometry(1), int64(2), object(13)\n",
      "memory usage: 24.5+ MB\n"
     ]
    }
   ],
   "source": [
    "block_shapes.info()"
   ]
  },
  {
   "cell_type": "code",
   "execution_count": 21,
   "metadata": {
    "ExecuteTime": {
     "end_time": "2020-03-19T16:13:58.547573Z",
     "start_time": "2020-03-19T16:13:58.535842Z"
    }
   },
   "outputs": [
    {
     "data": {
      "text/html": [
       "<div>\n",
       "<style scoped>\n",
       "    .dataframe tbody tr th:only-of-type {\n",
       "        vertical-align: middle;\n",
       "    }\n",
       "\n",
       "    .dataframe tbody tr th {\n",
       "        vertical-align: top;\n",
       "    }\n",
       "\n",
       "    .dataframe thead th {\n",
       "        text-align: right;\n",
       "    }\n",
       "</style>\n",
       "<table border=\"1\" class=\"dataframe\">\n",
       "  <thead>\n",
       "    <tr style=\"text-align: right;\">\n",
       "      <th></th>\n",
       "      <th>P001001</th>\n",
       "      <th>H001001</th>\n",
       "      <th>NAME</th>\n",
       "      <th>state</th>\n",
       "      <th>county</th>\n",
       "      <th>tract</th>\n",
       "      <th>block</th>\n",
       "    </tr>\n",
       "  </thead>\n",
       "  <tbody>\n",
       "    <tr>\n",
       "      <th>0</th>\n",
       "      <td>244</td>\n",
       "      <td>71</td>\n",
       "      <td>Block 1007, Block Group 1, Census Tract 78.01,...</td>\n",
       "      <td>08</td>\n",
       "      <td>001</td>\n",
       "      <td>007801</td>\n",
       "      <td>1007</td>\n",
       "    </tr>\n",
       "    <tr>\n",
       "      <th>1</th>\n",
       "      <td>310</td>\n",
       "      <td>110</td>\n",
       "      <td>Block 1008, Block Group 1, Census Tract 78.01,...</td>\n",
       "      <td>08</td>\n",
       "      <td>001</td>\n",
       "      <td>007801</td>\n",
       "      <td>1008</td>\n",
       "    </tr>\n",
       "    <tr>\n",
       "      <th>2</th>\n",
       "      <td>56</td>\n",
       "      <td>18</td>\n",
       "      <td>Block 1013, Block Group 1, Census Tract 78.01,...</td>\n",
       "      <td>08</td>\n",
       "      <td>001</td>\n",
       "      <td>007801</td>\n",
       "      <td>1013</td>\n",
       "    </tr>\n",
       "    <tr>\n",
       "      <th>3</th>\n",
       "      <td>11</td>\n",
       "      <td>4</td>\n",
       "      <td>Block 1010, Block Group 1, Census Tract 78.01,...</td>\n",
       "      <td>08</td>\n",
       "      <td>001</td>\n",
       "      <td>007801</td>\n",
       "      <td>1010</td>\n",
       "    </tr>\n",
       "    <tr>\n",
       "      <th>4</th>\n",
       "      <td>68</td>\n",
       "      <td>47</td>\n",
       "      <td>Block 1011, Block Group 1, Census Tract 78.01,...</td>\n",
       "      <td>08</td>\n",
       "      <td>001</td>\n",
       "      <td>007801</td>\n",
       "      <td>1011</td>\n",
       "    </tr>\n",
       "  </tbody>\n",
       "</table>\n",
       "</div>"
      ],
      "text/plain": [
       "  P001001 H001001                                               NAME state  \\\n",
       "0     244      71  Block 1007, Block Group 1, Census Tract 78.01,...    08   \n",
       "1     310     110  Block 1008, Block Group 1, Census Tract 78.01,...    08   \n",
       "2      56      18  Block 1013, Block Group 1, Census Tract 78.01,...    08   \n",
       "3      11       4  Block 1010, Block Group 1, Census Tract 78.01,...    08   \n",
       "4      68      47  Block 1011, Block Group 1, Census Tract 78.01,...    08   \n",
       "\n",
       "  county   tract block  \n",
       "0    001  007801  1007  \n",
       "1    001  007801  1008  \n",
       "2    001  007801  1013  \n",
       "3    001  007801  1010  \n",
       "4    001  007801  1011  "
      ]
     },
     "execution_count": 21,
     "metadata": {},
     "output_type": "execute_result"
    }
   ],
   "source": [
    "blocks.head()"
   ]
  },
  {
   "cell_type": "markdown",
   "metadata": {},
   "source": [
    "## Merge Block Data and Shapefiles"
   ]
  },
  {
   "cell_type": "code",
   "execution_count": 22,
   "metadata": {
    "ExecuteTime": {
     "end_time": "2020-03-19T16:14:15.847509Z",
     "start_time": "2020-03-19T16:14:04.586794Z"
    }
   },
   "outputs": [],
   "source": [
    "def make_GEOID(df):\n",
    "    return df.state + df.county + df.tract + df.block\n",
    "\n",
    "blocks[\"GEOID10\"] = blocks.apply(make_GEOID, axis=1)"
   ]
  },
  {
   "cell_type": "code",
   "execution_count": 23,
   "metadata": {
    "ExecuteTime": {
     "end_time": "2020-03-19T16:14:15.863407Z",
     "start_time": "2020-03-19T16:14:15.850104Z"
    }
   },
   "outputs": [
    {
     "data": {
      "text/html": [
       "<div>\n",
       "<style scoped>\n",
       "    .dataframe tbody tr th:only-of-type {\n",
       "        vertical-align: middle;\n",
       "    }\n",
       "\n",
       "    .dataframe tbody tr th {\n",
       "        vertical-align: top;\n",
       "    }\n",
       "\n",
       "    .dataframe thead th {\n",
       "        text-align: right;\n",
       "    }\n",
       "</style>\n",
       "<table border=\"1\" class=\"dataframe\">\n",
       "  <thead>\n",
       "    <tr style=\"text-align: right;\">\n",
       "      <th></th>\n",
       "      <th>P001001</th>\n",
       "      <th>H001001</th>\n",
       "      <th>NAME</th>\n",
       "      <th>state</th>\n",
       "      <th>county</th>\n",
       "      <th>tract</th>\n",
       "      <th>block</th>\n",
       "      <th>GEOID10</th>\n",
       "    </tr>\n",
       "  </thead>\n",
       "  <tbody>\n",
       "    <tr>\n",
       "      <th>0</th>\n",
       "      <td>244</td>\n",
       "      <td>71</td>\n",
       "      <td>Block 1007, Block Group 1, Census Tract 78.01,...</td>\n",
       "      <td>08</td>\n",
       "      <td>001</td>\n",
       "      <td>007801</td>\n",
       "      <td>1007</td>\n",
       "      <td>080010078011007</td>\n",
       "    </tr>\n",
       "    <tr>\n",
       "      <th>1</th>\n",
       "      <td>310</td>\n",
       "      <td>110</td>\n",
       "      <td>Block 1008, Block Group 1, Census Tract 78.01,...</td>\n",
       "      <td>08</td>\n",
       "      <td>001</td>\n",
       "      <td>007801</td>\n",
       "      <td>1008</td>\n",
       "      <td>080010078011008</td>\n",
       "    </tr>\n",
       "    <tr>\n",
       "      <th>2</th>\n",
       "      <td>56</td>\n",
       "      <td>18</td>\n",
       "      <td>Block 1013, Block Group 1, Census Tract 78.01,...</td>\n",
       "      <td>08</td>\n",
       "      <td>001</td>\n",
       "      <td>007801</td>\n",
       "      <td>1013</td>\n",
       "      <td>080010078011013</td>\n",
       "    </tr>\n",
       "    <tr>\n",
       "      <th>3</th>\n",
       "      <td>11</td>\n",
       "      <td>4</td>\n",
       "      <td>Block 1010, Block Group 1, Census Tract 78.01,...</td>\n",
       "      <td>08</td>\n",
       "      <td>001</td>\n",
       "      <td>007801</td>\n",
       "      <td>1010</td>\n",
       "      <td>080010078011010</td>\n",
       "    </tr>\n",
       "    <tr>\n",
       "      <th>4</th>\n",
       "      <td>68</td>\n",
       "      <td>47</td>\n",
       "      <td>Block 1011, Block Group 1, Census Tract 78.01,...</td>\n",
       "      <td>08</td>\n",
       "      <td>001</td>\n",
       "      <td>007801</td>\n",
       "      <td>1011</td>\n",
       "      <td>080010078011011</td>\n",
       "    </tr>\n",
       "  </tbody>\n",
       "</table>\n",
       "</div>"
      ],
      "text/plain": [
       "  P001001 H001001                                               NAME state  \\\n",
       "0     244      71  Block 1007, Block Group 1, Census Tract 78.01,...    08   \n",
       "1     310     110  Block 1008, Block Group 1, Census Tract 78.01,...    08   \n",
       "2      56      18  Block 1013, Block Group 1, Census Tract 78.01,...    08   \n",
       "3      11       4  Block 1010, Block Group 1, Census Tract 78.01,...    08   \n",
       "4      68      47  Block 1011, Block Group 1, Census Tract 78.01,...    08   \n",
       "\n",
       "  county   tract block          GEOID10  \n",
       "0    001  007801  1007  080010078011007  \n",
       "1    001  007801  1008  080010078011008  \n",
       "2    001  007801  1013  080010078011013  \n",
       "3    001  007801  1010  080010078011010  \n",
       "4    001  007801  1011  080010078011011  "
      ]
     },
     "execution_count": 23,
     "metadata": {},
     "output_type": "execute_result"
    }
   ],
   "source": [
    "blocks.head()"
   ]
  },
  {
   "cell_type": "code",
   "execution_count": 24,
   "metadata": {
    "ExecuteTime": {
     "end_time": "2020-03-19T16:14:20.768091Z",
     "start_time": "2020-03-19T16:14:20.450413Z"
    }
   },
   "outputs": [],
   "source": [
    "blocks = blocks.set_index(\"GEOID10\")\n",
    "block_shapes = block_shapes.set_index(\"GEOID10\")"
   ]
  },
  {
   "cell_type": "code",
   "execution_count": 25,
   "metadata": {
    "ExecuteTime": {
     "end_time": "2020-03-19T16:14:22.043421Z",
     "start_time": "2020-03-19T16:14:21.257181Z"
    }
   },
   "outputs": [],
   "source": [
    "all_blocks = pd.concat([blocks, block_shapes], axis=1)"
   ]
  },
  {
   "cell_type": "code",
   "execution_count": 26,
   "metadata": {
    "ExecuteTime": {
     "end_time": "2020-03-19T16:14:23.293565Z",
     "start_time": "2020-03-19T16:14:22.554845Z"
    }
   },
   "outputs": [
    {
     "name": "stdout",
     "output_type": "stream",
     "text": [
      "<class 'pandas.core.frame.DataFrame'>\n",
      "Index: 201062 entries, 080010078011007 to 081259632005151\n",
      "Data columns (total 22 columns):\n",
      " #   Column      Non-Null Count   Dtype   \n",
      "---  ------      --------------   -----   \n",
      " 0   P001001     201062 non-null  object  \n",
      " 1   H001001     201062 non-null  object  \n",
      " 2   NAME        201062 non-null  object  \n",
      " 3   state       201062 non-null  object  \n",
      " 4   county      201062 non-null  object  \n",
      " 5   tract       201062 non-null  object  \n",
      " 6   block       201062 non-null  object  \n",
      " 7   STATEFP10   201062 non-null  object  \n",
      " 8   COUNTYFP10  201062 non-null  object  \n",
      " 9   TRACTCE10   201062 non-null  object  \n",
      " 10  BLOCKCE10   201062 non-null  object  \n",
      " 11  NAME10      201062 non-null  object  \n",
      " 12  MTFCC10     201062 non-null  object  \n",
      " 13  UR10        201062 non-null  object  \n",
      " 14  UACE10      94167 non-null   object  \n",
      " 15  UATYP10     94167 non-null   object  \n",
      " 16  FUNCSTAT10  201062 non-null  object  \n",
      " 17  ALAND10     201062 non-null  int64   \n",
      " 18  AWATER10    201062 non-null  int64   \n",
      " 19  INTPTLAT10  201062 non-null  object  \n",
      " 20  INTPTLON10  201062 non-null  object  \n",
      " 21  geometry    201062 non-null  geometry\n",
      "dtypes: geometry(1), int64(2), object(19)\n",
      "memory usage: 35.3+ MB\n"
     ]
    }
   ],
   "source": [
    "all_blocks.info()"
   ]
  },
  {
   "cell_type": "code",
   "execution_count": 27,
   "metadata": {
    "ExecuteTime": {
     "end_time": "2020-03-19T16:14:23.867446Z",
     "start_time": "2020-03-19T16:14:23.827018Z"
    }
   },
   "outputs": [],
   "source": [
    "trimmed_blocks = all_blocks.drop([\"STATEFP10\", \"COUNTYFP10\", \"TRACTCE10\", \"BLOCKCE10\", \n",
    "                                  \"NAME10\", \"MTFCC10\", \"UR10\", \"UACE10\", \n",
    "                                  \"UATYP10\", \"FUNCSTAT10\", \"ALAND10\", \n",
    "                                  \"AWATER10\"],\n",
    "                                 axis=1)"
   ]
  },
  {
   "cell_type": "code",
   "execution_count": 28,
   "metadata": {
    "ExecuteTime": {
     "end_time": "2020-03-19T16:14:53.533429Z",
     "start_time": "2020-03-19T16:14:27.082040Z"
    }
   },
   "outputs": [],
   "source": [
    "def extract_bg(df):\n",
    "    return df.state + df.county + df.tract + df.block[0]\n",
    "    \n",
    "trimmed_blocks[\"blockgroup\"] = trimmed_blocks.apply(extract_bg, axis=1)"
   ]
  },
  {
   "cell_type": "code",
   "execution_count": 45,
   "metadata": {
    "ExecuteTime": {
     "end_time": "2020-03-19T16:33:25.800667Z",
     "start_time": "2020-03-19T16:33:25.207186Z"
    }
   },
   "outputs": [],
   "source": [
    "trimmed_blocks['area'] = trimmed_blocks.geometry.apply(lambda x: x.area)"
   ]
  },
  {
   "cell_type": "code",
   "execution_count": 38,
   "metadata": {
    "ExecuteTime": {
     "end_time": "2020-03-19T16:24:16.442574Z",
     "start_time": "2020-03-19T16:24:16.318810Z"
    }
   },
   "outputs": [],
   "source": [
    "trimmed_blocks = trimmed_blocks.rename(columns={'P001001': 'population', 'H001001': 'residences', 'NAME': 'name'})"
   ]
  },
  {
   "cell_type": "code",
   "execution_count": 39,
   "metadata": {
    "ExecuteTime": {
     "end_time": "2020-03-19T16:24:17.717649Z",
     "start_time": "2020-03-19T16:24:17.684401Z"
    },
    "scrolled": true
   },
   "outputs": [
    {
     "data": {
      "text/html": [
       "<div>\n",
       "<style scoped>\n",
       "    .dataframe tbody tr th:only-of-type {\n",
       "        vertical-align: middle;\n",
       "    }\n",
       "\n",
       "    .dataframe tbody tr th {\n",
       "        vertical-align: top;\n",
       "    }\n",
       "\n",
       "    .dataframe thead th {\n",
       "        text-align: right;\n",
       "    }\n",
       "</style>\n",
       "<table border=\"1\" class=\"dataframe\">\n",
       "  <thead>\n",
       "    <tr style=\"text-align: right;\">\n",
       "      <th></th>\n",
       "      <th>population</th>\n",
       "      <th>residences</th>\n",
       "      <th>name</th>\n",
       "      <th>state</th>\n",
       "      <th>county</th>\n",
       "      <th>tract</th>\n",
       "      <th>block</th>\n",
       "      <th>INTPTLAT10</th>\n",
       "      <th>INTPTLON10</th>\n",
       "      <th>geometry</th>\n",
       "      <th>blockgroup</th>\n",
       "    </tr>\n",
       "  </thead>\n",
       "  <tbody>\n",
       "    <tr>\n",
       "      <th>080010078011007</th>\n",
       "      <td>244</td>\n",
       "      <td>71</td>\n",
       "      <td>Block 1007, Block Group 1, Census Tract 78.01,...</td>\n",
       "      <td>08</td>\n",
       "      <td>001</td>\n",
       "      <td>007801</td>\n",
       "      <td>1007</td>\n",
       "      <td>+39.7410946</td>\n",
       "      <td>-104.8746404</td>\n",
       "      <td>POLYGON ((-104.87523 39.74021, -104.87523 39.7...</td>\n",
       "      <td>080010078011</td>\n",
       "    </tr>\n",
       "    <tr>\n",
       "      <th>080010601002040</th>\n",
       "      <td>46</td>\n",
       "      <td>14</td>\n",
       "      <td>Block 2040, Block Group 2, Census Tract 601, A...</td>\n",
       "      <td>08</td>\n",
       "      <td>001</td>\n",
       "      <td>060100</td>\n",
       "      <td>2040</td>\n",
       "      <td>+39.9296836</td>\n",
       "      <td>-105.0114530</td>\n",
       "      <td>POLYGON ((-105.01091 39.92974, -105.01015 39.9...</td>\n",
       "      <td>080010601002</td>\n",
       "    </tr>\n",
       "    <tr>\n",
       "      <th>080050862002010</th>\n",
       "      <td>32</td>\n",
       "      <td>13</td>\n",
       "      <td>Block 2010, Block Group 2, Census Tract 862, A...</td>\n",
       "      <td>08</td>\n",
       "      <td>005</td>\n",
       "      <td>086200</td>\n",
       "      <td>2010</td>\n",
       "      <td>+39.6152277</td>\n",
       "      <td>-104.7508516</td>\n",
       "      <td>POLYGON ((-104.75167 39.61533, -104.75124 39.6...</td>\n",
       "      <td>080050862002</td>\n",
       "    </tr>\n",
       "    <tr>\n",
       "      <th>080130136021017</th>\n",
       "      <td>2</td>\n",
       "      <td>7</td>\n",
       "      <td>Block 1017, Block Group 1, Census Tract 136.02...</td>\n",
       "      <td>08</td>\n",
       "      <td>013</td>\n",
       "      <td>013602</td>\n",
       "      <td>1017</td>\n",
       "      <td>+40.2421819</td>\n",
       "      <td>-105.5128035</td>\n",
       "      <td>POLYGON ((-105.51228 40.24292, -105.51225 40.2...</td>\n",
       "      <td>080130136021</td>\n",
       "    </tr>\n",
       "    <tr>\n",
       "      <th>080239727002605</th>\n",
       "      <td>3</td>\n",
       "      <td>2</td>\n",
       "      <td>Block 2605, Block Group 2, Census Tract 9727, ...</td>\n",
       "      <td>08</td>\n",
       "      <td>023</td>\n",
       "      <td>972700</td>\n",
       "      <td>2605</td>\n",
       "      <td>+37.0357247</td>\n",
       "      <td>-105.5426739</td>\n",
       "      <td>POLYGON ((-105.54269 37.04064, -105.54257 37.0...</td>\n",
       "      <td>080239727002</td>\n",
       "    </tr>\n",
       "    <tr>\n",
       "      <th>080310040031013</th>\n",
       "      <td>52</td>\n",
       "      <td>27</td>\n",
       "      <td>Block 1013, Block Group 1, Census Tract 40.03,...</td>\n",
       "      <td>08</td>\n",
       "      <td>031</td>\n",
       "      <td>004003</td>\n",
       "      <td>1013</td>\n",
       "      <td>+39.6558139</td>\n",
       "      <td>-104.9204474</td>\n",
       "      <td>POLYGON ((-104.91922 39.65373, -104.91918 39.6...</td>\n",
       "      <td>080310040031</td>\n",
       "    </tr>\n",
       "    <tr>\n",
       "      <th>080350142021045</th>\n",
       "      <td>0</td>\n",
       "      <td>0</td>\n",
       "      <td>Block 1045, Block Group 1, Census Tract 142.02...</td>\n",
       "      <td>08</td>\n",
       "      <td>035</td>\n",
       "      <td>014202</td>\n",
       "      <td>1045</td>\n",
       "      <td>+39.4405716</td>\n",
       "      <td>-105.0421760</td>\n",
       "      <td>POLYGON ((-105.04271 39.43778, -105.04275 39.4...</td>\n",
       "      <td>080350142021</td>\n",
       "    </tr>\n",
       "    <tr>\n",
       "      <th>080410025022004</th>\n",
       "      <td>0</td>\n",
       "      <td>0</td>\n",
       "      <td>Block 2004, Block Group 2, Census Tract 25.02,...</td>\n",
       "      <td>08</td>\n",
       "      <td>041</td>\n",
       "      <td>002502</td>\n",
       "      <td>2004</td>\n",
       "      <td>+38.8232486</td>\n",
       "      <td>-104.8472738</td>\n",
       "      <td>POLYGON ((-104.84694 38.82332, -104.84695 38.8...</td>\n",
       "      <td>080410025022</td>\n",
       "    </tr>\n",
       "    <tr>\n",
       "      <th>080410051062002</th>\n",
       "      <td>4</td>\n",
       "      <td>1</td>\n",
       "      <td>Block 2002, Block Group 2, Census Tract 51.06,...</td>\n",
       "      <td>08</td>\n",
       "      <td>041</td>\n",
       "      <td>005106</td>\n",
       "      <td>2002</td>\n",
       "      <td>+38.9193076</td>\n",
       "      <td>-104.7180262</td>\n",
       "      <td>POLYGON ((-104.71880 38.91109, -104.71911 38.9...</td>\n",
       "      <td>080410051062</td>\n",
       "    </tr>\n",
       "    <tr>\n",
       "      <th>080459518042017</th>\n",
       "      <td>32</td>\n",
       "      <td>12</td>\n",
       "      <td>Block 2017, Block Group 2, Census Tract 9518.0...</td>\n",
       "      <td>08</td>\n",
       "      <td>045</td>\n",
       "      <td>951804</td>\n",
       "      <td>2017</td>\n",
       "      <td>+39.3882075</td>\n",
       "      <td>-107.2087764</td>\n",
       "      <td>POLYGON ((-107.20972 39.38819, -107.20944 39.3...</td>\n",
       "      <td>080459518042</td>\n",
       "    </tr>\n",
       "    <tr>\n",
       "      <th>080519639002254</th>\n",
       "      <td>0</td>\n",
       "      <td>0</td>\n",
       "      <td>Block 2254, Block Group 2, Census Tract 9639, ...</td>\n",
       "      <td>08</td>\n",
       "      <td>051</td>\n",
       "      <td>963900</td>\n",
       "      <td>2254</td>\n",
       "      <td>+38.4219798</td>\n",
       "      <td>-107.2246653</td>\n",
       "      <td>POLYGON ((-107.23351 38.42321, -107.23074 38.4...</td>\n",
       "      <td>080519639002</td>\n",
       "    </tr>\n",
       "    <tr>\n",
       "      <th>080590117201008</th>\n",
       "      <td>0</td>\n",
       "      <td>0</td>\n",
       "      <td>Block 1008, Block Group 1, Census Tract 117.20...</td>\n",
       "      <td>08</td>\n",
       "      <td>059</td>\n",
       "      <td>011720</td>\n",
       "      <td>1008</td>\n",
       "      <td>+39.7244355</td>\n",
       "      <td>-105.1763987</td>\n",
       "      <td>POLYGON ((-105.17490 39.72502, -105.17489 39.7...</td>\n",
       "      <td>080590117201</td>\n",
       "    </tr>\n",
       "    <tr>\n",
       "      <th>080690001002064</th>\n",
       "      <td>47</td>\n",
       "      <td>46</td>\n",
       "      <td>Block 2064, Block Group 2, Census Tract 1, Lar...</td>\n",
       "      <td>08</td>\n",
       "      <td>069</td>\n",
       "      <td>000100</td>\n",
       "      <td>2064</td>\n",
       "      <td>+40.5848915</td>\n",
       "      <td>-105.0744493</td>\n",
       "      <td>POLYGON ((-105.07481 40.58421, -105.07479 40.5...</td>\n",
       "      <td>080690001002</td>\n",
       "    </tr>\n",
       "    <tr>\n",
       "      <th>080690027003021</th>\n",
       "      <td>26</td>\n",
       "      <td>11</td>\n",
       "      <td>Block 3021, Block Group 3, Census Tract 27, La...</td>\n",
       "      <td>08</td>\n",
       "      <td>069</td>\n",
       "      <td>002700</td>\n",
       "      <td>3021</td>\n",
       "      <td>+40.3134325</td>\n",
       "      <td>-105.0817672</td>\n",
       "      <td>POLYGON ((-105.08361 40.31433, -105.08356 40.3...</td>\n",
       "      <td>080690027003</td>\n",
       "    </tr>\n",
       "    <tr>\n",
       "      <th>080770014032015</th>\n",
       "      <td>0</td>\n",
       "      <td>0</td>\n",
       "      <td>Block 2015, Block Group 2, Census Tract 14.03,...</td>\n",
       "      <td>08</td>\n",
       "      <td>077</td>\n",
       "      <td>001403</td>\n",
       "      <td>2015</td>\n",
       "      <td>+39.0754618</td>\n",
       "      <td>-108.5895335</td>\n",
       "      <td>POLYGON ((-108.58807 39.07018, -108.58886 39.0...</td>\n",
       "      <td>080770014032</td>\n",
       "    </tr>\n",
       "    <tr>\n",
       "      <th>080859663001003</th>\n",
       "      <td>20</td>\n",
       "      <td>6</td>\n",
       "      <td>Block 1003, Block Group 1, Census Tract 9663, ...</td>\n",
       "      <td>08</td>\n",
       "      <td>085</td>\n",
       "      <td>966300</td>\n",
       "      <td>1003</td>\n",
       "      <td>+38.4863300</td>\n",
       "      <td>-107.8833900</td>\n",
       "      <td>POLYGON ((-107.88349 38.48559, -107.88366 38.4...</td>\n",
       "      <td>080859663001</td>\n",
       "    </tr>\n",
       "    <tr>\n",
       "      <th>080930005002126</th>\n",
       "      <td>1</td>\n",
       "      <td>3</td>\n",
       "      <td>Block 2126, Block Group 2, Census Tract 5, Par...</td>\n",
       "      <td>08</td>\n",
       "      <td>093</td>\n",
       "      <td>000500</td>\n",
       "      <td>2126</td>\n",
       "      <td>+38.9036878</td>\n",
       "      <td>-105.3891883</td>\n",
       "      <td>POLYGON ((-105.38928 38.90509, -105.38863 38.9...</td>\n",
       "      <td>080930005002</td>\n",
       "    </tr>\n",
       "    <tr>\n",
       "      <th>081010029181203</th>\n",
       "      <td>0</td>\n",
       "      <td>0</td>\n",
       "      <td>Block 1203, Block Group 1, Census Tract 29.18,...</td>\n",
       "      <td>08</td>\n",
       "      <td>101</td>\n",
       "      <td>002918</td>\n",
       "      <td>1203</td>\n",
       "      <td>+38.3668510</td>\n",
       "      <td>-104.7230801</td>\n",
       "      <td>POLYGON ((-104.72440 38.36847, -104.72331 38.3...</td>\n",
       "      <td>081010029181</td>\n",
       "    </tr>\n",
       "    <tr>\n",
       "      <th>081099776002439</th>\n",
       "      <td>0</td>\n",
       "      <td>1</td>\n",
       "      <td>Block 2439, Block Group 2, Census Tract 9776, ...</td>\n",
       "      <td>08</td>\n",
       "      <td>109</td>\n",
       "      <td>977600</td>\n",
       "      <td>2439</td>\n",
       "      <td>+38.3859798</td>\n",
       "      <td>-106.8151219</td>\n",
       "      <td>POLYGON ((-106.82801 38.38368, -106.82810 38.3...</td>\n",
       "      <td>081099776002</td>\n",
       "    </tr>\n",
       "    <tr>\n",
       "      <th>081230014041016</th>\n",
       "      <td>9</td>\n",
       "      <td>6</td>\n",
       "      <td>Block 1016, Block Group 1, Census Tract 14.04,...</td>\n",
       "      <td>08</td>\n",
       "      <td>123</td>\n",
       "      <td>001404</td>\n",
       "      <td>1016</td>\n",
       "      <td>+40.3650765</td>\n",
       "      <td>-104.7478538</td>\n",
       "      <td>POLYGON ((-104.74692 40.36436, -104.74893 40.3...</td>\n",
       "      <td>081230014041</td>\n",
       "    </tr>\n",
       "    <tr>\n",
       "      <th>081259632001207</th>\n",
       "      <td>0</td>\n",
       "      <td>1</td>\n",
       "      <td>Block 1207, Block Group 1, Census Tract 9632, ...</td>\n",
       "      <td>08</td>\n",
       "      <td>125</td>\n",
       "      <td>963200</td>\n",
       "      <td>1207</td>\n",
       "      <td>+40.2973415</td>\n",
       "      <td>-102.7103434</td>\n",
       "      <td>POLYGON ((-102.69955 40.29233, -102.70870 40.2...</td>\n",
       "      <td>081259632001</td>\n",
       "    </tr>\n",
       "  </tbody>\n",
       "</table>\n",
       "</div>"
      ],
      "text/plain": [
       "                population residences  \\\n",
       "080010078011007        244         71   \n",
       "080010601002040         46         14   \n",
       "080050862002010         32         13   \n",
       "080130136021017          2          7   \n",
       "080239727002605          3          2   \n",
       "080310040031013         52         27   \n",
       "080350142021045          0          0   \n",
       "080410025022004          0          0   \n",
       "080410051062002          4          1   \n",
       "080459518042017         32         12   \n",
       "080519639002254          0          0   \n",
       "080590117201008          0          0   \n",
       "080690001002064         47         46   \n",
       "080690027003021         26         11   \n",
       "080770014032015          0          0   \n",
       "080859663001003         20          6   \n",
       "080930005002126          1          3   \n",
       "081010029181203          0          0   \n",
       "081099776002439          0          1   \n",
       "081230014041016          9          6   \n",
       "081259632001207          0          1   \n",
       "\n",
       "                                                              name state  \\\n",
       "080010078011007  Block 1007, Block Group 1, Census Tract 78.01,...    08   \n",
       "080010601002040  Block 2040, Block Group 2, Census Tract 601, A...    08   \n",
       "080050862002010  Block 2010, Block Group 2, Census Tract 862, A...    08   \n",
       "080130136021017  Block 1017, Block Group 1, Census Tract 136.02...    08   \n",
       "080239727002605  Block 2605, Block Group 2, Census Tract 9727, ...    08   \n",
       "080310040031013  Block 1013, Block Group 1, Census Tract 40.03,...    08   \n",
       "080350142021045  Block 1045, Block Group 1, Census Tract 142.02...    08   \n",
       "080410025022004  Block 2004, Block Group 2, Census Tract 25.02,...    08   \n",
       "080410051062002  Block 2002, Block Group 2, Census Tract 51.06,...    08   \n",
       "080459518042017  Block 2017, Block Group 2, Census Tract 9518.0...    08   \n",
       "080519639002254  Block 2254, Block Group 2, Census Tract 9639, ...    08   \n",
       "080590117201008  Block 1008, Block Group 1, Census Tract 117.20...    08   \n",
       "080690001002064  Block 2064, Block Group 2, Census Tract 1, Lar...    08   \n",
       "080690027003021  Block 3021, Block Group 3, Census Tract 27, La...    08   \n",
       "080770014032015  Block 2015, Block Group 2, Census Tract 14.03,...    08   \n",
       "080859663001003  Block 1003, Block Group 1, Census Tract 9663, ...    08   \n",
       "080930005002126  Block 2126, Block Group 2, Census Tract 5, Par...    08   \n",
       "081010029181203  Block 1203, Block Group 1, Census Tract 29.18,...    08   \n",
       "081099776002439  Block 2439, Block Group 2, Census Tract 9776, ...    08   \n",
       "081230014041016  Block 1016, Block Group 1, Census Tract 14.04,...    08   \n",
       "081259632001207  Block 1207, Block Group 1, Census Tract 9632, ...    08   \n",
       "\n",
       "                county   tract block   INTPTLAT10    INTPTLON10  \\\n",
       "080010078011007    001  007801  1007  +39.7410946  -104.8746404   \n",
       "080010601002040    001  060100  2040  +39.9296836  -105.0114530   \n",
       "080050862002010    005  086200  2010  +39.6152277  -104.7508516   \n",
       "080130136021017    013  013602  1017  +40.2421819  -105.5128035   \n",
       "080239727002605    023  972700  2605  +37.0357247  -105.5426739   \n",
       "080310040031013    031  004003  1013  +39.6558139  -104.9204474   \n",
       "080350142021045    035  014202  1045  +39.4405716  -105.0421760   \n",
       "080410025022004    041  002502  2004  +38.8232486  -104.8472738   \n",
       "080410051062002    041  005106  2002  +38.9193076  -104.7180262   \n",
       "080459518042017    045  951804  2017  +39.3882075  -107.2087764   \n",
       "080519639002254    051  963900  2254  +38.4219798  -107.2246653   \n",
       "080590117201008    059  011720  1008  +39.7244355  -105.1763987   \n",
       "080690001002064    069  000100  2064  +40.5848915  -105.0744493   \n",
       "080690027003021    069  002700  3021  +40.3134325  -105.0817672   \n",
       "080770014032015    077  001403  2015  +39.0754618  -108.5895335   \n",
       "080859663001003    085  966300  1003  +38.4863300  -107.8833900   \n",
       "080930005002126    093  000500  2126  +38.9036878  -105.3891883   \n",
       "081010029181203    101  002918  1203  +38.3668510  -104.7230801   \n",
       "081099776002439    109  977600  2439  +38.3859798  -106.8151219   \n",
       "081230014041016    123  001404  1016  +40.3650765  -104.7478538   \n",
       "081259632001207    125  963200  1207  +40.2973415  -102.7103434   \n",
       "\n",
       "                                                          geometry  \\\n",
       "080010078011007  POLYGON ((-104.87523 39.74021, -104.87523 39.7...   \n",
       "080010601002040  POLYGON ((-105.01091 39.92974, -105.01015 39.9...   \n",
       "080050862002010  POLYGON ((-104.75167 39.61533, -104.75124 39.6...   \n",
       "080130136021017  POLYGON ((-105.51228 40.24292, -105.51225 40.2...   \n",
       "080239727002605  POLYGON ((-105.54269 37.04064, -105.54257 37.0...   \n",
       "080310040031013  POLYGON ((-104.91922 39.65373, -104.91918 39.6...   \n",
       "080350142021045  POLYGON ((-105.04271 39.43778, -105.04275 39.4...   \n",
       "080410025022004  POLYGON ((-104.84694 38.82332, -104.84695 38.8...   \n",
       "080410051062002  POLYGON ((-104.71880 38.91109, -104.71911 38.9...   \n",
       "080459518042017  POLYGON ((-107.20972 39.38819, -107.20944 39.3...   \n",
       "080519639002254  POLYGON ((-107.23351 38.42321, -107.23074 38.4...   \n",
       "080590117201008  POLYGON ((-105.17490 39.72502, -105.17489 39.7...   \n",
       "080690001002064  POLYGON ((-105.07481 40.58421, -105.07479 40.5...   \n",
       "080690027003021  POLYGON ((-105.08361 40.31433, -105.08356 40.3...   \n",
       "080770014032015  POLYGON ((-108.58807 39.07018, -108.58886 39.0...   \n",
       "080859663001003  POLYGON ((-107.88349 38.48559, -107.88366 38.4...   \n",
       "080930005002126  POLYGON ((-105.38928 38.90509, -105.38863 38.9...   \n",
       "081010029181203  POLYGON ((-104.72440 38.36847, -104.72331 38.3...   \n",
       "081099776002439  POLYGON ((-106.82801 38.38368, -106.82810 38.3...   \n",
       "081230014041016  POLYGON ((-104.74692 40.36436, -104.74893 40.3...   \n",
       "081259632001207  POLYGON ((-102.69955 40.29233, -102.70870 40.2...   \n",
       "\n",
       "                   blockgroup  \n",
       "080010078011007  080010078011  \n",
       "080010601002040  080010601002  \n",
       "080050862002010  080050862002  \n",
       "080130136021017  080130136021  \n",
       "080239727002605  080239727002  \n",
       "080310040031013  080310040031  \n",
       "080350142021045  080350142021  \n",
       "080410025022004  080410025022  \n",
       "080410051062002  080410051062  \n",
       "080459518042017  080459518042  \n",
       "080519639002254  080519639002  \n",
       "080590117201008  080590117201  \n",
       "080690001002064  080690001002  \n",
       "080690027003021  080690027003  \n",
       "080770014032015  080770014032  \n",
       "080859663001003  080859663001  \n",
       "080930005002126  080930005002  \n",
       "081010029181203  081010029181  \n",
       "081099776002439  081099776002  \n",
       "081230014041016  081230014041  \n",
       "081259632001207  081259632001  "
      ]
     },
     "execution_count": 39,
     "metadata": {},
     "output_type": "execute_result"
    }
   ],
   "source": [
    "trimmed_blocks[::10000]"
   ]
  },
  {
   "cell_type": "markdown",
   "metadata": {},
   "source": [
    "# Clean Block-Group Data"
   ]
  },
  {
   "cell_type": "code",
   "execution_count": 30,
   "metadata": {
    "ExecuteTime": {
     "end_time": "2020-03-19T16:15:01.224752Z",
     "start_time": "2020-03-19T16:15:01.212906Z"
    }
   },
   "outputs": [
    {
     "data": {
      "text/html": [
       "<div>\n",
       "<style scoped>\n",
       "    .dataframe tbody tr th:only-of-type {\n",
       "        vertical-align: middle;\n",
       "    }\n",
       "\n",
       "    .dataframe tbody tr th {\n",
       "        vertical-align: top;\n",
       "    }\n",
       "\n",
       "    .dataframe thead th {\n",
       "        text-align: right;\n",
       "    }\n",
       "</style>\n",
       "<table border=\"1\" class=\"dataframe\">\n",
       "  <thead>\n",
       "    <tr style=\"text-align: right;\">\n",
       "      <th></th>\n",
       "      <th>P001001</th>\n",
       "      <th>H001001</th>\n",
       "      <th>NAME</th>\n",
       "      <th>state</th>\n",
       "      <th>county</th>\n",
       "      <th>tract</th>\n",
       "      <th>block group</th>\n",
       "    </tr>\n",
       "  </thead>\n",
       "  <tbody>\n",
       "    <tr>\n",
       "      <th>0</th>\n",
       "      <td>1355</td>\n",
       "      <td>543</td>\n",
       "      <td>Block Group 1, Census Tract 78.01, Adams Count...</td>\n",
       "      <td>08</td>\n",
       "      <td>001</td>\n",
       "      <td>007801</td>\n",
       "      <td>1</td>\n",
       "    </tr>\n",
       "    <tr>\n",
       "      <th>1</th>\n",
       "      <td>2377</td>\n",
       "      <td>829</td>\n",
       "      <td>Block Group 2, Census Tract 78.01, Adams Count...</td>\n",
       "      <td>08</td>\n",
       "      <td>001</td>\n",
       "      <td>007801</td>\n",
       "      <td>2</td>\n",
       "    </tr>\n",
       "    <tr>\n",
       "      <th>2</th>\n",
       "      <td>1275</td>\n",
       "      <td>548</td>\n",
       "      <td>Block Group 1, Census Tract 78.02, Adams Count...</td>\n",
       "      <td>08</td>\n",
       "      <td>001</td>\n",
       "      <td>007802</td>\n",
       "      <td>1</td>\n",
       "    </tr>\n",
       "    <tr>\n",
       "      <th>3</th>\n",
       "      <td>1133</td>\n",
       "      <td>490</td>\n",
       "      <td>Block Group 2, Census Tract 78.02, Adams Count...</td>\n",
       "      <td>08</td>\n",
       "      <td>001</td>\n",
       "      <td>007802</td>\n",
       "      <td>2</td>\n",
       "    </tr>\n",
       "    <tr>\n",
       "      <th>4</th>\n",
       "      <td>1350</td>\n",
       "      <td>478</td>\n",
       "      <td>Block Group 3, Census Tract 78.02, Adams Count...</td>\n",
       "      <td>08</td>\n",
       "      <td>001</td>\n",
       "      <td>007802</td>\n",
       "      <td>3</td>\n",
       "    </tr>\n",
       "  </tbody>\n",
       "</table>\n",
       "</div>"
      ],
      "text/plain": [
       "  P001001 H001001                                               NAME state  \\\n",
       "0    1355     543  Block Group 1, Census Tract 78.01, Adams Count...    08   \n",
       "1    2377     829  Block Group 2, Census Tract 78.01, Adams Count...    08   \n",
       "2    1275     548  Block Group 1, Census Tract 78.02, Adams Count...    08   \n",
       "3    1133     490  Block Group 2, Census Tract 78.02, Adams Count...    08   \n",
       "4    1350     478  Block Group 3, Census Tract 78.02, Adams Count...    08   \n",
       "\n",
       "  county   tract block group  \n",
       "0    001  007801           1  \n",
       "1    001  007801           2  \n",
       "2    001  007802           1  \n",
       "3    001  007802           2  \n",
       "4    001  007802           3  "
      ]
     },
     "execution_count": 30,
     "metadata": {},
     "output_type": "execute_result"
    }
   ],
   "source": [
    "block_groups.head()"
   ]
  },
  {
   "cell_type": "code",
   "execution_count": 31,
   "metadata": {
    "ExecuteTime": {
     "end_time": "2020-03-19T16:15:04.817133Z",
     "start_time": "2020-03-19T16:15:04.544527Z"
    }
   },
   "outputs": [],
   "source": [
    "def block_group_id(df):\n",
    "    return df.tract + df[\"block group\"]\n",
    "\n",
    "block_groups[\"blockgroup\"] = block_groups.apply(block_group_id, axis=1)\n",
    "\n",
    "def block_group_geoid(df):\n",
    "    return df.state + df.county + df.tract + df[\"block group\"]\n",
    "\n",
    "block_groups[\"geoid\"] = block_groups.apply(block_group_geoid, axis=1)\n",
    "block_groups = block_groups.set_index(\"geoid\")"
   ]
  },
  {
   "cell_type": "code",
   "execution_count": 33,
   "metadata": {
    "ExecuteTime": {
     "end_time": "2020-03-19T16:16:45.222965Z",
     "start_time": "2020-03-19T16:15:53.267597Z"
    }
   },
   "outputs": [],
   "source": [
    "block_list = []\n",
    "for idx, bg in block_groups.iterrows():\n",
    "    block_list.append(trimmed_blocks[trimmed_blocks.blockgroup == idx].index.values)"
   ]
  },
  {
   "cell_type": "code",
   "execution_count": 40,
   "metadata": {
    "ExecuteTime": {
     "end_time": "2020-03-19T16:26:05.238883Z",
     "start_time": "2020-03-19T16:24:40.131019Z"
    }
   },
   "outputs": [],
   "source": [
    "bg_area = []\n",
    "bg_pop = []\n",
    "bg_res = []\n",
    "for blocks in block_list:\n",
    "    bg_area.append(sum([trimmed_blocks.loc[block].geometry.area for block in blocks]))\n",
    "    bg_pop.append(sum([int(trimmed_blocks.loc[block].population) for block in blocks]))\n",
    "    bg_res.append(sum([int(trimmed_blocks.loc[block].residences) for block in blocks]))"
   ]
  },
  {
   "cell_type": "code",
   "execution_count": 41,
   "metadata": {
    "ExecuteTime": {
     "end_time": "2020-03-19T16:26:05.249302Z",
     "start_time": "2020-03-19T16:26:05.241623Z"
    }
   },
   "outputs": [],
   "source": [
    "block_groups[\"blocks\"] = block_list\n",
    "block_groups[\"area\"] = bg_area\n",
    "block_groups[\"population\"] = bg_pop\n",
    "block_groups[\"residences\"] = bg_res"
   ]
  },
  {
   "cell_type": "code",
   "execution_count": 42,
   "metadata": {
    "ExecuteTime": {
     "end_time": "2020-03-19T16:26:05.269841Z",
     "start_time": "2020-03-19T16:26:05.251748Z"
    },
    "scrolled": true
   },
   "outputs": [
    {
     "data": {
      "text/html": [
       "<div>\n",
       "<style scoped>\n",
       "    .dataframe tbody tr th:only-of-type {\n",
       "        vertical-align: middle;\n",
       "    }\n",
       "\n",
       "    .dataframe tbody tr th {\n",
       "        vertical-align: top;\n",
       "    }\n",
       "\n",
       "    .dataframe thead th {\n",
       "        text-align: right;\n",
       "    }\n",
       "</style>\n",
       "<table border=\"1\" class=\"dataframe\">\n",
       "  <thead>\n",
       "    <tr style=\"text-align: right;\">\n",
       "      <th></th>\n",
       "      <th>P001001</th>\n",
       "      <th>H001001</th>\n",
       "      <th>NAME</th>\n",
       "      <th>state</th>\n",
       "      <th>county</th>\n",
       "      <th>tract</th>\n",
       "      <th>block group</th>\n",
       "      <th>blockgroup</th>\n",
       "      <th>blocks</th>\n",
       "      <th>area</th>\n",
       "      <th>population</th>\n",
       "      <th>residences</th>\n",
       "    </tr>\n",
       "    <tr>\n",
       "      <th>geoid</th>\n",
       "      <th></th>\n",
       "      <th></th>\n",
       "      <th></th>\n",
       "      <th></th>\n",
       "      <th></th>\n",
       "      <th></th>\n",
       "      <th></th>\n",
       "      <th></th>\n",
       "      <th></th>\n",
       "      <th></th>\n",
       "      <th></th>\n",
       "      <th></th>\n",
       "    </tr>\n",
       "  </thead>\n",
       "  <tbody>\n",
       "    <tr>\n",
       "      <th>080010078011</th>\n",
       "      <td>1355</td>\n",
       "      <td>543</td>\n",
       "      <td>Block Group 1, Census Tract 78.01, Adams Count...</td>\n",
       "      <td>08</td>\n",
       "      <td>001</td>\n",
       "      <td>007801</td>\n",
       "      <td>1</td>\n",
       "      <td>0078011</td>\n",
       "      <td>[080010078011007, 080010078011008, 08001007801...</td>\n",
       "      <td>0.000034</td>\n",
       "      <td>1355</td>\n",
       "      <td>543</td>\n",
       "    </tr>\n",
       "    <tr>\n",
       "      <th>080010078012</th>\n",
       "      <td>2377</td>\n",
       "      <td>829</td>\n",
       "      <td>Block Group 2, Census Tract 78.01, Adams Count...</td>\n",
       "      <td>08</td>\n",
       "      <td>001</td>\n",
       "      <td>007801</td>\n",
       "      <td>2</td>\n",
       "      <td>0078012</td>\n",
       "      <td>[080010078012010, 080010078012007, 08001007801...</td>\n",
       "      <td>0.000034</td>\n",
       "      <td>2377</td>\n",
       "      <td>829</td>\n",
       "    </tr>\n",
       "    <tr>\n",
       "      <th>080010078021</th>\n",
       "      <td>1275</td>\n",
       "      <td>548</td>\n",
       "      <td>Block Group 1, Census Tract 78.02, Adams Count...</td>\n",
       "      <td>08</td>\n",
       "      <td>001</td>\n",
       "      <td>007802</td>\n",
       "      <td>1</td>\n",
       "      <td>0078021</td>\n",
       "      <td>[080010078021001, 080010078021002, 08001007802...</td>\n",
       "      <td>0.000034</td>\n",
       "      <td>1275</td>\n",
       "      <td>548</td>\n",
       "    </tr>\n",
       "    <tr>\n",
       "      <th>080010078022</th>\n",
       "      <td>1133</td>\n",
       "      <td>490</td>\n",
       "      <td>Block Group 2, Census Tract 78.02, Adams Count...</td>\n",
       "      <td>08</td>\n",
       "      <td>001</td>\n",
       "      <td>007802</td>\n",
       "      <td>2</td>\n",
       "      <td>0078022</td>\n",
       "      <td>[080010078022000, 080010078022001, 08001007802...</td>\n",
       "      <td>0.000017</td>\n",
       "      <td>1133</td>\n",
       "      <td>490</td>\n",
       "    </tr>\n",
       "    <tr>\n",
       "      <th>080010078023</th>\n",
       "      <td>1350</td>\n",
       "      <td>478</td>\n",
       "      <td>Block Group 3, Census Tract 78.02, Adams Count...</td>\n",
       "      <td>08</td>\n",
       "      <td>001</td>\n",
       "      <td>007802</td>\n",
       "      <td>3</td>\n",
       "      <td>0078023</td>\n",
       "      <td>[080010078023003, 080010078023004, 08001007802...</td>\n",
       "      <td>0.000017</td>\n",
       "      <td>1350</td>\n",
       "      <td>478</td>\n",
       "    </tr>\n",
       "  </tbody>\n",
       "</table>\n",
       "</div>"
      ],
      "text/plain": [
       "             P001001 H001001  \\\n",
       "geoid                          \n",
       "080010078011    1355     543   \n",
       "080010078012    2377     829   \n",
       "080010078021    1275     548   \n",
       "080010078022    1133     490   \n",
       "080010078023    1350     478   \n",
       "\n",
       "                                                           NAME state county  \\\n",
       "geoid                                                                          \n",
       "080010078011  Block Group 1, Census Tract 78.01, Adams Count...    08    001   \n",
       "080010078012  Block Group 2, Census Tract 78.01, Adams Count...    08    001   \n",
       "080010078021  Block Group 1, Census Tract 78.02, Adams Count...    08    001   \n",
       "080010078022  Block Group 2, Census Tract 78.02, Adams Count...    08    001   \n",
       "080010078023  Block Group 3, Census Tract 78.02, Adams Count...    08    001   \n",
       "\n",
       "               tract block group blockgroup  \\\n",
       "geoid                                         \n",
       "080010078011  007801           1    0078011   \n",
       "080010078012  007801           2    0078012   \n",
       "080010078021  007802           1    0078021   \n",
       "080010078022  007802           2    0078022   \n",
       "080010078023  007802           3    0078023   \n",
       "\n",
       "                                                         blocks      area  \\\n",
       "geoid                                                                       \n",
       "080010078011  [080010078011007, 080010078011008, 08001007801...  0.000034   \n",
       "080010078012  [080010078012010, 080010078012007, 08001007801...  0.000034   \n",
       "080010078021  [080010078021001, 080010078021002, 08001007802...  0.000034   \n",
       "080010078022  [080010078022000, 080010078022001, 08001007802...  0.000017   \n",
       "080010078023  [080010078023003, 080010078023004, 08001007802...  0.000017   \n",
       "\n",
       "              population  residences  \n",
       "geoid                                 \n",
       "080010078011        1355         543  \n",
       "080010078012        2377         829  \n",
       "080010078021        1275         548  \n",
       "080010078022        1133         490  \n",
       "080010078023        1350         478  "
      ]
     },
     "execution_count": 42,
     "metadata": {},
     "output_type": "execute_result"
    }
   ],
   "source": [
    "block_groups.head()"
   ]
  },
  {
   "cell_type": "markdown",
   "metadata": {},
   "source": [
    "## What fraction of its block group is each block?"
   ]
  },
  {
   "cell_type": "code",
   "execution_count": 82,
   "metadata": {
    "ExecuteTime": {
     "end_time": "2020-03-19T16:56:03.245761Z",
     "start_time": "2020-03-19T16:53:28.912402Z"
    }
   },
   "outputs": [],
   "source": [
    "def assign_block_portion(block, bg, var):\n",
    "    try:\n",
    "        res = float(block[var])/float(bg.loc[block.blockgroup][var])\n",
    "    except ZeroDivisionError:\n",
    "        res = 0\n",
    "    return res\n",
    "\n",
    "for var in ['area', 'population', 'residences']:\n",
    "    trimmed_blocks[var + '_prop'] = trimmed_blocks.apply(\n",
    "        lambda x: assign_block_portion(x, block_groups, var), axis=1\n",
    "    )"
   ]
  },
  {
   "cell_type": "code",
   "execution_count": 83,
   "metadata": {
    "ExecuteTime": {
     "end_time": "2020-03-19T17:15:02.139546Z",
     "start_time": "2020-03-19T17:15:02.117778Z"
    },
    "scrolled": true
   },
   "outputs": [
    {
     "data": {
      "text/html": [
       "<div>\n",
       "<style scoped>\n",
       "    .dataframe tbody tr th:only-of-type {\n",
       "        vertical-align: middle;\n",
       "    }\n",
       "\n",
       "    .dataframe tbody tr th {\n",
       "        vertical-align: top;\n",
       "    }\n",
       "\n",
       "    .dataframe thead th {\n",
       "        text-align: right;\n",
       "    }\n",
       "</style>\n",
       "<table border=\"1\" class=\"dataframe\">\n",
       "  <thead>\n",
       "    <tr style=\"text-align: right;\">\n",
       "      <th></th>\n",
       "      <th>population</th>\n",
       "      <th>residences</th>\n",
       "      <th>name</th>\n",
       "      <th>state</th>\n",
       "      <th>county</th>\n",
       "      <th>tract</th>\n",
       "      <th>block</th>\n",
       "      <th>INTPTLAT10</th>\n",
       "      <th>INTPTLON10</th>\n",
       "      <th>geometry</th>\n",
       "      <th>blockgroup</th>\n",
       "      <th>area</th>\n",
       "      <th>area_prop</th>\n",
       "      <th>population_prop</th>\n",
       "      <th>residences_prop</th>\n",
       "    </tr>\n",
       "  </thead>\n",
       "  <tbody>\n",
       "    <tr>\n",
       "      <th>080010078011007</th>\n",
       "      <td>244</td>\n",
       "      <td>71</td>\n",
       "      <td>Block 1007, Block Group 1, Census Tract 78.01,...</td>\n",
       "      <td>08</td>\n",
       "      <td>001</td>\n",
       "      <td>007801</td>\n",
       "      <td>1007</td>\n",
       "      <td>+39.7410946</td>\n",
       "      <td>-104.8746404</td>\n",
       "      <td>POLYGON ((-104.87523 39.74021, -104.87523 39.7...</td>\n",
       "      <td>080010078011</td>\n",
       "      <td>0.000002</td>\n",
       "      <td>0.060947</td>\n",
       "      <td>0.180074</td>\n",
       "      <td>0.130755</td>\n",
       "    </tr>\n",
       "    <tr>\n",
       "      <th>080010078011008</th>\n",
       "      <td>310</td>\n",
       "      <td>110</td>\n",
       "      <td>Block 1008, Block Group 1, Census Tract 78.01,...</td>\n",
       "      <td>08</td>\n",
       "      <td>001</td>\n",
       "      <td>007801</td>\n",
       "      <td>1008</td>\n",
       "      <td>+39.7410876</td>\n",
       "      <td>-104.8734686</td>\n",
       "      <td>POLYGON ((-104.87407 39.74021, -104.87404 39.7...</td>\n",
       "      <td>080010078011</td>\n",
       "      <td>0.000002</td>\n",
       "      <td>0.061142</td>\n",
       "      <td>0.228782</td>\n",
       "      <td>0.202578</td>\n",
       "    </tr>\n",
       "    <tr>\n",
       "      <th>080010078011013</th>\n",
       "      <td>56</td>\n",
       "      <td>18</td>\n",
       "      <td>Block 1013, Block Group 1, Census Tract 78.01,...</td>\n",
       "      <td>08</td>\n",
       "      <td>001</td>\n",
       "      <td>007801</td>\n",
       "      <td>1013</td>\n",
       "      <td>+39.7410877</td>\n",
       "      <td>-104.8675985</td>\n",
       "      <td>POLYGON ((-104.86701 39.74197, -104.86701 39.7...</td>\n",
       "      <td>080010078011</td>\n",
       "      <td>0.000002</td>\n",
       "      <td>0.061274</td>\n",
       "      <td>0.041328</td>\n",
       "      <td>0.033149</td>\n",
       "    </tr>\n",
       "    <tr>\n",
       "      <th>080010078011010</th>\n",
       "      <td>11</td>\n",
       "      <td>4</td>\n",
       "      <td>Block 1010, Block Group 1, Census Tract 78.01,...</td>\n",
       "      <td>08</td>\n",
       "      <td>001</td>\n",
       "      <td>007801</td>\n",
       "      <td>1010</td>\n",
       "      <td>+39.7410904</td>\n",
       "      <td>-104.8711363</td>\n",
       "      <td>POLYGON ((-104.87173 39.74021, -104.87174 39.7...</td>\n",
       "      <td>080010078011</td>\n",
       "      <td>0.000002</td>\n",
       "      <td>0.062724</td>\n",
       "      <td>0.008118</td>\n",
       "      <td>0.007366</td>\n",
       "    </tr>\n",
       "    <tr>\n",
       "      <th>080010078011011</th>\n",
       "      <td>68</td>\n",
       "      <td>47</td>\n",
       "      <td>Block 1011, Block Group 1, Census Tract 78.01,...</td>\n",
       "      <td>08</td>\n",
       "      <td>001</td>\n",
       "      <td>007801</td>\n",
       "      <td>1011</td>\n",
       "      <td>+39.7410900</td>\n",
       "      <td>-104.8699492</td>\n",
       "      <td>POLYGON ((-104.86936 39.74021, -104.87054 39.7...</td>\n",
       "      <td>080010078011</td>\n",
       "      <td>0.000002</td>\n",
       "      <td>0.061446</td>\n",
       "      <td>0.050185</td>\n",
       "      <td>0.086556</td>\n",
       "    </tr>\n",
       "  </tbody>\n",
       "</table>\n",
       "</div>"
      ],
      "text/plain": [
       "                population residences  \\\n",
       "080010078011007        244         71   \n",
       "080010078011008        310        110   \n",
       "080010078011013         56         18   \n",
       "080010078011010         11          4   \n",
       "080010078011011         68         47   \n",
       "\n",
       "                                                              name state  \\\n",
       "080010078011007  Block 1007, Block Group 1, Census Tract 78.01,...    08   \n",
       "080010078011008  Block 1008, Block Group 1, Census Tract 78.01,...    08   \n",
       "080010078011013  Block 1013, Block Group 1, Census Tract 78.01,...    08   \n",
       "080010078011010  Block 1010, Block Group 1, Census Tract 78.01,...    08   \n",
       "080010078011011  Block 1011, Block Group 1, Census Tract 78.01,...    08   \n",
       "\n",
       "                county   tract block   INTPTLAT10    INTPTLON10  \\\n",
       "080010078011007    001  007801  1007  +39.7410946  -104.8746404   \n",
       "080010078011008    001  007801  1008  +39.7410876  -104.8734686   \n",
       "080010078011013    001  007801  1013  +39.7410877  -104.8675985   \n",
       "080010078011010    001  007801  1010  +39.7410904  -104.8711363   \n",
       "080010078011011    001  007801  1011  +39.7410900  -104.8699492   \n",
       "\n",
       "                                                          geometry  \\\n",
       "080010078011007  POLYGON ((-104.87523 39.74021, -104.87523 39.7...   \n",
       "080010078011008  POLYGON ((-104.87407 39.74021, -104.87404 39.7...   \n",
       "080010078011013  POLYGON ((-104.86701 39.74197, -104.86701 39.7...   \n",
       "080010078011010  POLYGON ((-104.87173 39.74021, -104.87174 39.7...   \n",
       "080010078011011  POLYGON ((-104.86936 39.74021, -104.87054 39.7...   \n",
       "\n",
       "                   blockgroup      area  area_prop  population_prop  \\\n",
       "080010078011007  080010078011  0.000002   0.060947         0.180074   \n",
       "080010078011008  080010078011  0.000002   0.061142         0.228782   \n",
       "080010078011013  080010078011  0.000002   0.061274         0.041328   \n",
       "080010078011010  080010078011  0.000002   0.062724         0.008118   \n",
       "080010078011011  080010078011  0.000002   0.061446         0.050185   \n",
       "\n",
       "                 residences_prop  \n",
       "080010078011007         0.130755  \n",
       "080010078011008         0.202578  \n",
       "080010078011013         0.033149  \n",
       "080010078011010         0.007366  \n",
       "080010078011011         0.086556  "
      ]
     },
     "execution_count": 83,
     "metadata": {},
     "output_type": "execute_result"
    }
   ],
   "source": [
    "trimmed_blocks.head()"
   ]
  },
  {
   "cell_type": "code",
   "execution_count": null,
   "metadata": {
    "ExecuteTime": {
     "end_time": "2020-03-19T16:45:01.318701Z",
     "start_time": "2020-03-19T16:45:01.314889Z"
    }
   },
   "outputs": [],
   "source": []
  },
  {
   "cell_type": "markdown",
   "metadata": {},
   "source": [
    "# Which Precinct is each Block in?"
   ]
  },
  {
   "cell_type": "code",
   "execution_count": 332,
   "metadata": {
    "ExecuteTime": {
     "end_time": "2020-03-20T16:30:04.910846Z",
     "start_time": "2020-03-20T16:30:04.859796Z"
    },
    "scrolled": true
   },
   "outputs": [],
   "source": [
    "blocks_gpd = gpd.GeoDataFrame(trimmed_blocks, crs=block_shapes.crs)"
   ]
  },
  {
   "cell_type": "code",
   "execution_count": 333,
   "metadata": {
    "ExecuteTime": {
     "end_time": "2020-03-20T16:30:19.842584Z",
     "start_time": "2020-03-20T16:30:07.387802Z"
    }
   },
   "outputs": [],
   "source": [
    "precincts_2016 = gpd.read_file(\"../data/processed/precincts/precincts_2016.geojson\")\n",
    "precincts_2018 = gpd.read_file(\"../data/processed/precincts/precincts_2018.geojson\")"
   ]
  },
  {
   "cell_type": "code",
   "execution_count": 334,
   "metadata": {
    "ExecuteTime": {
     "end_time": "2020-03-20T18:10:44.898304Z",
     "start_time": "2020-03-20T16:30:28.904555Z"
    },
    "scrolled": false
   },
   "outputs": [
    {
     "name": "stdout",
     "output_type": "stream",
     "text": [
      "county: 001, precincts: 249, blocks: 10351, time: 283.43\n",
      "county: 003, precincts: 8, blocks: 1125, time: 1.95\n",
      "county: 005, precincts: 395, blocks: 9118, time: 392.55\n",
      "county: 007, precincts: 8, blocks: 1183, time: 2.03\n",
      "county: 009, precincts: 9, blocks: 1188, time: 1.70\n",
      "county: 011, precincts: 5, blocks: 1138, time: 1.39\n",
      "county: 013, precincts: 233, blocks: 7368, time: 188.21\n",
      "county: 014, precincts: 37, blocks: 1419, time: 6.24\n",
      "county: 015, precincts: 15, blocks: 1898, time: 4.32\n",
      "county: 017, precincts: 5, blocks: 612, time: 0.60\n",
      "county: 019, precincts: 9, blocks: 1483, time: 2.55\n",
      "county: 021, precincts: 10, blocks: 1150, time: 2.05\n",
      "county: 023, precincts: 8, blocks: 2833, time: 4.53\n",
      "county: 025, precincts: 6, blocks: 537, time: 0.65\n",
      "county: 027, precincts: 3, blocks: 1206, time: 1.11\n",
      "county: 029, precincts: 20, blocks: 1989, time: 5.68\n",
      "county: 031, precincts: 346, blocks: 11039, time: 419.54\n",
      "county: 033, precincts: 4, blocks: 673, time: 0.77\n",
      "county: 035, precincts: 155, blocks: 5568, time: 95.98\n",
      "county: 037, precincts: 30, blocks: 3686, time: 15.30\n",
      "county: 039, precincts: 15, blocks: 1118, time: 2.41\n",
      "county: 041, precincts: 242, blocks: 18690, time: 496.78\n",
      "county: 043, precincts: 30, blocks: 3285, time: 13.87\n",
      "county: 045, precincts: 27, blocks: 4329, time: 18.55\n",
      "county: 047, precincts: 6, blocks: 835, time: 0.96\n",
      "county: 049, precincts: 12, blocks: 2749, time: 6.51\n",
      "county: 051, precincts: 15, blocks: 3628, time: 8.81\n",
      "county: 053, precincts: 1, blocks: 509, time: 0.32\n",
      "county: 055, precincts: 11, blocks: 2024, time: 3.74\n",
      "county: 057, precincts: 5, blocks: 1080, time: 2.08\n",
      "county: 059, precincts: 258, blocks: 10139, time: 291.20\n",
      "county: 061, precincts: 4, blocks: 673, time: 0.71\n",
      "county: 063, precincts: 13, blocks: 1382, time: 2.61\n",
      "county: 065, precincts: 6, blocks: 946, time: 1.34\n",
      "county: 067, precincts: 32, blocks: 2928, time: 12.85\n",
      "county: 069, precincts: 171, blocks: 10976, time: 209.70\n",
      "county: 071, precincts: 15, blocks: 2764, time: 9.65\n",
      "county: 073, precincts: 13, blocks: 1458, time: 2.96\n",
      "county: 075, precincts: 16, blocks: 2523, time: 5.89\n",
      "county: 077, precincts: 57, blocks: 5552, time: 37.31\n",
      "county: 079, precincts: 1, blocks: 429, time: 0.20\n",
      "county: 081, precincts: 13, blocks: 2275, time: 6.04\n",
      "county: 083, precincts: 11, blocks: 2649, time: 6.57\n",
      "county: 085, precincts: 28, blocks: 3077, time: 12.34\n",
      "county: 087, precincts: 17, blocks: 2299, time: 5.19\n",
      "county: 089, precincts: 17, blocks: 3170, time: 7.82\n",
      "county: 091, precincts: 5, blocks: 740, time: 0.95\n",
      "county: 093, precincts: 13, blocks: 2759, time: 6.44\n",
      "county: 095, precincts: 8, blocks: 1003, time: 1.26\n",
      "county: 097, precincts: 10, blocks: 1164, time: 2.29\n",
      "county: 099, precincts: 13, blocks: 2057, time: 3.92\n",
      "county: 101, precincts: 128, blocks: 7856, time: 114.86\n",
      "county: 103, precincts: 5, blocks: 2267, time: 2.69\n",
      "county: 105, precincts: 15, blocks: 1488, time: 3.72\n",
      "county: 107, precincts: 18, blocks: 2610, time: 6.90\n",
      "county: 109, precincts: 7, blocks: 1671, time: 2.37\n",
      "county: 111, precincts: 1, blocks: 285, time: 0.19\n",
      "county: 113, precincts: 6, blocks: 1191, time: 1.37\n",
      "county: 115, precincts: 5, blocks: 736, time: 0.72\n",
      "county: 117, precincts: 20, blocks: 2159, time: 6.21\n",
      "county: 119, precincts: 13, blocks: 1835, time: 4.15\n",
      "county: 121, precincts: 6, blocks: 1393, time: 1.47\n",
      "county: 123, precincts: 131, blocks: 9901, time: 144.83\n",
      "county: 125, precincts: 14, blocks: 2896, time: 5.48\n",
      "county: 001, precincts: 255, blocks: 10351, time: 288.42\n",
      "county: 003, precincts: 8, blocks: 1125, time: 1.84\n",
      "county: 005, precincts: 399, blocks: 9118, time: 398.38\n",
      "county: 007, precincts: 8, blocks: 1183, time: 1.90\n",
      "county: 009, precincts: 9, blocks: 1188, time: 1.67\n",
      "county: 011, precincts: 5, blocks: 1138, time: 1.31\n",
      "county: 013, precincts: 235, blocks: 7368, time: 191.09\n",
      "county: 014, precincts: 37, blocks: 1419, time: 6.16\n",
      "county: 015, precincts: 9, blocks: 1898, time: 2.98\n",
      "county: 017, precincts: 5, blocks: 612, time: 0.58\n",
      "county: 019, precincts: 9, blocks: 1483, time: 2.41\n",
      "county: 021, precincts: 10, blocks: 1150, time: 1.94\n",
      "county: 023, precincts: 8, blocks: 2833, time: 4.34\n",
      "county: 025, precincts: 6, blocks: 537, time: 0.60\n",
      "county: 027, precincts: 3, blocks: 1206, time: 1.07\n",
      "county: 029, precincts: 20, blocks: 1989, time: 5.59\n",
      "county: 031, precincts: 356, blocks: 11039, time: 429.54\n",
      "county: 033, precincts: 4, blocks: 673, time: 0.71\n",
      "county: 035, precincts: 168, blocks: 5568, time: 104.19\n",
      "county: 037, precincts: 30, blocks: 3686, time: 14.99\n",
      "county: 039, precincts: 14, blocks: 1118, time: 2.16\n",
      "county: 041, precincts: 282, blocks: 18690, time: 577.15\n",
      "county: 043, precincts: 30, blocks: 3285, time: 13.57\n",
      "county: 045, precincts: 27, blocks: 4329, time: 16.32\n",
      "county: 047, precincts: 6, blocks: 835, time: 0.92\n",
      "county: 049, precincts: 12, blocks: 2749, time: 6.22\n",
      "county: 051, precincts: 15, blocks: 3628, time: 8.63\n",
      "county: 053, precincts: 1, blocks: 509, time: 0.32\n",
      "county: 055, precincts: 11, blocks: 2024, time: 3.63\n",
      "county: 057, precincts: 5, blocks: 1080, time: 1.92\n",
      "county: 059, precincts: 258, blocks: 10139, time: 286.36\n",
      "county: 061, precincts: 4, blocks: 673, time: 0.70\n",
      "county: 063, precincts: 13, blocks: 1382, time: 2.47\n",
      "county: 065, precincts: 6, blocks: 946, time: 1.18\n",
      "county: 067, precincts: 32, blocks: 2928, time: 12.32\n",
      "county: 069, precincts: 203, blocks: 10976, time: 247.86\n",
      "county: 071, precincts: 16, blocks: 2764, time: 9.59\n",
      "county: 073, precincts: 13, blocks: 1458, time: 2.85\n",
      "county: 075, precincts: 16, blocks: 2523, time: 5.83\n",
      "county: 077, precincts: 57, blocks: 5552, time: 46.19\n",
      "county: 079, precincts: 1, blocks: 429, time: 0.21\n",
      "county: 081, precincts: 13, blocks: 2275, time: 5.99\n",
      "county: 083, precincts: 11, blocks: 2649, time: 6.55\n",
      "county: 085, precincts: 28, blocks: 3077, time: 12.93\n",
      "county: 087, precincts: 17, blocks: 2299, time: 5.39\n",
      "county: 089, precincts: 17, blocks: 3170, time: 8.22\n",
      "county: 091, precincts: 5, blocks: 740, time: 1.06\n",
      "county: 093, precincts: 13, blocks: 2759, time: 6.71\n",
      "county: 095, precincts: 8, blocks: 1003, time: 1.30\n",
      "county: 097, precincts: 10, blocks: 1164, time: 2.27\n",
      "county: 099, precincts: 13, blocks: 2057, time: 4.06\n",
      "county: 101, precincts: 128, blocks: 7856, time: 124.74\n",
      "county: 103, precincts: 5, blocks: 2267, time: 2.72\n",
      "county: 105, precincts: 15, blocks: 1488, time: 3.74\n",
      "county: 107, precincts: 18, blocks: 2610, time: 6.74\n",
      "county: 109, precincts: 7, blocks: 1671, time: 2.31\n",
      "county: 111, precincts: 1, blocks: 285, time: 0.18\n",
      "county: 113, precincts: 6, blocks: 1191, time: 1.33\n",
      "county: 115, precincts: 5, blocks: 736, time: 0.72\n",
      "county: 117, precincts: 20, blocks: 2159, time: 6.09\n",
      "county: 119, precincts: 13, blocks: 1835, time: 3.95\n",
      "county: 121, precincts: 6, blocks: 1393, time: 1.43\n",
      "county: 123, precincts: 156, blocks: 9901, time: 188.79\n",
      "county: 125, precincts: 14, blocks: 2896, time: 5.81\n"
     ]
    }
   ],
   "source": [
    "def find_overlaps_precinct_block(precincts, blocks, counties):\n",
    "\n",
    "    precinct_assignment = []\n",
    "\n",
    "    for county in counties:\n",
    "        dt1 = time.time()\n",
    "        precincts_to_match = precincts[precincts.COUNTYFP == county]\n",
    "        blocks_to_match = blocks[blocks.county == county]\n",
    "        assignment = []\n",
    "        for bname, block in blocks_to_match.iterrows():\n",
    "            block_assign = [bname]\n",
    "            for pname, prec in precincts_to_match.iterrows():\n",
    "                if prec.geometry.intersects(block.geometry):\n",
    "                    block_assign.append(prec.VTDST5)\n",
    "\n",
    "            assignment.append(block_assign)\n",
    "\n",
    "        precinct_assignment.append(assignment)\n",
    "        dt2 = time.time()\n",
    "        print(f\"county: {county}, precincts: {len(precincts_to_match)}, \"\n",
    "              f\"blocks: {len(blocks_to_match)}, time: {dt2-dt1:.2F}\")\n",
    "        \n",
    "    return precinct_assignment\n",
    "\n",
    "bp_overlaps_2016 = find_overlaps_precinct_block(precincts_2016, blocks_gpd, county_fips)\n",
    "bp_overlaps_2018 = find_overlaps_precinct_block(precincts_2018, blocks_gpd, county_fips)"
   ]
  },
  {
   "cell_type": "code",
   "execution_count": 335,
   "metadata": {
    "ExecuteTime": {
     "end_time": "2020-03-20T18:10:44.907206Z",
     "start_time": "2020-03-20T18:10:44.901593Z"
    }
   },
   "outputs": [],
   "source": [
    "def parse_precinct_overlaps_to_df(precinct_assignment):\n",
    "    block_num = []\n",
    "    assn = []\n",
    "    for county in precinct_assignment:\n",
    "        for block in county:\n",
    "            block_num.append(block[0])\n",
    "            assn.append(block[1:])\n",
    "            \n",
    "    block_assign = pd.DataFrame(data=np.zeros((len(assn), 2)), columns=['overlaps', 'idx'])\n",
    "    block_assign.overlaps = assn\n",
    "    block_assign.idx = block_num\n",
    "    block_assign = block_assign.set_index('idx')\n",
    "    return block_assign"
   ]
  },
  {
   "cell_type": "code",
   "execution_count": 336,
   "metadata": {
    "ExecuteTime": {
     "end_time": "2020-03-20T18:10:46.219701Z",
     "start_time": "2020-03-20T18:10:44.910297Z"
    }
   },
   "outputs": [],
   "source": [
    "block_overlaps_2016 = parse_precinct_overlaps_to_df(bp_overlaps_2016)\n",
    "block_overlaps_2018 = parse_precinct_overlaps_to_df(bp_overlaps_2018)"
   ]
  },
  {
   "cell_type": "code",
   "execution_count": 337,
   "metadata": {
    "ExecuteTime": {
     "end_time": "2020-03-20T18:10:46.234379Z",
     "start_time": "2020-03-20T18:10:46.223133Z"
    }
   },
   "outputs": [
    {
     "data": {
      "text/html": [
       "<div>\n",
       "<style scoped>\n",
       "    .dataframe tbody tr th:only-of-type {\n",
       "        vertical-align: middle;\n",
       "    }\n",
       "\n",
       "    .dataframe tbody tr th {\n",
       "        vertical-align: top;\n",
       "    }\n",
       "\n",
       "    .dataframe thead th {\n",
       "        text-align: right;\n",
       "    }\n",
       "</style>\n",
       "<table border=\"1\" class=\"dataframe\">\n",
       "  <thead>\n",
       "    <tr style=\"text-align: right;\">\n",
       "      <th></th>\n",
       "      <th>overlaps</th>\n",
       "    </tr>\n",
       "    <tr>\n",
       "      <th>idx</th>\n",
       "      <th></th>\n",
       "    </tr>\n",
       "  </thead>\n",
       "  <tbody>\n",
       "    <tr>\n",
       "      <th>080010078011007</th>\n",
       "      <td>[01229]</td>\n",
       "    </tr>\n",
       "    <tr>\n",
       "      <th>080010078011008</th>\n",
       "      <td>[01229]</td>\n",
       "    </tr>\n",
       "    <tr>\n",
       "      <th>080010078011013</th>\n",
       "      <td>[01230]</td>\n",
       "    </tr>\n",
       "    <tr>\n",
       "      <th>080010078011010</th>\n",
       "      <td>[01229]</td>\n",
       "    </tr>\n",
       "    <tr>\n",
       "      <th>080010078011011</th>\n",
       "      <td>[01229, 01230]</td>\n",
       "    </tr>\n",
       "  </tbody>\n",
       "</table>\n",
       "</div>"
      ],
      "text/plain": [
       "                       overlaps\n",
       "idx                            \n",
       "080010078011007         [01229]\n",
       "080010078011008         [01229]\n",
       "080010078011013         [01230]\n",
       "080010078011010         [01229]\n",
       "080010078011011  [01229, 01230]"
      ]
     },
     "execution_count": 337,
     "metadata": {},
     "output_type": "execute_result"
    }
   ],
   "source": [
    "block_overlaps_2016.head()"
   ]
  },
  {
   "cell_type": "code",
   "execution_count": 382,
   "metadata": {
    "ExecuteTime": {
     "end_time": "2020-03-20T19:06:05.726713Z",
     "start_time": "2020-03-20T19:06:05.713969Z"
    }
   },
   "outputs": [],
   "source": [
    "def parse_matches(idx, matches, precinct_targets, length, trunc_thresh=0.01):\n",
    "    default = [None, 0]\n",
    "    if len(matches.overlaps) == 1:\n",
    "        return [matches[0][0], 1.0] + (length-1)*default\n",
    "    else:\n",
    "        block_geom = trimmed_blocks.loc[idx].geometry\n",
    "        #precincts = []\n",
    "        #for i, match in enumerate(matches.overlaps):\n",
    "        #    try:\n",
    "        #        precincts.append(precinct_targets.loc[match].geometry)\n",
    "        #    except:\n",
    "        #        print(i, match)\n",
    "        \n",
    "        \n",
    "        precincts = [precinct_targets.loc[match].geometry\n",
    "                   for match in matches.overlaps]\n",
    "        overlap = [block_geom.intersection(g)\n",
    "                   for g in precincts]\n",
    "        area = trimmed_blocks.loc[idx].geometry.area\n",
    "        frac_overlap = np.array([over.area/area for over in overlap])\n",
    "        sorter = np.argsort(frac_overlap).astype(int)\n",
    "        ranked_match = np.flip(np.array(matches.overlaps)[sorter])\n",
    "        ranked_frac = np.flip(frac_overlap[sorter])\n",
    "        ranked_match = ranked_match[ranked_frac>trunc_thresh]\n",
    "        ranked_frac = ranked_frac[ranked_frac>trunc_thresh]\n",
    "        ranked_match = ranked_match[:length]\n",
    "        ranked_frac = ranked_frac[:length]\n",
    "        ranked_frac = ranked_frac/np.sum(ranked_frac)        \n",
    "        ranked = [i for pair in zip(ranked_match, ranked_frac) for i in pair]\n",
    "        \n",
    "        ranked = ranked + default*(length-int(len(ranked)/2))\n",
    "        return ranked\n",
    "\n",
    "def parse_overlaps_to_assignments(precinct_df, overlap_df, num_matches=5):    \n",
    "    precinct_targets = precinct_df.set_index(\"VTDST5\")\n",
    "    parsed_matches = []\n",
    "    num_matches = 5\n",
    "    for idx, matches in overlap_df.iterrows():\n",
    "        parsed_matches.append(parse_matches(idx, matches, precinct_targets, num_matches))\n",
    "    return parsed_matches\n",
    "\n",
    "def parse_precinct_assingments_to_df(assignments, overlap_df, num_matches=5):\n",
    "    columns = [[\"match\"+str(i), \"frac\"+str(i)] for i in range(num_matches)]\n",
    "    columns = [i for j in columns for i in j]\n",
    "    new_assign = pd.DataFrame(index=overlap_df.index, data=assignments,\n",
    "                          columns=columns)\n",
    "    block_assignments = pd.concat([overlap_df, new_assign], axis=1)\n",
    "    return block_assignments"
   ]
  },
  {
   "cell_type": "code",
   "execution_count": 383,
   "metadata": {
    "ExecuteTime": {
     "end_time": "2020-03-20T19:08:24.130245Z",
     "start_time": "2020-03-20T19:06:06.492765Z"
    }
   },
   "outputs": [],
   "source": [
    "block_assignments_2016 = parse_precinct_assingments_to_df(\n",
    "            parse_overlaps_to_assignments(precincts_2016, block_overlaps_2016),\n",
    "            block_overlaps_2016)"
   ]
  },
  {
   "cell_type": "code",
   "execution_count": 384,
   "metadata": {
    "ExecuteTime": {
     "end_time": "2020-03-20T19:10:38.276388Z",
     "start_time": "2020-03-20T19:08:24.132720Z"
    }
   },
   "outputs": [],
   "source": [
    "block_assignments_2018 = parse_precinct_assingments_to_df(\n",
    "            parse_overlaps_to_assignments(precincts_2018, block_overlaps_2018),\n",
    "            block_overlaps_2018)"
   ]
  },
  {
   "cell_type": "code",
   "execution_count": 388,
   "metadata": {
    "ExecuteTime": {
     "end_time": "2020-03-20T20:05:32.811069Z",
     "start_time": "2020-03-20T20:05:32.467205Z"
    }
   },
   "outputs": [],
   "source": [
    "block_assignments_all_2016 = gpd.GeoDataFrame(pd.concat([trimmed_blocks, block_assignments_2016], axis=1))\n",
    "block_assignments_all_2018 = gpd.GeoDataFrame(pd.concat([trimmed_blocks, block_assignments_2018], axis=1))"
   ]
  },
  {
   "cell_type": "code",
   "execution_count": 396,
   "metadata": {
    "ExecuteTime": {
     "end_time": "2020-03-20T20:31:05.272195Z",
     "start_time": "2020-03-20T20:26:25.588223Z"
    }
   },
   "outputs": [],
   "source": [
    "assignments_to_save_2016 = block_assignments_all_2016.drop(['overlaps'], axis=1)\n",
    "assignments_to_save_2018 = block_assignments_all_2018.drop(['overlaps'], axis=1)\n",
    "\n",
    "assignments_to_save_2016.to_file(\"../data/processed/blocks/block_assignments_2016.geojson\", driver='GeoJSON')\n",
    "assignments_to_save_2018.to_file(\"../data/processed/blocks/block_assignments_2018.geojson\", driver='GeoJSON')"
   ]
  },
  {
   "cell_type": "code",
   "execution_count": null,
   "metadata": {},
   "outputs": [],
   "source": []
  }
 ],
 "metadata": {
  "kernelspec": {
   "display_name": "Python 3",
   "language": "python",
   "name": "python3"
  },
  "language_info": {
   "codemirror_mode": {
    "name": "ipython",
    "version": 3
   },
   "file_extension": ".py",
   "mimetype": "text/x-python",
   "name": "python",
   "nbconvert_exporter": "python",
   "pygments_lexer": "ipython3",
   "version": "3.7.6"
  },
  "toc": {
   "base_numbering": 1,
   "nav_menu": {},
   "number_sections": true,
   "sideBar": true,
   "skip_h1_title": false,
   "title_cell": "Table of Contents",
   "title_sidebar": "Contents",
   "toc_cell": false,
   "toc_position": {},
   "toc_section_display": true,
   "toc_window_display": false
  }
 },
 "nbformat": 4,
 "nbformat_minor": 4
}
