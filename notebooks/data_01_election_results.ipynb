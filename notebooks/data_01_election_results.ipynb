{
 "cells": [
  {
   "cell_type": "code",
   "execution_count": 1,
   "metadata": {
    "ExecuteTime": {
     "end_time": "2020-03-13T16:43:49.710626Z",
     "start_time": "2020-03-13T16:43:49.247798Z"
    }
   },
   "outputs": [],
   "source": [
    "import pandas as pd\n",
    "import geopandas as gpd\n",
    "import numpy as np"
   ]
  },
  {
   "cell_type": "markdown",
   "metadata": {},
   "source": [
    "# Load Raw Data"
   ]
  },
  {
   "cell_type": "code",
   "execution_count": 2,
   "metadata": {
    "ExecuteTime": {
     "end_time": "2020-03-13T16:43:50.310042Z",
     "start_time": "2020-03-13T16:43:50.307275Z"
    }
   },
   "outputs": [],
   "source": [
    "data_dir = \"../data/raw/results/\""
   ]
  },
  {
   "cell_type": "code",
   "execution_count": 3,
   "metadata": {
    "ExecuteTime": {
     "end_time": "2020-03-13T16:44:46.500801Z",
     "start_time": "2020-03-13T16:43:51.487233Z"
    }
   },
   "outputs": [],
   "source": [
    "years = [2014, 2016, 2018]\n",
    "results_2014, results_2016, results_2018 = [\n",
    "    pd.read_excel(data_dir + str(year) + \"GeneralPrecinctResults.xlsx\")\n",
    "    for year in years\n",
    "]\n",
    "\n",
    "results = [results_2014, results_2016, results_2018]"
   ]
  },
  {
   "cell_type": "code",
   "execution_count": 4,
   "metadata": {
    "ExecuteTime": {
     "end_time": "2020-03-13T16:44:46.548090Z",
     "start_time": "2020-03-13T16:44:46.503763Z"
    }
   },
   "outputs": [
    {
     "name": "stdout",
     "output_type": "stream",
     "text": [
      "<class 'pandas.core.frame.DataFrame'>\n",
      "RangeIndex: 170145 entries, 0 to 170144\n",
      "Data columns (total 11 columns):\n",
      " #   Column                  Non-Null Count   Dtype \n",
      "---  ------                  --------------   ----- \n",
      " 0   State                   170145 non-null  object\n",
      " 1   Year                    170145 non-null  int64 \n",
      " 2   Election Type           170145 non-null  object\n",
      " 3   County                  170145 non-null  object\n",
      " 4   Precinct                170145 non-null  int64 \n",
      " 5   Office/Issue/Judgeship  170145 non-null  object\n",
      " 6   Candidate               129377 non-null  object\n",
      " 7   Party                   86795 non-null   object\n",
      " 8   Candidate Votes         170145 non-null  int64 \n",
      " 9   Yes Votes               170145 non-null  int64 \n",
      " 10  No Votes                170145 non-null  int64 \n",
      "dtypes: int64(5), object(6)\n",
      "memory usage: 14.3+ MB\n"
     ]
    }
   ],
   "source": [
    "results_2018.info()"
   ]
  },
  {
   "cell_type": "code",
   "execution_count": 121,
   "metadata": {},
   "outputs": [],
   "source": [
    "def format_results(df):\n",
    "    new_df = (df.rename(columns=str.lower)\n",
    "                .drop(columns=[\"election type\", \"state\"])\n",
    "                .rename(columns={\"office/issue/judgeship\": \"issue\",\n",
    "                                 \"candidate votes\": \"candidate_votes\",\n",
    "                                 \"yes votes\": \"yes_votes\",\n",
    "                                 \"no votes\": \"no_votes\"}))\n",
    "    return new_df"
   ]
  },
  {
   "cell_type": "code",
   "execution_count": 122,
   "metadata": {},
   "outputs": [],
   "source": [
    "res_2018 = format_results(results_2018)"
   ]
  },
  {
   "cell_type": "code",
   "execution_count": 123,
   "metadata": {},
   "outputs": [
    {
     "name": "stdout",
     "output_type": "stream",
     "text": [
      "<class 'pandas.core.frame.DataFrame'>\n",
      "RangeIndex: 170145 entries, 0 to 170144\n",
      "Data columns (total 9 columns):\n",
      " #   Column           Non-Null Count   Dtype \n",
      "---  ------           --------------   ----- \n",
      " 0   year             170145 non-null  int64 \n",
      " 1   county           170145 non-null  object\n",
      " 2   precinct         170145 non-null  int64 \n",
      " 3   issue            170145 non-null  object\n",
      " 4   candidate        129377 non-null  object\n",
      " 5   party            86795 non-null   object\n",
      " 6   candidate_votes  170145 non-null  int64 \n",
      " 7   yes_votes        170145 non-null  int64 \n",
      " 8   no_votes         170145 non-null  int64 \n",
      "dtypes: int64(5), object(4)\n",
      "memory usage: 11.7+ MB\n"
     ]
    }
   ],
   "source": [
    "res_2018.info()"
   ]
  },
  {
   "cell_type": "code",
   "execution_count": 124,
   "metadata": {},
   "outputs": [],
   "source": [
    "def is_race_candidate(df, race, race_col=\"issue\",\n",
    "                               cand_col=\"candidate_votes\", yes_col=\"yes_votes\",\n",
    "                               no_col=\"no_votes\"):\n",
    "    data = df[df[race_col] == race]\n",
    "    cand_votes = np.sum(data[cand_col])\n",
    "    yesno_votes = np.sum(data[yes_col]) + np.sum(data[no_col])\n",
    "    if cand_votes == 0 and yesno_votes > 0:\n",
    "        return False\n",
    "    elif cand_votes > 0 and yesno_votes == 0:\n",
    "        return True\n",
    "    elif cand_votes == 0 and yesno_votes == 0:\n",
    "        raise ValueError(\"Ambiguous\")\n",
    "    else:\n",
    "        raise ValueError(\"Super weird\")"
   ]
  },
  {
   "cell_type": "code",
   "execution_count": 125,
   "metadata": {},
   "outputs": [],
   "source": [
    "def break_df_by_race_type(df, race_col=\"issue\",\n",
    "                          cand_col=\"candidate_votes\", yes_col=\"yes_votes\",\n",
    "                          no_col=\"no_votes\"):\n",
    "    \n",
    "    races = list(set(df[race_col].values))\n",
    "    \n",
    "    candidate_races = [race for race in races \n",
    "                       if is_race_candidate(df, race, race_col,\n",
    "                                            cand_col, yes_col, no_col)]\n",
    "    yesno_races = [race for race in races \n",
    "                   if not is_race_candidate(df, race, race_col,\n",
    "                                            cand_col, yes_col, no_col)]\n",
    "    mask = df[race_col].map(lambda x: x in candidate_races)\n",
    "    cand_df = df[mask].drop(columns=[yes_col, no_col])\n",
    "    mask = df[race_col].map(lambda x: x in yesno_races)\n",
    "    yesno_df = df[mask].drop(columns=['party', cand_col])\n",
    "    return cand_df, yesno_df"
   ]
  },
  {
   "cell_type": "code",
   "execution_count": 126,
   "metadata": {},
   "outputs": [],
   "source": [
    "cand = []\n",
    "yesno = []\n",
    "for res in [format_results(res) for res in results]:\n",
    "        c, yn = break_df_by_race_type(res)\n",
    "        cand.append(c)\n",
    "        yesno.append(yn)"
   ]
  },
  {
   "cell_type": "code",
   "execution_count": 129,
   "metadata": {},
   "outputs": [
    {
     "data": {
      "text/html": [
       "<div>\n",
       "<style scoped>\n",
       "    .dataframe tbody tr th:only-of-type {\n",
       "        vertical-align: middle;\n",
       "    }\n",
       "\n",
       "    .dataframe tbody tr th {\n",
       "        vertical-align: top;\n",
       "    }\n",
       "\n",
       "    .dataframe thead th {\n",
       "        text-align: right;\n",
       "    }\n",
       "</style>\n",
       "<table border=\"1\" class=\"dataframe\">\n",
       "  <thead>\n",
       "    <tr style=\"text-align: right;\">\n",
       "      <th></th>\n",
       "      <th>year</th>\n",
       "      <th>county</th>\n",
       "      <th>precinct</th>\n",
       "      <th>issue</th>\n",
       "      <th>candidate</th>\n",
       "      <th>yes_votes</th>\n",
       "      <th>no_votes</th>\n",
       "    </tr>\n",
       "  </thead>\n",
       "  <tbody>\n",
       "    <tr>\n",
       "      <th>0</th>\n",
       "      <td>2014</td>\n",
       "      <td>Adams</td>\n",
       "      <td>4253001245</td>\n",
       "      <td>Amendment 67 (CONSTITUTIONAL)</td>\n",
       "      <td>NaN</td>\n",
       "      <td>109.0</td>\n",
       "      <td>126.0</td>\n",
       "    </tr>\n",
       "    <tr>\n",
       "      <th>1</th>\n",
       "      <td>2014</td>\n",
       "      <td>Adams</td>\n",
       "      <td>4255601241</td>\n",
       "      <td>Amendment 67 (CONSTITUTIONAL)</td>\n",
       "      <td>NaN</td>\n",
       "      <td>15.0</td>\n",
       "      <td>13.0</td>\n",
       "    </tr>\n",
       "    <tr>\n",
       "      <th>2</th>\n",
       "      <td>2014</td>\n",
       "      <td>Adams</td>\n",
       "      <td>4255601246</td>\n",
       "      <td>Amendment 67 (CONSTITUTIONAL)</td>\n",
       "      <td>NaN</td>\n",
       "      <td>347.0</td>\n",
       "      <td>334.0</td>\n",
       "    </tr>\n",
       "    <tr>\n",
       "      <th>3</th>\n",
       "      <td>2014</td>\n",
       "      <td>Adams</td>\n",
       "      <td>4255601247</td>\n",
       "      <td>Amendment 67 (CONSTITUTIONAL)</td>\n",
       "      <td>NaN</td>\n",
       "      <td>160.0</td>\n",
       "      <td>153.0</td>\n",
       "    </tr>\n",
       "    <tr>\n",
       "      <th>4</th>\n",
       "      <td>2014</td>\n",
       "      <td>Adams</td>\n",
       "      <td>4255601248</td>\n",
       "      <td>Amendment 67 (CONSTITUTIONAL)</td>\n",
       "      <td>NaN</td>\n",
       "      <td>695.0</td>\n",
       "      <td>772.0</td>\n",
       "    </tr>\n",
       "    <tr>\n",
       "      <th>...</th>\n",
       "      <td>...</td>\n",
       "      <td>...</td>\n",
       "      <td>...</td>\n",
       "      <td>...</td>\n",
       "      <td>...</td>\n",
       "      <td>...</td>\n",
       "      <td>...</td>\n",
       "    </tr>\n",
       "    <tr>\n",
       "      <th>212634</th>\n",
       "      <td>2018</td>\n",
       "      <td>Yuma</td>\n",
       "      <td>4016563014</td>\n",
       "      <td>Amendment 75 (CONSTITUTIONAL)</td>\n",
       "      <td>NaN</td>\n",
       "      <td>100.0</td>\n",
       "      <td>221.0</td>\n",
       "    </tr>\n",
       "    <tr>\n",
       "      <th>212635</th>\n",
       "      <td>2018</td>\n",
       "      <td>Yuma</td>\n",
       "      <td>4016563014</td>\n",
       "      <td>Proposition 109 (STATUTORY)</td>\n",
       "      <td>NaN</td>\n",
       "      <td>105.0</td>\n",
       "      <td>221.0</td>\n",
       "    </tr>\n",
       "    <tr>\n",
       "      <th>212636</th>\n",
       "      <td>2018</td>\n",
       "      <td>Yuma</td>\n",
       "      <td>4016563014</td>\n",
       "      <td>Proposition 110 (STATUTORY)</td>\n",
       "      <td>NaN</td>\n",
       "      <td>67.0</td>\n",
       "      <td>258.0</td>\n",
       "    </tr>\n",
       "    <tr>\n",
       "      <th>212637</th>\n",
       "      <td>2018</td>\n",
       "      <td>Yuma</td>\n",
       "      <td>4016563014</td>\n",
       "      <td>Proposition 111 (STATUTORY)</td>\n",
       "      <td>NaN</td>\n",
       "      <td>155.0</td>\n",
       "      <td>160.0</td>\n",
       "    </tr>\n",
       "    <tr>\n",
       "      <th>212638</th>\n",
       "      <td>2018</td>\n",
       "      <td>Yuma</td>\n",
       "      <td>4016563014</td>\n",
       "      <td>Proposition 112 (STATUTORY)</td>\n",
       "      <td>NaN</td>\n",
       "      <td>33.0</td>\n",
       "      <td>306.0</td>\n",
       "    </tr>\n",
       "  </tbody>\n",
       "</table>\n",
       "<p>212639 rows × 7 columns</p>\n",
       "</div>"
      ],
      "text/plain": [
       "        year county    precinct                          issue candidate  \\\n",
       "0       2014  Adams  4253001245  Amendment 67 (CONSTITUTIONAL)       NaN   \n",
       "1       2014  Adams  4255601241  Amendment 67 (CONSTITUTIONAL)       NaN   \n",
       "2       2014  Adams  4255601246  Amendment 67 (CONSTITUTIONAL)       NaN   \n",
       "3       2014  Adams  4255601247  Amendment 67 (CONSTITUTIONAL)       NaN   \n",
       "4       2014  Adams  4255601248  Amendment 67 (CONSTITUTIONAL)       NaN   \n",
       "...      ...    ...         ...                            ...       ...   \n",
       "212634  2018   Yuma  4016563014  Amendment 75 (CONSTITUTIONAL)       NaN   \n",
       "212635  2018   Yuma  4016563014    Proposition 109 (STATUTORY)       NaN   \n",
       "212636  2018   Yuma  4016563014    Proposition 110 (STATUTORY)       NaN   \n",
       "212637  2018   Yuma  4016563014    Proposition 111 (STATUTORY)       NaN   \n",
       "212638  2018   Yuma  4016563014    Proposition 112 (STATUTORY)       NaN   \n",
       "\n",
       "        yes_votes  no_votes  \n",
       "0           109.0     126.0  \n",
       "1            15.0      13.0  \n",
       "2           347.0     334.0  \n",
       "3           160.0     153.0  \n",
       "4           695.0     772.0  \n",
       "...           ...       ...  \n",
       "212634      100.0     221.0  \n",
       "212635      105.0     221.0  \n",
       "212636       67.0     258.0  \n",
       "212637      155.0     160.0  \n",
       "212638       33.0     306.0  \n",
       "\n",
       "[212639 rows x 7 columns]"
      ]
     },
     "execution_count": 129,
     "metadata": {},
     "output_type": "execute_result"
    }
   ],
   "source": [
    "pd.concat(yesno).reset_index(drop=True)"
   ]
  },
  {
   "cell_type": "code",
   "execution_count": 130,
   "metadata": {},
   "outputs": [
    {
     "name": "stdout",
     "output_type": "stream",
     "text": [
      "<class 'pandas.core.frame.DataFrame'>\n",
      "Int64Index: 98969 entries, 5830 to 148479\n",
      "Data columns (total 7 columns):\n",
      " #   Column           Non-Null Count  Dtype \n",
      "---  ------           --------------  ----- \n",
      " 0   year             98969 non-null  int64 \n",
      " 1   county           98969 non-null  object\n",
      " 2   precinct         98969 non-null  object\n",
      " 3   issue            98969 non-null  object\n",
      " 4   candidate        98969 non-null  object\n",
      " 5   party            97432 non-null  object\n",
      " 6   candidate_votes  98969 non-null  int64 \n",
      "dtypes: int64(2), object(5)\n",
      "memory usage: 6.0+ MB\n"
     ]
    }
   ],
   "source": [
    "cand[0].info()"
   ]
  },
  {
   "cell_type": "code",
   "execution_count": 9,
   "metadata": {},
   "outputs": [
    {
     "name": "stdout",
     "output_type": "stream",
     "text": [
      "<class 'pandas.core.frame.DataFrame'>\n",
      "RangeIndex: 226031 entries, 0 to 226030\n",
      "Data columns (total 11 columns):\n",
      " #   Column                  Non-Null Count   Dtype  \n",
      "---  ------                  --------------   -----  \n",
      " 0   State                   226031 non-null  object \n",
      " 1   Year                    226031 non-null  int64  \n",
      " 2   Election Type           226031 non-null  object \n",
      " 3   County                  226031 non-null  object \n",
      " 4   Precinct                226031 non-null  object \n",
      " 5   Office/Issue/Judgeship  226031 non-null  object \n",
      " 6   Candidate               197259 non-null  object \n",
      " 7   Party                   142762 non-null  object \n",
      " 8   Candidate Votes         226031 non-null  int64  \n",
      " 9   Yes Votes               226021 non-null  float64\n",
      " 10  No Votes                226021 non-null  float64\n",
      "dtypes: float64(2), int64(2), object(7)\n",
      "memory usage: 19.0+ MB\n"
     ]
    }
   ],
   "source": [
    "results_2016.info()"
   ]
  },
  {
   "cell_type": "code",
   "execution_count": 10,
   "metadata": {},
   "outputs": [
    {
     "name": "stdout",
     "output_type": "stream",
     "text": [
      "<class 'pandas.core.frame.DataFrame'>\n",
      "RangeIndex: 148480 entries, 0 to 148479\n",
      "Data columns (total 11 columns):\n",
      " #   Column                  Non-Null Count   Dtype \n",
      "---  ------                  --------------   ----- \n",
      " 0   State                   148480 non-null  object\n",
      " 1   Year                    148480 non-null  int64 \n",
      " 2   Election Type           148480 non-null  object\n",
      " 3   County                  148480 non-null  object\n",
      " 4   Precinct                148480 non-null  object\n",
      " 5   Office/Issue/Judgeship  148480 non-null  object\n",
      " 6   Candidate               136820 non-null  object\n",
      " 7   Party                   97432 non-null   object\n",
      " 8   Candidate Votes         148480 non-null  int64 \n",
      " 9   Yes Votes               148480 non-null  int64 \n",
      " 10  No Votes                148480 non-null  int64 \n",
      "dtypes: int64(4), object(7)\n",
      "memory usage: 12.5+ MB\n"
     ]
    }
   ],
   "source": [
    "results_2014.info()"
   ]
  },
  {
   "cell_type": "markdown",
   "metadata": {},
   "source": [
    "# Clean Data"
   ]
  },
  {
   "cell_type": "code",
   "execution_count": null,
   "metadata": {},
   "outputs": [],
   "source": []
  },
  {
   "cell_type": "code",
   "execution_count": null,
   "metadata": {},
   "outputs": [],
   "source": []
  },
  {
   "cell_type": "markdown",
   "metadata": {},
   "source": [
    "# Extract Meaningful Variables"
   ]
  },
  {
   "cell_type": "markdown",
   "metadata": {},
   "source": [
    "I want\n",
    "\n",
    "\"State Representative\"\n",
    "\"State Senate\"\n",
    "\"United States Representative\"\n",
    "\"United States Senator\"\n",
    "\"President/Vice President\""
   ]
  },
  {
   "cell_type": "code",
   "execution_count": 144,
   "metadata": {},
   "outputs": [],
   "source": [
    "races = {\"State Representative\": \"state_rep\",\n",
    "         \"State Senate\": \"state_senate\",\n",
    "         \"United States Representative\": \"us_rep\",\n",
    "         \"United States Senator\": \"us_senate\",\n",
    "         \"President/Vice President\": \"pres\"}"
   ]
  },
  {
   "cell_type": "code",
   "execution_count": 147,
   "metadata": {},
   "outputs": [],
   "source": [
    "def trim_to_relevant_races(df, races):\n",
    "    drop_idxs = (df.loc[df[\"Office/Issue/Judgeship\"]\n",
    "                   .apply(lambda x: x.split('-')[0].strip())\n",
    "                   .apply(lambda x: x not in races)].index)\n",
    "    results_target = (df.drop(drop_idxs)\n",
    "                        .drop(columns=[\"Yes Votes\", \"No Votes\", \"State\", \"Year\", \"Election Type\", \"County\"])\n",
    "                        .rename(columns={\"Office/Issue/Judgeship\": \"Office\"})\n",
    "                        .assign(Office = lambda x: x.Office.apply(lambda x: races[x.split('-')[0].strip()])))\n",
    "    return results_target"
   ]
  },
  {
   "cell_type": "code",
   "execution_count": 148,
   "metadata": {},
   "outputs": [],
   "source": [
    "res_race_2014 = trim_to_relevant_races(results_2014, races)\n",
    "res_race_2016 = trim_to_relevant_races(results_2016, races)\n",
    "res_race_2018 = trim_to_relevant_races(results_2018, races)"
   ]
  },
  {
   "cell_type": "markdown",
   "metadata": {},
   "source": [
    "# Find Significant Parties"
   ]
  },
  {
   "cell_type": "code",
   "execution_count": 128,
   "metadata": {},
   "outputs": [],
   "source": [
    "def find_relevant_parties(df, office, threshold):\n",
    "    party_vals = (df[df.Office == office]\n",
    "                      .groupby(\"Party\")\n",
    "                      .sum()\n",
    "                      .sort_values(by=\"Candidate Votes\", ascending=False))\n",
    "    party_vals[\"Candidate Votes\"] = party_vals[\"Candidate Votes\"]/party_vals[\"Candidate Votes\"].sum()\n",
    "    return party_vals[party_vals[\"Candidate Votes\"] > threshold]"
   ]
  },
  {
   "cell_type": "code",
   "execution_count": 129,
   "metadata": {},
   "outputs": [
    {
     "name": "stdout",
     "output_type": "stream",
     "text": [
      "State Representative\n",
      "                   Candidate Votes\n",
      "Party                             \n",
      "Republican Party          0.492664\n",
      "Democratic Party          0.478258\n",
      "Libertarian Party         0.020334\n",
      "Unaffiliated              0.008027\n",
      "\n",
      "\n",
      "State Senate\n",
      "                   Candidate Votes\n",
      "Party                             \n",
      "Democratic Party          0.534378\n",
      "Republican Party          0.445282\n",
      "Libertarian Party         0.020339\n",
      "\n",
      "\n",
      "United States Representative\n",
      "                   Candidate Votes\n",
      "Party                             \n",
      "Republican Party          0.476991\n",
      "Democratic Party          0.467800\n",
      "Libertarian Party         0.053076\n",
      "Green Party               0.002088\n",
      "\n",
      "\n",
      "United States Senator\n",
      "                         Candidate Votes\n",
      "Party                                   \n",
      "Democratic Party                0.499707\n",
      "Republican Party                0.443057\n",
      "Libertarian Party               0.036192\n",
      "Green Party                     0.013418\n",
      "Unaffiliated                    0.004223\n",
      "Unity Party of Colorado         0.003404\n",
      "\n",
      "\n",
      "President/Vice President\n",
      "                             Candidate Votes\n",
      "Party                                       \n",
      "Democratic Party                    0.481565\n",
      "Republican Party                    0.432514\n",
      "Libertarian Party                   0.051837\n",
      "Green Party                         0.013825\n",
      "Unaffiliated                        0.011327\n",
      "American Constitution Party         0.004208\n",
      "Veterans Party of America           0.001808\n",
      "\n",
      "\n"
     ]
    }
   ],
   "source": [
    "for target in target_vars:\n",
    "    print(target)\n",
    "    print(find_relevant_parties(res_target_2016, target, 0.001))\n",
    "    print(\"\\n\")"
   ]
  },
  {
   "cell_type": "markdown",
   "metadata": {},
   "source": [
    "Okay, the parties I am interested in are those that have more than about a percent of the vote."
   ]
  },
  {
   "cell_type": "code",
   "execution_count": 150,
   "metadata": {},
   "outputs": [],
   "source": [
    "parties = {\n",
    "    \"Democratic Party\": 'dem',\n",
    "    \"Republican Party\": 'rep',\n",
    "    \"Libertarian Party\": 'lib',\n",
    "    \"Green Party\": 'grn',\n",
    "    \"Unaffiliated\": 'unf'\n",
    "}"
   ]
  },
  {
   "cell_type": "code",
   "execution_count": 155,
   "metadata": {},
   "outputs": [],
   "source": [
    "def trim_to_relevant_parties(df, parties):\n",
    "    drop_idx = df.loc[df[\"Party\"].apply(lambda x: x not in parties)].index\n",
    "    new_df = (df.drop(drop_idx, axis=0)\n",
    "                .assign(Party = lambda x: x.Party.apply(lambda x: parties[x])))\n",
    "    return new_df"
   ]
  },
  {
   "cell_type": "code",
   "execution_count": 156,
   "metadata": {},
   "outputs": [],
   "source": [
    "res_race_party_2014 = trim_to_relevant_parties(res_race_2014, parties)\n",
    "res_race_party_2016 = trim_to_relevant_parties(res_race_2016, parties)\n",
    "res_race_party_2018 = trim_to_relevant_parties(res_race_2018, parties)"
   ]
  },
  {
   "cell_type": "markdown",
   "metadata": {},
   "source": [
    "# Format Data by Precinct"
   ]
  },
  {
   "cell_type": "code",
   "execution_count": 176,
   "metadata": {},
   "outputs": [],
   "source": [
    "def reshape_to_precinct_vals(df):\n",
    "    final = (df.groupby([\"Precinct\", \"Office\", \"Party\"])\n",
    "               .sum()\n",
    "               .unstack(level=[\"Office\",\"Party\",])\n",
    "               .fillna(0)\n",
    "               .astype(int))\n",
    "    final.columns = [race+\" \"+party for (cv, race, party) in final.columns]\n",
    "    return final"
   ]
  },
  {
   "cell_type": "code",
   "execution_count": 177,
   "metadata": {},
   "outputs": [],
   "source": [
    "res_final_2014 = reshape_to_precinct_vals(res_race_party_2014)\n",
    "res_final_2016 = reshape_to_precinct_vals(res_race_party_2016)\n",
    "res_final_2018 = reshape_to_precinct_vals(res_race_party_2018)"
   ]
  },
  {
   "cell_type": "code",
   "execution_count": 178,
   "metadata": {},
   "outputs": [
    {
     "data": {
      "text/html": [
       "<div>\n",
       "<style scoped>\n",
       "    .dataframe tbody tr th:only-of-type {\n",
       "        vertical-align: middle;\n",
       "    }\n",
       "\n",
       "    .dataframe tbody tr th {\n",
       "        vertical-align: top;\n",
       "    }\n",
       "\n",
       "    .dataframe thead th {\n",
       "        text-align: right;\n",
       "    }\n",
       "</style>\n",
       "<table border=\"1\" class=\"dataframe\">\n",
       "  <thead>\n",
       "    <tr style=\"text-align: right;\">\n",
       "      <th></th>\n",
       "      <th>state_rep dem</th>\n",
       "      <th>state_rep lib</th>\n",
       "      <th>state_rep rep</th>\n",
       "      <th>state_senate dem</th>\n",
       "      <th>state_senate lib</th>\n",
       "      <th>state_senate rep</th>\n",
       "      <th>us_rep dem</th>\n",
       "      <th>us_rep lib</th>\n",
       "      <th>us_rep rep</th>\n",
       "      <th>us_rep grn</th>\n",
       "      <th>state_rep unf</th>\n",
       "      <th>us_rep unf</th>\n",
       "      <th>state_senate unf</th>\n",
       "    </tr>\n",
       "    <tr>\n",
       "      <th>Precinct</th>\n",
       "      <th></th>\n",
       "      <th></th>\n",
       "      <th></th>\n",
       "      <th></th>\n",
       "      <th></th>\n",
       "      <th></th>\n",
       "      <th></th>\n",
       "      <th></th>\n",
       "      <th></th>\n",
       "      <th></th>\n",
       "      <th></th>\n",
       "      <th></th>\n",
       "      <th></th>\n",
       "    </tr>\n",
       "  </thead>\n",
       "  <tbody>\n",
       "    <tr>\n",
       "      <th>1160116112</th>\n",
       "      <td>489</td>\n",
       "      <td>35</td>\n",
       "      <td>259</td>\n",
       "      <td>506</td>\n",
       "      <td>20</td>\n",
       "      <td>263</td>\n",
       "      <td>498</td>\n",
       "      <td>37</td>\n",
       "      <td>266</td>\n",
       "      <td>0</td>\n",
       "      <td>0</td>\n",
       "      <td>0</td>\n",
       "      <td>0</td>\n",
       "    </tr>\n",
       "    <tr>\n",
       "      <th>1160116113</th>\n",
       "      <td>499</td>\n",
       "      <td>20</td>\n",
       "      <td>251</td>\n",
       "      <td>511</td>\n",
       "      <td>23</td>\n",
       "      <td>249</td>\n",
       "      <td>511</td>\n",
       "      <td>24</td>\n",
       "      <td>241</td>\n",
       "      <td>0</td>\n",
       "      <td>0</td>\n",
       "      <td>0</td>\n",
       "      <td>0</td>\n",
       "    </tr>\n",
       "    <tr>\n",
       "      <th>1160116114</th>\n",
       "      <td>557</td>\n",
       "      <td>33</td>\n",
       "      <td>284</td>\n",
       "      <td>566</td>\n",
       "      <td>28</td>\n",
       "      <td>288</td>\n",
       "      <td>581</td>\n",
       "      <td>30</td>\n",
       "      <td>276</td>\n",
       "      <td>0</td>\n",
       "      <td>0</td>\n",
       "      <td>0</td>\n",
       "      <td>0</td>\n",
       "    </tr>\n",
       "    <tr>\n",
       "      <th>1160116120</th>\n",
       "      <td>611</td>\n",
       "      <td>41</td>\n",
       "      <td>277</td>\n",
       "      <td>641</td>\n",
       "      <td>30</td>\n",
       "      <td>272</td>\n",
       "      <td>632</td>\n",
       "      <td>38</td>\n",
       "      <td>273</td>\n",
       "      <td>0</td>\n",
       "      <td>0</td>\n",
       "      <td>0</td>\n",
       "      <td>0</td>\n",
       "    </tr>\n",
       "    <tr>\n",
       "      <th>1160116122</th>\n",
       "      <td>506</td>\n",
       "      <td>35</td>\n",
       "      <td>373</td>\n",
       "      <td>524</td>\n",
       "      <td>19</td>\n",
       "      <td>380</td>\n",
       "      <td>528</td>\n",
       "      <td>22</td>\n",
       "      <td>370</td>\n",
       "      <td>0</td>\n",
       "      <td>0</td>\n",
       "      <td>0</td>\n",
       "      <td>0</td>\n",
       "    </tr>\n",
       "  </tbody>\n",
       "</table>\n",
       "</div>"
      ],
      "text/plain": [
       "            state_rep dem  state_rep lib  state_rep rep  state_senate dem  \\\n",
       "Precinct                                                                    \n",
       "1160116112            489             35            259               506   \n",
       "1160116113            499             20            251               511   \n",
       "1160116114            557             33            284               566   \n",
       "1160116120            611             41            277               641   \n",
       "1160116122            506             35            373               524   \n",
       "\n",
       "            state_senate lib  state_senate rep  us_rep dem  us_rep lib  \\\n",
       "Precinct                                                                 \n",
       "1160116112                20               263         498          37   \n",
       "1160116113                23               249         511          24   \n",
       "1160116114                28               288         581          30   \n",
       "1160116120                30               272         632          38   \n",
       "1160116122                19               380         528          22   \n",
       "\n",
       "            us_rep rep  us_rep grn  state_rep unf  us_rep unf  \\\n",
       "Precinct                                                        \n",
       "1160116112         266           0              0           0   \n",
       "1160116113         241           0              0           0   \n",
       "1160116114         276           0              0           0   \n",
       "1160116120         273           0              0           0   \n",
       "1160116122         370           0              0           0   \n",
       "\n",
       "            state_senate unf  \n",
       "Precinct                      \n",
       "1160116112                 0  \n",
       "1160116113                 0  \n",
       "1160116114                 0  \n",
       "1160116120                 0  \n",
       "1160116122                 0  "
      ]
     },
     "execution_count": 178,
     "metadata": {},
     "output_type": "execute_result"
    }
   ],
   "source": [
    "res_final_2018.head()"
   ]
  },
  {
   "cell_type": "markdown",
   "metadata": {},
   "source": [
    "# Save"
   ]
  },
  {
   "cell_type": "code",
   "execution_count": 179,
   "metadata": {},
   "outputs": [],
   "source": [
    "res_final_2014.to_csv(\"../data/processed/results/results_2014.csv\")\n",
    "res_final_2016.to_csv(\"../data/processed/results/results_2016.csv\")\n",
    "res_final_2018.to_csv(\"../data/processed/results/results_2018.csv\")"
   ]
  },
  {
   "cell_type": "code",
   "execution_count": null,
   "metadata": {},
   "outputs": [],
   "source": []
  }
 ],
 "metadata": {
  "kernelspec": {
   "display_name": "Python 3",
   "language": "python",
   "name": "python3"
  },
  "language_info": {
   "codemirror_mode": {
    "name": "ipython",
    "version": 3
   },
   "file_extension": ".py",
   "mimetype": "text/x-python",
   "name": "python",
   "nbconvert_exporter": "python",
   "pygments_lexer": "ipython3",
   "version": "3.7.7"
  },
  "toc": {
   "base_numbering": 1,
   "nav_menu": {},
   "number_sections": true,
   "sideBar": true,
   "skip_h1_title": false,
   "title_cell": "Table of Contents",
   "title_sidebar": "Contents",
   "toc_cell": false,
   "toc_position": {},
   "toc_section_display": true,
   "toc_window_display": false
  }
 },
 "nbformat": 4,
 "nbformat_minor": 4
}
