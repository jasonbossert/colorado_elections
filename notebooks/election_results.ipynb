{
 "cells": [
  {
   "cell_type": "code",
   "execution_count": 1,
   "metadata": {
    "ExecuteTime": {
     "end_time": "2020-03-13T16:43:49.710626Z",
     "start_time": "2020-03-13T16:43:49.247798Z"
    }
   },
   "outputs": [],
   "source": [
    "import pandas as pd\n",
    "import geopandas as gpd\n",
    "import numpy as np"
   ]
  },
  {
   "cell_type": "code",
   "execution_count": 2,
   "metadata": {
    "ExecuteTime": {
     "end_time": "2020-03-13T16:43:50.310042Z",
     "start_time": "2020-03-13T16:43:50.307275Z"
    }
   },
   "outputs": [],
   "source": [
    "data_dir = \"../data/raw/results/\""
   ]
  },
  {
   "cell_type": "code",
   "execution_count": 3,
   "metadata": {
    "ExecuteTime": {
     "end_time": "2020-03-13T16:44:46.500801Z",
     "start_time": "2020-03-13T16:43:51.487233Z"
    }
   },
   "outputs": [],
   "source": [
    "years = [2014, 2016, 2018]\n",
    "results_2014, results_2016, results_2018 = [\n",
    "    pd.read_excel(data_dir + str(year) + \"GeneralPrecinctResults.xlsx\")\n",
    "    for year in years\n",
    "]\n",
    "\n",
    "results = [results_2014, results_2016, results_2018]"
   ]
  },
  {
   "cell_type": "code",
   "execution_count": 4,
   "metadata": {
    "ExecuteTime": {
     "end_time": "2020-03-13T16:44:46.548090Z",
     "start_time": "2020-03-13T16:44:46.503763Z"
    }
   },
   "outputs": [
    {
     "name": "stdout",
     "output_type": "stream",
     "text": [
      "<class 'pandas.core.frame.DataFrame'>\n",
      "RangeIndex: 148480 entries, 0 to 148479\n",
      "Data columns (total 11 columns):\n",
      " #   Column                  Non-Null Count   Dtype \n",
      "---  ------                  --------------   ----- \n",
      " 0   State                   148480 non-null  object\n",
      " 1   Year                    148480 non-null  int64 \n",
      " 2   Election Type           148480 non-null  object\n",
      " 3   County                  148480 non-null  object\n",
      " 4   Precinct                148480 non-null  object\n",
      " 5   Office/Issue/Judgeship  148480 non-null  object\n",
      " 6   Candidate               136820 non-null  object\n",
      " 7   Party                   97432 non-null   object\n",
      " 8   Candidate Votes         148480 non-null  int64 \n",
      " 9   Yes Votes               148480 non-null  int64 \n",
      " 10  No Votes                148480 non-null  int64 \n",
      "dtypes: int64(4), object(7)\n",
      "memory usage: 12.5+ MB\n"
     ]
    }
   ],
   "source": [
    "results_2014.info()"
   ]
  },
  {
   "cell_type": "code",
   "execution_count": 16,
   "metadata": {
    "ExecuteTime": {
     "end_time": "2020-03-13T16:48:48.897612Z",
     "start_time": "2020-03-13T16:48:48.812767Z"
    }
   },
   "outputs": [
    {
     "data": {
      "text/html": [
       "<div>\n",
       "<style scoped>\n",
       "    .dataframe tbody tr th:only-of-type {\n",
       "        vertical-align: middle;\n",
       "    }\n",
       "\n",
       "    .dataframe tbody tr th {\n",
       "        vertical-align: top;\n",
       "    }\n",
       "\n",
       "    .dataframe thead th {\n",
       "        text-align: right;\n",
       "    }\n",
       "</style>\n",
       "<table border=\"1\" class=\"dataframe\">\n",
       "  <thead>\n",
       "    <tr style=\"text-align: right;\">\n",
       "      <th></th>\n",
       "      <th>State</th>\n",
       "      <th>Year</th>\n",
       "      <th>Election Type</th>\n",
       "      <th>County</th>\n",
       "      <th>Precinct</th>\n",
       "      <th>Office/Issue/Judgeship</th>\n",
       "      <th>Candidate</th>\n",
       "      <th>Party</th>\n",
       "      <th>Candidate Votes</th>\n",
       "      <th>Yes Votes</th>\n",
       "      <th>No Votes</th>\n",
       "      <th>VTDST5</th>\n",
       "    </tr>\n",
       "  </thead>\n",
       "  <tbody>\n",
       "    <tr>\n",
       "      <th>0</th>\n",
       "      <td>Colorado</td>\n",
       "      <td>2014</td>\n",
       "      <td>G</td>\n",
       "      <td>Adams</td>\n",
       "      <td>4253001245</td>\n",
       "      <td>Amendment 67 (CONSTITUTIONAL)</td>\n",
       "      <td>NaN</td>\n",
       "      <td>NaN</td>\n",
       "      <td>0</td>\n",
       "      <td>109</td>\n",
       "      <td>126</td>\n",
       "      <td>01245</td>\n",
       "    </tr>\n",
       "    <tr>\n",
       "      <th>1</th>\n",
       "      <td>Colorado</td>\n",
       "      <td>2014</td>\n",
       "      <td>G</td>\n",
       "      <td>Adams</td>\n",
       "      <td>4255601241</td>\n",
       "      <td>Amendment 67 (CONSTITUTIONAL)</td>\n",
       "      <td>NaN</td>\n",
       "      <td>NaN</td>\n",
       "      <td>0</td>\n",
       "      <td>15</td>\n",
       "      <td>13</td>\n",
       "      <td>01241</td>\n",
       "    </tr>\n",
       "    <tr>\n",
       "      <th>2</th>\n",
       "      <td>Colorado</td>\n",
       "      <td>2014</td>\n",
       "      <td>G</td>\n",
       "      <td>Adams</td>\n",
       "      <td>4255601246</td>\n",
       "      <td>Amendment 67 (CONSTITUTIONAL)</td>\n",
       "      <td>NaN</td>\n",
       "      <td>NaN</td>\n",
       "      <td>0</td>\n",
       "      <td>347</td>\n",
       "      <td>334</td>\n",
       "      <td>01246</td>\n",
       "    </tr>\n",
       "    <tr>\n",
       "      <th>3</th>\n",
       "      <td>Colorado</td>\n",
       "      <td>2014</td>\n",
       "      <td>G</td>\n",
       "      <td>Adams</td>\n",
       "      <td>4255601247</td>\n",
       "      <td>Amendment 67 (CONSTITUTIONAL)</td>\n",
       "      <td>NaN</td>\n",
       "      <td>NaN</td>\n",
       "      <td>0</td>\n",
       "      <td>160</td>\n",
       "      <td>153</td>\n",
       "      <td>01247</td>\n",
       "    </tr>\n",
       "    <tr>\n",
       "      <th>4</th>\n",
       "      <td>Colorado</td>\n",
       "      <td>2014</td>\n",
       "      <td>G</td>\n",
       "      <td>Adams</td>\n",
       "      <td>4255601248</td>\n",
       "      <td>Amendment 67 (CONSTITUTIONAL)</td>\n",
       "      <td>NaN</td>\n",
       "      <td>NaN</td>\n",
       "      <td>0</td>\n",
       "      <td>695</td>\n",
       "      <td>772</td>\n",
       "      <td>01248</td>\n",
       "    </tr>\n",
       "  </tbody>\n",
       "</table>\n",
       "</div>"
      ],
      "text/plain": [
       "      State  Year Election Type County    Precinct  \\\n",
       "0  Colorado  2014             G  Adams  4253001245   \n",
       "1  Colorado  2014             G  Adams  4255601241   \n",
       "2  Colorado  2014             G  Adams  4255601246   \n",
       "3  Colorado  2014             G  Adams  4255601247   \n",
       "4  Colorado  2014             G  Adams  4255601248   \n",
       "\n",
       "          Office/Issue/Judgeship Candidate Party  Candidate Votes  Yes Votes  \\\n",
       "0  Amendment 67 (CONSTITUTIONAL)       NaN   NaN                0        109   \n",
       "1  Amendment 67 (CONSTITUTIONAL)       NaN   NaN                0         15   \n",
       "2  Amendment 67 (CONSTITUTIONAL)       NaN   NaN                0        347   \n",
       "3  Amendment 67 (CONSTITUTIONAL)       NaN   NaN                0        160   \n",
       "4  Amendment 67 (CONSTITUTIONAL)       NaN   NaN                0        695   \n",
       "\n",
       "   No Votes VTDST5  \n",
       "0       126  01245  \n",
       "1        13  01241  \n",
       "2       334  01246  \n",
       "3       153  01247  \n",
       "4       772  01248  "
      ]
     },
     "execution_count": 16,
     "metadata": {},
     "output_type": "execute_result"
    }
   ],
   "source": [
    "results_2014[\"VTDST5\"] = results_2014[\"Precinct\"].map(lambda x: str(x)[-5:])\n",
    "results_2014.head()"
   ]
  },
  {
   "cell_type": "code",
   "execution_count": 5,
   "metadata": {
    "ExecuteTime": {
     "end_time": "2020-03-13T16:44:46.637004Z",
     "start_time": "2020-03-13T16:44:46.550415Z"
    }
   },
   "outputs": [
    {
     "name": "stdout",
     "output_type": "stream",
     "text": [
      "<class 'pandas.core.frame.DataFrame'>\n",
      "RangeIndex: 226031 entries, 0 to 226030\n",
      "Data columns (total 11 columns):\n",
      " #   Column                  Non-Null Count   Dtype  \n",
      "---  ------                  --------------   -----  \n",
      " 0   State                   226031 non-null  object \n",
      " 1   Year                    226031 non-null  int64  \n",
      " 2   Election Type           226031 non-null  object \n",
      " 3   County                  226031 non-null  object \n",
      " 4   Precinct                226031 non-null  object \n",
      " 5   Office/Issue/Judgeship  226031 non-null  object \n",
      " 6   Candidate               197259 non-null  object \n",
      " 7   Party                   142762 non-null  object \n",
      " 8   Candidate Votes         226031 non-null  int64  \n",
      " 9   Yes Votes               226021 non-null  float64\n",
      " 10  No Votes                226021 non-null  float64\n",
      "dtypes: float64(2), int64(2), object(7)\n",
      "memory usage: 19.0+ MB\n"
     ]
    }
   ],
   "source": [
    "results_2016.info()"
   ]
  },
  {
   "cell_type": "code",
   "execution_count": 17,
   "metadata": {
    "ExecuteTime": {
     "end_time": "2020-03-13T16:49:10.369529Z",
     "start_time": "2020-03-13T16:49:10.256423Z"
    }
   },
   "outputs": [
    {
     "data": {
      "text/html": [
       "<div>\n",
       "<style scoped>\n",
       "    .dataframe tbody tr th:only-of-type {\n",
       "        vertical-align: middle;\n",
       "    }\n",
       "\n",
       "    .dataframe tbody tr th {\n",
       "        vertical-align: top;\n",
       "    }\n",
       "\n",
       "    .dataframe thead th {\n",
       "        text-align: right;\n",
       "    }\n",
       "</style>\n",
       "<table border=\"1\" class=\"dataframe\">\n",
       "  <thead>\n",
       "    <tr style=\"text-align: right;\">\n",
       "      <th></th>\n",
       "      <th>State</th>\n",
       "      <th>Year</th>\n",
       "      <th>Election Type</th>\n",
       "      <th>County</th>\n",
       "      <th>Precinct</th>\n",
       "      <th>Office/Issue/Judgeship</th>\n",
       "      <th>Candidate</th>\n",
       "      <th>Party</th>\n",
       "      <th>Candidate Votes</th>\n",
       "      <th>Yes Votes</th>\n",
       "      <th>No Votes</th>\n",
       "      <th>VTDST5</th>\n",
       "    </tr>\n",
       "  </thead>\n",
       "  <tbody>\n",
       "    <tr>\n",
       "      <th>0</th>\n",
       "      <td>Colorado</td>\n",
       "      <td>2016</td>\n",
       "      <td>G</td>\n",
       "      <td>Adams</td>\n",
       "      <td>4253001245</td>\n",
       "      <td>President/Vice President</td>\n",
       "      <td>Hillary Clinton / Tim Kaine</td>\n",
       "      <td>Democratic Party</td>\n",
       "      <td>63</td>\n",
       "      <td>0</td>\n",
       "      <td>0</td>\n",
       "      <td>01245</td>\n",
       "    </tr>\n",
       "    <tr>\n",
       "      <th>1</th>\n",
       "      <td>Colorado</td>\n",
       "      <td>2016</td>\n",
       "      <td>G</td>\n",
       "      <td>Adams</td>\n",
       "      <td>4253001245</td>\n",
       "      <td>President/Vice President</td>\n",
       "      <td>Donald J. Trump / Michael R. Pence</td>\n",
       "      <td>Republican Party</td>\n",
       "      <td>259</td>\n",
       "      <td>0</td>\n",
       "      <td>0</td>\n",
       "      <td>01245</td>\n",
       "    </tr>\n",
       "    <tr>\n",
       "      <th>2</th>\n",
       "      <td>Colorado</td>\n",
       "      <td>2016</td>\n",
       "      <td>G</td>\n",
       "      <td>Adams</td>\n",
       "      <td>4253001245</td>\n",
       "      <td>President/Vice President</td>\n",
       "      <td>Darrell L. Castle / Scott N. Bradley</td>\n",
       "      <td>American Constitution Party</td>\n",
       "      <td>0</td>\n",
       "      <td>0</td>\n",
       "      <td>0</td>\n",
       "      <td>01245</td>\n",
       "    </tr>\n",
       "    <tr>\n",
       "      <th>3</th>\n",
       "      <td>Colorado</td>\n",
       "      <td>2016</td>\n",
       "      <td>G</td>\n",
       "      <td>Adams</td>\n",
       "      <td>4253001245</td>\n",
       "      <td>President/Vice President</td>\n",
       "      <td>Gary Johnson / Bill Weld</td>\n",
       "      <td>Libertarian Party</td>\n",
       "      <td>12</td>\n",
       "      <td>0</td>\n",
       "      <td>0</td>\n",
       "      <td>01245</td>\n",
       "    </tr>\n",
       "    <tr>\n",
       "      <th>4</th>\n",
       "      <td>Colorado</td>\n",
       "      <td>2016</td>\n",
       "      <td>G</td>\n",
       "      <td>Adams</td>\n",
       "      <td>4253001245</td>\n",
       "      <td>President/Vice President</td>\n",
       "      <td>Jill Stein / Ajamu Baraka</td>\n",
       "      <td>Green Party</td>\n",
       "      <td>0</td>\n",
       "      <td>0</td>\n",
       "      <td>0</td>\n",
       "      <td>01245</td>\n",
       "    </tr>\n",
       "  </tbody>\n",
       "</table>\n",
       "</div>"
      ],
      "text/plain": [
       "      State  Year Election Type County    Precinct    Office/Issue/Judgeship  \\\n",
       "0  Colorado  2016             G  Adams  4253001245  President/Vice President   \n",
       "1  Colorado  2016             G  Adams  4253001245  President/Vice President   \n",
       "2  Colorado  2016             G  Adams  4253001245  President/Vice President   \n",
       "3  Colorado  2016             G  Adams  4253001245  President/Vice President   \n",
       "4  Colorado  2016             G  Adams  4253001245  President/Vice President   \n",
       "\n",
       "                              Candidate                        Party  \\\n",
       "0           Hillary Clinton / Tim Kaine             Democratic Party   \n",
       "1    Donald J. Trump / Michael R. Pence             Republican Party   \n",
       "2  Darrell L. Castle / Scott N. Bradley  American Constitution Party   \n",
       "3              Gary Johnson / Bill Weld            Libertarian Party   \n",
       "4             Jill Stein / Ajamu Baraka                  Green Party   \n",
       "\n",
       "   Candidate Votes  Yes Votes  No Votes VTDST5  \n",
       "0               63          0         0  01245  \n",
       "1              259          0         0  01245  \n",
       "2                0          0         0  01245  \n",
       "3               12          0         0  01245  \n",
       "4                0          0         0  01245  "
      ]
     },
     "execution_count": 17,
     "metadata": {},
     "output_type": "execute_result"
    }
   ],
   "source": [
    "results_2016[\"Yes Votes\"] = results_2016[\"Yes Votes\"].fillna(0).astype(int)\n",
    "results_2016[\"No Votes\"] = results_2016[\"No Votes\"].fillna(0).astype(int)\n",
    "results_2016[\"VTDST5\"] = results_2016[\"Precinct\"].map(lambda x: str(x)[-5:])\n",
    "results_2016.head()"
   ]
  },
  {
   "cell_type": "code",
   "execution_count": 7,
   "metadata": {
    "ExecuteTime": {
     "end_time": "2020-03-13T16:44:46.704688Z",
     "start_time": "2020-03-13T16:44:46.651210Z"
    }
   },
   "outputs": [
    {
     "name": "stdout",
     "output_type": "stream",
     "text": [
      "<class 'pandas.core.frame.DataFrame'>\n",
      "RangeIndex: 170145 entries, 0 to 170144\n",
      "Data columns (total 11 columns):\n",
      " #   Column                  Non-Null Count   Dtype \n",
      "---  ------                  --------------   ----- \n",
      " 0   State                   170145 non-null  object\n",
      " 1   Year                    170145 non-null  int64 \n",
      " 2   Election Type           170145 non-null  object\n",
      " 3   County                  170145 non-null  object\n",
      " 4   Precinct                170145 non-null  int64 \n",
      " 5   Office/Issue/Judgeship  170145 non-null  object\n",
      " 6   Candidate               129377 non-null  object\n",
      " 7   Party                   86795 non-null   object\n",
      " 8   Candidate Votes         170145 non-null  int64 \n",
      " 9   Yes Votes               170145 non-null  int64 \n",
      " 10  No Votes                170145 non-null  int64 \n",
      "dtypes: int64(5), object(6)\n",
      "memory usage: 14.3+ MB\n"
     ]
    }
   ],
   "source": [
    "results_2018.info()"
   ]
  },
  {
   "cell_type": "code",
   "execution_count": 18,
   "metadata": {
    "ExecuteTime": {
     "end_time": "2020-03-13T16:49:25.023200Z",
     "start_time": "2020-03-13T16:49:24.926011Z"
    }
   },
   "outputs": [
    {
     "data": {
      "text/html": [
       "<div>\n",
       "<style scoped>\n",
       "    .dataframe tbody tr th:only-of-type {\n",
       "        vertical-align: middle;\n",
       "    }\n",
       "\n",
       "    .dataframe tbody tr th {\n",
       "        vertical-align: top;\n",
       "    }\n",
       "\n",
       "    .dataframe thead th {\n",
       "        text-align: right;\n",
       "    }\n",
       "</style>\n",
       "<table border=\"1\" class=\"dataframe\">\n",
       "  <thead>\n",
       "    <tr style=\"text-align: right;\">\n",
       "      <th></th>\n",
       "      <th>State</th>\n",
       "      <th>Year</th>\n",
       "      <th>Election Type</th>\n",
       "      <th>County</th>\n",
       "      <th>Precinct</th>\n",
       "      <th>Office/Issue/Judgeship</th>\n",
       "      <th>Candidate</th>\n",
       "      <th>Party</th>\n",
       "      <th>Candidate Votes</th>\n",
       "      <th>Yes Votes</th>\n",
       "      <th>No Votes</th>\n",
       "      <th>VTDST5</th>\n",
       "    </tr>\n",
       "  </thead>\n",
       "  <tbody>\n",
       "    <tr>\n",
       "      <th>0</th>\n",
       "      <td>Colorado</td>\n",
       "      <td>2018</td>\n",
       "      <td>G</td>\n",
       "      <td>Adams</td>\n",
       "      <td>4253001245</td>\n",
       "      <td>United States Representative - District 4</td>\n",
       "      <td>Karen McCormick</td>\n",
       "      <td>Democratic Party</td>\n",
       "      <td>62</td>\n",
       "      <td>0</td>\n",
       "      <td>0</td>\n",
       "      <td>01245</td>\n",
       "    </tr>\n",
       "    <tr>\n",
       "      <th>1</th>\n",
       "      <td>Colorado</td>\n",
       "      <td>2018</td>\n",
       "      <td>G</td>\n",
       "      <td>Adams</td>\n",
       "      <td>4253001245</td>\n",
       "      <td>United States Representative - District 4</td>\n",
       "      <td>Ken Buck</td>\n",
       "      <td>Republican Party</td>\n",
       "      <td>223</td>\n",
       "      <td>0</td>\n",
       "      <td>0</td>\n",
       "      <td>01245</td>\n",
       "    </tr>\n",
       "    <tr>\n",
       "      <th>2</th>\n",
       "      <td>Colorado</td>\n",
       "      <td>2018</td>\n",
       "      <td>G</td>\n",
       "      <td>Adams</td>\n",
       "      <td>4253001245</td>\n",
       "      <td>United States Representative - District 4</td>\n",
       "      <td>Richard Lyons Weil</td>\n",
       "      <td>Democratic Party</td>\n",
       "      <td>0</td>\n",
       "      <td>0</td>\n",
       "      <td>0</td>\n",
       "      <td>01245</td>\n",
       "    </tr>\n",
       "    <tr>\n",
       "      <th>3</th>\n",
       "      <td>Colorado</td>\n",
       "      <td>2018</td>\n",
       "      <td>G</td>\n",
       "      <td>Adams</td>\n",
       "      <td>4253001245</td>\n",
       "      <td>United States Representative - District 4</td>\n",
       "      <td>John B. Vigil</td>\n",
       "      <td>Green Party</td>\n",
       "      <td>0</td>\n",
       "      <td>0</td>\n",
       "      <td>0</td>\n",
       "      <td>01245</td>\n",
       "    </tr>\n",
       "    <tr>\n",
       "      <th>4</th>\n",
       "      <td>Colorado</td>\n",
       "      <td>2018</td>\n",
       "      <td>G</td>\n",
       "      <td>Adams</td>\n",
       "      <td>4253001245</td>\n",
       "      <td>Governor</td>\n",
       "      <td>Jared Polis / Dianne Primavera</td>\n",
       "      <td>Democratic Party</td>\n",
       "      <td>59</td>\n",
       "      <td>0</td>\n",
       "      <td>0</td>\n",
       "      <td>01245</td>\n",
       "    </tr>\n",
       "  </tbody>\n",
       "</table>\n",
       "</div>"
      ],
      "text/plain": [
       "      State  Year Election Type County    Precinct  \\\n",
       "0  Colorado  2018             G  Adams  4253001245   \n",
       "1  Colorado  2018             G  Adams  4253001245   \n",
       "2  Colorado  2018             G  Adams  4253001245   \n",
       "3  Colorado  2018             G  Adams  4253001245   \n",
       "4  Colorado  2018             G  Adams  4253001245   \n",
       "\n",
       "                      Office/Issue/Judgeship                       Candidate  \\\n",
       "0  United States Representative - District 4                 Karen McCormick   \n",
       "1  United States Representative - District 4                        Ken Buck   \n",
       "2  United States Representative - District 4              Richard Lyons Weil   \n",
       "3  United States Representative - District 4                   John B. Vigil   \n",
       "4                                   Governor  Jared Polis / Dianne Primavera   \n",
       "\n",
       "              Party  Candidate Votes  Yes Votes  No Votes VTDST5  \n",
       "0  Democratic Party               62          0         0  01245  \n",
       "1  Republican Party              223          0         0  01245  \n",
       "2  Democratic Party                0          0         0  01245  \n",
       "3       Green Party                0          0         0  01245  \n",
       "4  Democratic Party               59          0         0  01245  "
      ]
     },
     "execution_count": 18,
     "metadata": {},
     "output_type": "execute_result"
    }
   ],
   "source": [
    "results_2018[\"Precinct\"] = results_2018[\"Precinct\"].astype(str)\n",
    "results_2018[\"VTDST5\"] = results_2018[\"Precinct\"].map(lambda x: str(x)[-5:])\n",
    "results_2018.head()"
   ]
  },
  {
   "cell_type": "markdown",
   "metadata": {},
   "source": [
    "How many precincts are in each year?"
   ]
  },
  {
   "cell_type": "code",
   "execution_count": 19,
   "metadata": {
    "ExecuteTime": {
     "end_time": "2020-03-13T16:49:30.684483Z",
     "start_time": "2020-03-13T16:49:30.681723Z"
    }
   },
   "outputs": [],
   "source": [
    "def get_precinct_count(df):\n",
    "    return len(list(set(df[\"Precinct\"].values)))"
   ]
  },
  {
   "cell_type": "code",
   "execution_count": 20,
   "metadata": {
    "ExecuteTime": {
     "end_time": "2020-03-13T16:49:32.065005Z",
     "start_time": "2020-03-13T16:49:32.042256Z"
    }
   },
   "outputs": [
    {
     "data": {
      "text/plain": [
       "[2913, 3011, 3136]"
      ]
     },
     "execution_count": 20,
     "metadata": {},
     "output_type": "execute_result"
    }
   ],
   "source": [
    "[get_precinct_count(df) for df in results]"
   ]
  },
  {
   "cell_type": "markdown",
   "metadata": {},
   "source": [
    "# Load Shapefiles"
   ]
  },
  {
   "cell_type": "code",
   "execution_count": 11,
   "metadata": {
    "ExecuteTime": {
     "end_time": "2020-03-13T16:44:58.454349Z",
     "start_time": "2020-03-13T16:44:46.846337Z"
    }
   },
   "outputs": [],
   "source": [
    "path = \"../data/processed/precincts/\"\n",
    "\n",
    "shapes_2016 = gpd.read_file(path + \"precincts_2016.geojson\")\n",
    "shapes_2018 = gpd.read_file(path + \"precincts_2018.geojson\")"
   ]
  },
  {
   "cell_type": "code",
   "execution_count": 12,
   "metadata": {
    "ExecuteTime": {
     "end_time": "2020-03-13T16:46:53.075861Z",
     "start_time": "2020-03-13T16:46:53.071730Z"
    }
   },
   "outputs": [
    {
     "data": {
      "text/plain": [
       "[3009, 3135]"
      ]
     },
     "execution_count": 12,
     "metadata": {},
     "output_type": "execute_result"
    }
   ],
   "source": [
    "shapes = [shapes_2016, shapes_2018]\n",
    "[len(shape) for shape in shapes]"
   ]
  },
  {
   "cell_type": "markdown",
   "metadata": {},
   "source": [
    "# 2016 overlap"
   ]
  },
  {
   "cell_type": "code",
   "execution_count": 28,
   "metadata": {
    "ExecuteTime": {
     "end_time": "2020-03-13T16:57:48.110275Z",
     "start_time": "2020-03-13T16:57:48.105747Z"
    }
   },
   "outputs": [],
   "source": [
    "def shapes_not_in_results(shapes, results):\n",
    "    vec = np.array([a not in results.VTDST5.values for a in shapes.VTDST5.values])\n",
    "    return list(set(shapes[vec].VTDST5.values))\n",
    "\n",
    "def results_not_in_shapes(shapes, results):\n",
    "    vec = np.array([a not in shapes.VTDST5.values for a in results.VTDST5.values])\n",
    "    return list(set(results[vec].VTDST5.values))"
   ]
  },
  {
   "cell_type": "code",
   "execution_count": 31,
   "metadata": {
    "ExecuteTime": {
     "end_time": "2020-03-13T16:59:51.276184Z",
     "start_time": "2020-03-13T16:59:21.136249Z"
    }
   },
   "outputs": [
    {
     "name": "stdout",
     "output_type": "stream",
     "text": [
      "['36015', 'ional']\n",
      "[]\n"
     ]
    }
   ],
   "source": [
    "print(results_not_in_shapes(shapes_2016, results_2016))\n",
    "print(shapes_not_in_results(shapes_2016, results_2016))"
   ]
  },
  {
   "cell_type": "markdown",
   "metadata": {},
   "source": [
    "# 2018 overlap"
   ]
  },
  {
   "cell_type": "code",
   "execution_count": 32,
   "metadata": {
    "ExecuteTime": {
     "end_time": "2020-03-13T17:00:16.299070Z",
     "start_time": "2020-03-13T16:59:51.278637Z"
    }
   },
   "outputs": [
    {
     "name": "stdout",
     "output_type": "stream",
     "text": [
      "['20003']\n",
      "[]\n"
     ]
    }
   ],
   "source": [
    "print(results_not_in_shapes(shapes_2018, results_2018))\n",
    "print(shapes_not_in_results(shapes_2018, results_2018))"
   ]
  },
  {
   "cell_type": "markdown",
   "metadata": {},
   "source": [
    "# 2014 overlap with 2016 shapefiles"
   ]
  },
  {
   "cell_type": "code",
   "execution_count": 35,
   "metadata": {
    "ExecuteTime": {
     "end_time": "2020-03-13T17:08:07.130151Z",
     "start_time": "2020-03-13T17:07:46.338149Z"
    }
   },
   "outputs": [
    {
     "name": "stdout",
     "output_type": "stream",
     "text": [
      "['62201', 'ional', '01251', '01250', '64038', '36015']\n",
      "['18352', '21447', '35810', '30258', '35434', '18117', '62141', '21642', '21208', '21643', '21222', '62233', '21805', '62210', '21317', '03369', '18351', '03377', '03373', '21245', '21167', '18353', '21186', '18350', '62332', '62140', '21614', '03285', '18266', '21168', '21619', '62336', '21624', '35333', '62225', '21196', '35239', '21188', '21408', '21615', '21446', '62113', '62309', '35334', '03376', '62133', '03284', '35543', '62339', '03368', '21116', '21223', '21409', '21164', '21625', '21407', '21630', '18265', '21119', '62329', '62134', '62105', '35336', '21163', '18115', '21605', '21117', '21132', '03375', '62218', '03371', '21209', '21221', '21165', '18116', '21169', '62206', '21616', '62227', '03367', '35335', '18354', '03370', '21166', '03372', '35238', '62320', '35542', '21244', '62340', '35240', '03374', '21185', '21187', '03366', '21421', '62139', '62219', '21416', '62209', '21118', '62327']\n"
     ]
    }
   ],
   "source": [
    "leftover_results = results_not_in_shapes(shapes_2016, results_2014)\n",
    "leftover_shapes = shapes_not_in_results(shapes_2016, results_2014)\n",
    "print(leftover_results)\n",
    "print(leftover_shapes)"
   ]
  },
  {
   "cell_type": "code",
   "execution_count": 36,
   "metadata": {
    "ExecuteTime": {
     "end_time": "2020-03-13T17:08:15.006180Z",
     "start_time": "2020-03-13T17:08:15.001720Z"
    }
   },
   "outputs": [
    {
     "data": {
      "text/plain": [
       "102"
      ]
     },
     "execution_count": 36,
     "metadata": {},
     "output_type": "execute_result"
    }
   ],
   "source": [
    "len(leftover_shapes)"
   ]
  },
  {
   "cell_type": "code",
   "execution_count": 37,
   "metadata": {
    "ExecuteTime": {
     "end_time": "2020-03-13T17:08:21.426437Z",
     "start_time": "2020-03-13T17:08:21.422548Z"
    }
   },
   "outputs": [
    {
     "data": {
      "text/plain": [
       "0.034"
      ]
     },
     "execution_count": 37,
     "metadata": {},
     "output_type": "execute_result"
    }
   ],
   "source": [
    "102/3000"
   ]
  },
  {
   "cell_type": "code",
   "execution_count": null,
   "metadata": {},
   "outputs": [],
   "source": []
  }
 ],
 "metadata": {
  "kernelspec": {
   "display_name": "Python 3",
   "language": "python",
   "name": "python3"
  },
  "language_info": {
   "codemirror_mode": {
    "name": "ipython",
    "version": 3
   },
   "file_extension": ".py",
   "mimetype": "text/x-python",
   "name": "python",
   "nbconvert_exporter": "python",
   "pygments_lexer": "ipython3",
   "version": "3.7.6"
  },
  "toc": {
   "base_numbering": 1,
   "nav_menu": {},
   "number_sections": true,
   "sideBar": true,
   "skip_h1_title": false,
   "title_cell": "Table of Contents",
   "title_sidebar": "Contents",
   "toc_cell": false,
   "toc_position": {},
   "toc_section_display": true,
   "toc_window_display": false
  }
 },
 "nbformat": 4,
 "nbformat_minor": 4
}
